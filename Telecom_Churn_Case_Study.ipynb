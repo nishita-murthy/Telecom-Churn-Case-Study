{
 "cells": [
  {
   "cell_type": "markdown",
   "id": "c0092764",
   "metadata": {},
   "source": [
    "# TELECOM CHURN CASE STUDY"
   ]
  },
  {
   "cell_type": "markdown",
   "id": "0f9ee221",
   "metadata": {},
   "source": [
    "## Problem Statement"
   ]
  },
  {
   "cell_type": "markdown",
   "id": "16dd9e8a",
   "metadata": {},
   "source": [
    "In the telecom industry, customers are able to choose from multiple service providers and actively switch from one operator to another. In this highly competitive market, the telecommunications industry experiences an average of 15-25% annual churn rate. Given the fact that it costs 5-10 times more to acquire a new customer than to retain an existing one, customer retention has now become even more important than customer acquisition.\n",
    "\n",
    "For many incumbent operators, retaining high profitable customers is the number one business goal.\n",
    "To reduce customer churn, telecom companies need to predict which customers are at high risk of churn.\n",
    "\n",
    "In this project, we will analyse customer-level data of a leading telecom firm, build predictive models to identify customers at high risk of churn and identify the main indicators of churn."
   ]
  },
  {
   "cell_type": "markdown",
   "id": "c02068f1",
   "metadata": {},
   "source": [
    "Steps included are:\n",
    "* Step 1: Importing, reading and understanding the data\n",
    "* Step 2: Data cleaning\n",
    "* Step 3: Performing EDA\n",
    "* Step 4: Modelling : PCA\n",
    "* Step 5: Feature importance\n",
    "* Conclusion"
   ]
  },
  {
   "cell_type": "markdown",
   "id": "752b9ac3",
   "metadata": {},
   "source": [
    "## Step 1: Importing, reading and understanding the data"
   ]
  },
  {
   "cell_type": "code",
   "execution_count": 1,
   "id": "abbccd04",
   "metadata": {},
   "outputs": [
    {
     "name": "stdout",
     "output_type": "stream",
     "text": [
      "Requirement already satisfied: xgboost in c:\\users\\kmurthyn\\anaconda3\\lib\\site-packages (1.6.0)\n",
      "Requirement already satisfied: scipy in c:\\users\\kmurthyn\\anaconda3\\lib\\site-packages (from xgboost) (1.7.1)\n",
      "Requirement already satisfied: numpy in c:\\users\\kmurthyn\\anaconda3\\lib\\site-packages (from xgboost) (1.20.3)\n",
      "Requirement already satisfied: imblearn in c:\\users\\kmurthyn\\anaconda3\\lib\\site-packages (0.0)\n",
      "Requirement already satisfied: imbalanced-learn in c:\\users\\kmurthyn\\anaconda3\\lib\\site-packages (from imblearn) (0.9.0)\n",
      "Requirement already satisfied: scikit-learn>=1.0.1 in c:\\users\\kmurthyn\\anaconda3\\lib\\site-packages (from imbalanced-learn->imblearn) (1.0.2)\n",
      "Requirement already satisfied: threadpoolctl>=2.0.0 in c:\\users\\kmurthyn\\anaconda3\\lib\\site-packages (from imbalanced-learn->imblearn) (2.2.0)\n",
      "Requirement already satisfied: numpy>=1.14.6 in c:\\users\\kmurthyn\\anaconda3\\lib\\site-packages (from imbalanced-learn->imblearn) (1.20.3)\n",
      "Requirement already satisfied: scipy>=1.1.0 in c:\\users\\kmurthyn\\anaconda3\\lib\\site-packages (from imbalanced-learn->imblearn) (1.7.1)\n",
      "Requirement already satisfied: joblib>=0.11 in c:\\users\\kmurthyn\\anaconda3\\lib\\site-packages (from imbalanced-learn->imblearn) (1.1.0)\n"
     ]
    }
   ],
   "source": [
    "# Importing the required libraries\n",
    "\n",
    "import pandas as pd\n",
    "import numpy as np\n",
    "import matplotlib.pyplot as plt\n",
    "import seaborn as sns\n",
    "\n",
    "from sklearn.model_selection import train_test_split, GridSearchCV\n",
    "from sklearn.ensemble import GradientBoostingClassifier, RandomForestClassifier\n",
    "from sklearn.preprocessing import MinMaxScaler,StandardScaler\n",
    "from sklearn.decomposition import PCA\n",
    "from sklearn import metrics\n",
    "from sklearn.model_selection import RandomizedSearchCV\n",
    "\n",
    "from sklearn.model_selection import cross_val_score\n",
    "from sklearn.linear_model import LogisticRegression\n",
    "\n",
    "from sklearn.tree import DecisionTreeClassifier\n",
    "\n",
    "from sklearn.ensemble import GradientBoostingClassifier\n",
    "\n",
    "!pip install xgboost\n",
    "import xgboost as xgb\n",
    "\n",
    "!pip3 install imblearn\n",
    "from imblearn.over_sampling import SMOTE\n",
    "\n",
    "# Getting rid of any warning messages\n",
    "\n",
    "import warnings\n",
    "warnings.filterwarnings('ignore')"
   ]
  },
  {
   "cell_type": "code",
   "execution_count": 2,
   "id": "3087e4ba",
   "metadata": {},
   "outputs": [],
   "source": [
    "# Reading the data set\n",
    "\n",
    "telecom = pd.read_csv(\"telecom_churn_data.csv\")"
   ]
  },
  {
   "cell_type": "code",
   "execution_count": 3,
   "id": "82739d1a",
   "metadata": {},
   "outputs": [
    {
     "data": {
      "text/html": [
       "<div>\n",
       "<style scoped>\n",
       "    .dataframe tbody tr th:only-of-type {\n",
       "        vertical-align: middle;\n",
       "    }\n",
       "\n",
       "    .dataframe tbody tr th {\n",
       "        vertical-align: top;\n",
       "    }\n",
       "\n",
       "    .dataframe thead th {\n",
       "        text-align: right;\n",
       "    }\n",
       "</style>\n",
       "<table border=\"1\" class=\"dataframe\">\n",
       "  <thead>\n",
       "    <tr style=\"text-align: right;\">\n",
       "      <th></th>\n",
       "      <th>mobile_number</th>\n",
       "      <th>circle_id</th>\n",
       "      <th>loc_og_t2o_mou</th>\n",
       "      <th>std_og_t2o_mou</th>\n",
       "      <th>loc_ic_t2o_mou</th>\n",
       "      <th>last_date_of_month_6</th>\n",
       "      <th>last_date_of_month_7</th>\n",
       "      <th>last_date_of_month_8</th>\n",
       "      <th>last_date_of_month_9</th>\n",
       "      <th>arpu_6</th>\n",
       "      <th>...</th>\n",
       "      <th>sachet_3g_9</th>\n",
       "      <th>fb_user_6</th>\n",
       "      <th>fb_user_7</th>\n",
       "      <th>fb_user_8</th>\n",
       "      <th>fb_user_9</th>\n",
       "      <th>aon</th>\n",
       "      <th>aug_vbc_3g</th>\n",
       "      <th>jul_vbc_3g</th>\n",
       "      <th>jun_vbc_3g</th>\n",
       "      <th>sep_vbc_3g</th>\n",
       "    </tr>\n",
       "  </thead>\n",
       "  <tbody>\n",
       "    <tr>\n",
       "      <th>0</th>\n",
       "      <td>7000842753</td>\n",
       "      <td>109</td>\n",
       "      <td>0.0</td>\n",
       "      <td>0.0</td>\n",
       "      <td>0.0</td>\n",
       "      <td>6/30/2014</td>\n",
       "      <td>7/31/2014</td>\n",
       "      <td>8/31/2014</td>\n",
       "      <td>9/30/2014</td>\n",
       "      <td>197.385</td>\n",
       "      <td>...</td>\n",
       "      <td>0</td>\n",
       "      <td>1.0</td>\n",
       "      <td>1.0</td>\n",
       "      <td>1.0</td>\n",
       "      <td>NaN</td>\n",
       "      <td>968</td>\n",
       "      <td>30.4</td>\n",
       "      <td>0.0</td>\n",
       "      <td>101.20</td>\n",
       "      <td>3.58</td>\n",
       "    </tr>\n",
       "    <tr>\n",
       "      <th>1</th>\n",
       "      <td>7001865778</td>\n",
       "      <td>109</td>\n",
       "      <td>0.0</td>\n",
       "      <td>0.0</td>\n",
       "      <td>0.0</td>\n",
       "      <td>6/30/2014</td>\n",
       "      <td>7/31/2014</td>\n",
       "      <td>8/31/2014</td>\n",
       "      <td>9/30/2014</td>\n",
       "      <td>34.047</td>\n",
       "      <td>...</td>\n",
       "      <td>0</td>\n",
       "      <td>NaN</td>\n",
       "      <td>1.0</td>\n",
       "      <td>1.0</td>\n",
       "      <td>NaN</td>\n",
       "      <td>1006</td>\n",
       "      <td>0.0</td>\n",
       "      <td>0.0</td>\n",
       "      <td>0.00</td>\n",
       "      <td>0.00</td>\n",
       "    </tr>\n",
       "    <tr>\n",
       "      <th>2</th>\n",
       "      <td>7001625959</td>\n",
       "      <td>109</td>\n",
       "      <td>0.0</td>\n",
       "      <td>0.0</td>\n",
       "      <td>0.0</td>\n",
       "      <td>6/30/2014</td>\n",
       "      <td>7/31/2014</td>\n",
       "      <td>8/31/2014</td>\n",
       "      <td>9/30/2014</td>\n",
       "      <td>167.690</td>\n",
       "      <td>...</td>\n",
       "      <td>0</td>\n",
       "      <td>NaN</td>\n",
       "      <td>NaN</td>\n",
       "      <td>NaN</td>\n",
       "      <td>1.0</td>\n",
       "      <td>1103</td>\n",
       "      <td>0.0</td>\n",
       "      <td>0.0</td>\n",
       "      <td>4.17</td>\n",
       "      <td>0.00</td>\n",
       "    </tr>\n",
       "    <tr>\n",
       "      <th>3</th>\n",
       "      <td>7001204172</td>\n",
       "      <td>109</td>\n",
       "      <td>0.0</td>\n",
       "      <td>0.0</td>\n",
       "      <td>0.0</td>\n",
       "      <td>6/30/2014</td>\n",
       "      <td>7/31/2014</td>\n",
       "      <td>8/31/2014</td>\n",
       "      <td>9/30/2014</td>\n",
       "      <td>221.338</td>\n",
       "      <td>...</td>\n",
       "      <td>0</td>\n",
       "      <td>NaN</td>\n",
       "      <td>NaN</td>\n",
       "      <td>NaN</td>\n",
       "      <td>NaN</td>\n",
       "      <td>2491</td>\n",
       "      <td>0.0</td>\n",
       "      <td>0.0</td>\n",
       "      <td>0.00</td>\n",
       "      <td>0.00</td>\n",
       "    </tr>\n",
       "    <tr>\n",
       "      <th>4</th>\n",
       "      <td>7000142493</td>\n",
       "      <td>109</td>\n",
       "      <td>0.0</td>\n",
       "      <td>0.0</td>\n",
       "      <td>0.0</td>\n",
       "      <td>6/30/2014</td>\n",
       "      <td>7/31/2014</td>\n",
       "      <td>8/31/2014</td>\n",
       "      <td>9/30/2014</td>\n",
       "      <td>261.636</td>\n",
       "      <td>...</td>\n",
       "      <td>0</td>\n",
       "      <td>0.0</td>\n",
       "      <td>NaN</td>\n",
       "      <td>NaN</td>\n",
       "      <td>NaN</td>\n",
       "      <td>1526</td>\n",
       "      <td>0.0</td>\n",
       "      <td>0.0</td>\n",
       "      <td>0.00</td>\n",
       "      <td>0.00</td>\n",
       "    </tr>\n",
       "  </tbody>\n",
       "</table>\n",
       "<p>5 rows × 226 columns</p>\n",
       "</div>"
      ],
      "text/plain": [
       "   mobile_number  circle_id  loc_og_t2o_mou  std_og_t2o_mou  loc_ic_t2o_mou  \\\n",
       "0     7000842753        109             0.0             0.0             0.0   \n",
       "1     7001865778        109             0.0             0.0             0.0   \n",
       "2     7001625959        109             0.0             0.0             0.0   \n",
       "3     7001204172        109             0.0             0.0             0.0   \n",
       "4     7000142493        109             0.0             0.0             0.0   \n",
       "\n",
       "  last_date_of_month_6 last_date_of_month_7 last_date_of_month_8  \\\n",
       "0            6/30/2014            7/31/2014            8/31/2014   \n",
       "1            6/30/2014            7/31/2014            8/31/2014   \n",
       "2            6/30/2014            7/31/2014            8/31/2014   \n",
       "3            6/30/2014            7/31/2014            8/31/2014   \n",
       "4            6/30/2014            7/31/2014            8/31/2014   \n",
       "\n",
       "  last_date_of_month_9   arpu_6  ...  sachet_3g_9  fb_user_6  fb_user_7  \\\n",
       "0            9/30/2014  197.385  ...            0        1.0        1.0   \n",
       "1            9/30/2014   34.047  ...            0        NaN        1.0   \n",
       "2            9/30/2014  167.690  ...            0        NaN        NaN   \n",
       "3            9/30/2014  221.338  ...            0        NaN        NaN   \n",
       "4            9/30/2014  261.636  ...            0        0.0        NaN   \n",
       "\n",
       "   fb_user_8  fb_user_9   aon  aug_vbc_3g  jul_vbc_3g  jun_vbc_3g  sep_vbc_3g  \n",
       "0        1.0        NaN   968        30.4         0.0      101.20        3.58  \n",
       "1        1.0        NaN  1006         0.0         0.0        0.00        0.00  \n",
       "2        NaN        1.0  1103         0.0         0.0        4.17        0.00  \n",
       "3        NaN        NaN  2491         0.0         0.0        0.00        0.00  \n",
       "4        NaN        NaN  1526         0.0         0.0        0.00        0.00  \n",
       "\n",
       "[5 rows x 226 columns]"
      ]
     },
     "execution_count": 3,
     "metadata": {},
     "output_type": "execute_result"
    }
   ],
   "source": [
    "# Understand a sample of the dataset\n",
    "\n",
    "telecom.head()"
   ]
  },
  {
   "cell_type": "markdown",
   "id": "1b253544",
   "metadata": {},
   "source": [
    "We have 5 rows & 226 columns in the dataset"
   ]
  },
  {
   "cell_type": "code",
   "execution_count": 4,
   "id": "d4e8fabe",
   "metadata": {},
   "outputs": [
    {
     "data": {
      "text/html": [
       "<div>\n",
       "<style scoped>\n",
       "    .dataframe tbody tr th:only-of-type {\n",
       "        vertical-align: middle;\n",
       "    }\n",
       "\n",
       "    .dataframe tbody tr th {\n",
       "        vertical-align: top;\n",
       "    }\n",
       "\n",
       "    .dataframe thead th {\n",
       "        text-align: right;\n",
       "    }\n",
       "</style>\n",
       "<table border=\"1\" class=\"dataframe\">\n",
       "  <thead>\n",
       "    <tr style=\"text-align: right;\">\n",
       "      <th></th>\n",
       "      <th>mobile_number</th>\n",
       "      <th>circle_id</th>\n",
       "      <th>loc_og_t2o_mou</th>\n",
       "      <th>std_og_t2o_mou</th>\n",
       "      <th>loc_ic_t2o_mou</th>\n",
       "      <th>last_date_of_month_6</th>\n",
       "      <th>last_date_of_month_7</th>\n",
       "      <th>last_date_of_month_8</th>\n",
       "      <th>last_date_of_month_9</th>\n",
       "      <th>arpu_6</th>\n",
       "      <th>...</th>\n",
       "      <th>sachet_3g_9</th>\n",
       "      <th>fb_user_6</th>\n",
       "      <th>fb_user_7</th>\n",
       "      <th>fb_user_8</th>\n",
       "      <th>fb_user_9</th>\n",
       "      <th>aon</th>\n",
       "      <th>aug_vbc_3g</th>\n",
       "      <th>jul_vbc_3g</th>\n",
       "      <th>jun_vbc_3g</th>\n",
       "      <th>sep_vbc_3g</th>\n",
       "    </tr>\n",
       "  </thead>\n",
       "  <tbody>\n",
       "    <tr>\n",
       "      <th>count</th>\n",
       "      <td>9.999900e+04</td>\n",
       "      <td>99999.0</td>\n",
       "      <td>98981.0</td>\n",
       "      <td>98981.0</td>\n",
       "      <td>98981.0</td>\n",
       "      <td>99999</td>\n",
       "      <td>99398</td>\n",
       "      <td>98899</td>\n",
       "      <td>98340</td>\n",
       "      <td>99999.000000</td>\n",
       "      <td>...</td>\n",
       "      <td>99999.000000</td>\n",
       "      <td>25153.000000</td>\n",
       "      <td>25571.000000</td>\n",
       "      <td>26339.000000</td>\n",
       "      <td>25922.000000</td>\n",
       "      <td>99999.000000</td>\n",
       "      <td>99999.000000</td>\n",
       "      <td>99999.000000</td>\n",
       "      <td>99999.000000</td>\n",
       "      <td>99999.000000</td>\n",
       "    </tr>\n",
       "    <tr>\n",
       "      <th>unique</th>\n",
       "      <td>NaN</td>\n",
       "      <td>NaN</td>\n",
       "      <td>NaN</td>\n",
       "      <td>NaN</td>\n",
       "      <td>NaN</td>\n",
       "      <td>1</td>\n",
       "      <td>1</td>\n",
       "      <td>1</td>\n",
       "      <td>1</td>\n",
       "      <td>NaN</td>\n",
       "      <td>...</td>\n",
       "      <td>NaN</td>\n",
       "      <td>NaN</td>\n",
       "      <td>NaN</td>\n",
       "      <td>NaN</td>\n",
       "      <td>NaN</td>\n",
       "      <td>NaN</td>\n",
       "      <td>NaN</td>\n",
       "      <td>NaN</td>\n",
       "      <td>NaN</td>\n",
       "      <td>NaN</td>\n",
       "    </tr>\n",
       "    <tr>\n",
       "      <th>top</th>\n",
       "      <td>NaN</td>\n",
       "      <td>NaN</td>\n",
       "      <td>NaN</td>\n",
       "      <td>NaN</td>\n",
       "      <td>NaN</td>\n",
       "      <td>6/30/2014</td>\n",
       "      <td>7/31/2014</td>\n",
       "      <td>8/31/2014</td>\n",
       "      <td>9/30/2014</td>\n",
       "      <td>NaN</td>\n",
       "      <td>...</td>\n",
       "      <td>NaN</td>\n",
       "      <td>NaN</td>\n",
       "      <td>NaN</td>\n",
       "      <td>NaN</td>\n",
       "      <td>NaN</td>\n",
       "      <td>NaN</td>\n",
       "      <td>NaN</td>\n",
       "      <td>NaN</td>\n",
       "      <td>NaN</td>\n",
       "      <td>NaN</td>\n",
       "    </tr>\n",
       "    <tr>\n",
       "      <th>freq</th>\n",
       "      <td>NaN</td>\n",
       "      <td>NaN</td>\n",
       "      <td>NaN</td>\n",
       "      <td>NaN</td>\n",
       "      <td>NaN</td>\n",
       "      <td>99999</td>\n",
       "      <td>99398</td>\n",
       "      <td>98899</td>\n",
       "      <td>98340</td>\n",
       "      <td>NaN</td>\n",
       "      <td>...</td>\n",
       "      <td>NaN</td>\n",
       "      <td>NaN</td>\n",
       "      <td>NaN</td>\n",
       "      <td>NaN</td>\n",
       "      <td>NaN</td>\n",
       "      <td>NaN</td>\n",
       "      <td>NaN</td>\n",
       "      <td>NaN</td>\n",
       "      <td>NaN</td>\n",
       "      <td>NaN</td>\n",
       "    </tr>\n",
       "    <tr>\n",
       "      <th>mean</th>\n",
       "      <td>7.001207e+09</td>\n",
       "      <td>109.0</td>\n",
       "      <td>0.0</td>\n",
       "      <td>0.0</td>\n",
       "      <td>0.0</td>\n",
       "      <td>NaN</td>\n",
       "      <td>NaN</td>\n",
       "      <td>NaN</td>\n",
       "      <td>NaN</td>\n",
       "      <td>282.987358</td>\n",
       "      <td>...</td>\n",
       "      <td>0.084581</td>\n",
       "      <td>0.914404</td>\n",
       "      <td>0.908764</td>\n",
       "      <td>0.890808</td>\n",
       "      <td>0.860968</td>\n",
       "      <td>1219.854749</td>\n",
       "      <td>68.170248</td>\n",
       "      <td>66.839062</td>\n",
       "      <td>60.021204</td>\n",
       "      <td>3.299373</td>\n",
       "    </tr>\n",
       "    <tr>\n",
       "      <th>std</th>\n",
       "      <td>6.956694e+05</td>\n",
       "      <td>0.0</td>\n",
       "      <td>0.0</td>\n",
       "      <td>0.0</td>\n",
       "      <td>0.0</td>\n",
       "      <td>NaN</td>\n",
       "      <td>NaN</td>\n",
       "      <td>NaN</td>\n",
       "      <td>NaN</td>\n",
       "      <td>328.439770</td>\n",
       "      <td>...</td>\n",
       "      <td>0.650457</td>\n",
       "      <td>0.279772</td>\n",
       "      <td>0.287950</td>\n",
       "      <td>0.311885</td>\n",
       "      <td>0.345987</td>\n",
       "      <td>954.733842</td>\n",
       "      <td>267.580450</td>\n",
       "      <td>271.201856</td>\n",
       "      <td>253.938223</td>\n",
       "      <td>32.408353</td>\n",
       "    </tr>\n",
       "    <tr>\n",
       "      <th>min</th>\n",
       "      <td>7.000000e+09</td>\n",
       "      <td>109.0</td>\n",
       "      <td>0.0</td>\n",
       "      <td>0.0</td>\n",
       "      <td>0.0</td>\n",
       "      <td>NaN</td>\n",
       "      <td>NaN</td>\n",
       "      <td>NaN</td>\n",
       "      <td>NaN</td>\n",
       "      <td>-2258.709000</td>\n",
       "      <td>...</td>\n",
       "      <td>0.000000</td>\n",
       "      <td>0.000000</td>\n",
       "      <td>0.000000</td>\n",
       "      <td>0.000000</td>\n",
       "      <td>0.000000</td>\n",
       "      <td>180.000000</td>\n",
       "      <td>0.000000</td>\n",
       "      <td>0.000000</td>\n",
       "      <td>0.000000</td>\n",
       "      <td>0.000000</td>\n",
       "    </tr>\n",
       "    <tr>\n",
       "      <th>25%</th>\n",
       "      <td>7.000606e+09</td>\n",
       "      <td>109.0</td>\n",
       "      <td>0.0</td>\n",
       "      <td>0.0</td>\n",
       "      <td>0.0</td>\n",
       "      <td>NaN</td>\n",
       "      <td>NaN</td>\n",
       "      <td>NaN</td>\n",
       "      <td>NaN</td>\n",
       "      <td>93.411500</td>\n",
       "      <td>...</td>\n",
       "      <td>0.000000</td>\n",
       "      <td>1.000000</td>\n",
       "      <td>1.000000</td>\n",
       "      <td>1.000000</td>\n",
       "      <td>1.000000</td>\n",
       "      <td>467.000000</td>\n",
       "      <td>0.000000</td>\n",
       "      <td>0.000000</td>\n",
       "      <td>0.000000</td>\n",
       "      <td>0.000000</td>\n",
       "    </tr>\n",
       "    <tr>\n",
       "      <th>50%</th>\n",
       "      <td>7.001205e+09</td>\n",
       "      <td>109.0</td>\n",
       "      <td>0.0</td>\n",
       "      <td>0.0</td>\n",
       "      <td>0.0</td>\n",
       "      <td>NaN</td>\n",
       "      <td>NaN</td>\n",
       "      <td>NaN</td>\n",
       "      <td>NaN</td>\n",
       "      <td>197.704000</td>\n",
       "      <td>...</td>\n",
       "      <td>0.000000</td>\n",
       "      <td>1.000000</td>\n",
       "      <td>1.000000</td>\n",
       "      <td>1.000000</td>\n",
       "      <td>1.000000</td>\n",
       "      <td>863.000000</td>\n",
       "      <td>0.000000</td>\n",
       "      <td>0.000000</td>\n",
       "      <td>0.000000</td>\n",
       "      <td>0.000000</td>\n",
       "    </tr>\n",
       "    <tr>\n",
       "      <th>75%</th>\n",
       "      <td>7.001812e+09</td>\n",
       "      <td>109.0</td>\n",
       "      <td>0.0</td>\n",
       "      <td>0.0</td>\n",
       "      <td>0.0</td>\n",
       "      <td>NaN</td>\n",
       "      <td>NaN</td>\n",
       "      <td>NaN</td>\n",
       "      <td>NaN</td>\n",
       "      <td>371.060000</td>\n",
       "      <td>...</td>\n",
       "      <td>0.000000</td>\n",
       "      <td>1.000000</td>\n",
       "      <td>1.000000</td>\n",
       "      <td>1.000000</td>\n",
       "      <td>1.000000</td>\n",
       "      <td>1807.500000</td>\n",
       "      <td>0.000000</td>\n",
       "      <td>0.000000</td>\n",
       "      <td>0.000000</td>\n",
       "      <td>0.000000</td>\n",
       "    </tr>\n",
       "    <tr>\n",
       "      <th>max</th>\n",
       "      <td>7.002411e+09</td>\n",
       "      <td>109.0</td>\n",
       "      <td>0.0</td>\n",
       "      <td>0.0</td>\n",
       "      <td>0.0</td>\n",
       "      <td>NaN</td>\n",
       "      <td>NaN</td>\n",
       "      <td>NaN</td>\n",
       "      <td>NaN</td>\n",
       "      <td>27731.088000</td>\n",
       "      <td>...</td>\n",
       "      <td>49.000000</td>\n",
       "      <td>1.000000</td>\n",
       "      <td>1.000000</td>\n",
       "      <td>1.000000</td>\n",
       "      <td>1.000000</td>\n",
       "      <td>4337.000000</td>\n",
       "      <td>12916.220000</td>\n",
       "      <td>9165.600000</td>\n",
       "      <td>11166.210000</td>\n",
       "      <td>2618.570000</td>\n",
       "    </tr>\n",
       "  </tbody>\n",
       "</table>\n",
       "<p>11 rows × 226 columns</p>\n",
       "</div>"
      ],
      "text/plain": [
       "        mobile_number  circle_id  loc_og_t2o_mou  std_og_t2o_mou  \\\n",
       "count    9.999900e+04    99999.0         98981.0         98981.0   \n",
       "unique            NaN        NaN             NaN             NaN   \n",
       "top               NaN        NaN             NaN             NaN   \n",
       "freq              NaN        NaN             NaN             NaN   \n",
       "mean     7.001207e+09      109.0             0.0             0.0   \n",
       "std      6.956694e+05        0.0             0.0             0.0   \n",
       "min      7.000000e+09      109.0             0.0             0.0   \n",
       "25%      7.000606e+09      109.0             0.0             0.0   \n",
       "50%      7.001205e+09      109.0             0.0             0.0   \n",
       "75%      7.001812e+09      109.0             0.0             0.0   \n",
       "max      7.002411e+09      109.0             0.0             0.0   \n",
       "\n",
       "        loc_ic_t2o_mou last_date_of_month_6 last_date_of_month_7  \\\n",
       "count          98981.0                99999                99398   \n",
       "unique             NaN                    1                    1   \n",
       "top                NaN            6/30/2014            7/31/2014   \n",
       "freq               NaN                99999                99398   \n",
       "mean               0.0                  NaN                  NaN   \n",
       "std                0.0                  NaN                  NaN   \n",
       "min                0.0                  NaN                  NaN   \n",
       "25%                0.0                  NaN                  NaN   \n",
       "50%                0.0                  NaN                  NaN   \n",
       "75%                0.0                  NaN                  NaN   \n",
       "max                0.0                  NaN                  NaN   \n",
       "\n",
       "       last_date_of_month_8 last_date_of_month_9        arpu_6  ...  \\\n",
       "count                 98899                98340  99999.000000  ...   \n",
       "unique                    1                    1           NaN  ...   \n",
       "top               8/31/2014            9/30/2014           NaN  ...   \n",
       "freq                  98899                98340           NaN  ...   \n",
       "mean                    NaN                  NaN    282.987358  ...   \n",
       "std                     NaN                  NaN    328.439770  ...   \n",
       "min                     NaN                  NaN  -2258.709000  ...   \n",
       "25%                     NaN                  NaN     93.411500  ...   \n",
       "50%                     NaN                  NaN    197.704000  ...   \n",
       "75%                     NaN                  NaN    371.060000  ...   \n",
       "max                     NaN                  NaN  27731.088000  ...   \n",
       "\n",
       "         sachet_3g_9     fb_user_6     fb_user_7     fb_user_8     fb_user_9  \\\n",
       "count   99999.000000  25153.000000  25571.000000  26339.000000  25922.000000   \n",
       "unique           NaN           NaN           NaN           NaN           NaN   \n",
       "top              NaN           NaN           NaN           NaN           NaN   \n",
       "freq             NaN           NaN           NaN           NaN           NaN   \n",
       "mean        0.084581      0.914404      0.908764      0.890808      0.860968   \n",
       "std         0.650457      0.279772      0.287950      0.311885      0.345987   \n",
       "min         0.000000      0.000000      0.000000      0.000000      0.000000   \n",
       "25%         0.000000      1.000000      1.000000      1.000000      1.000000   \n",
       "50%         0.000000      1.000000      1.000000      1.000000      1.000000   \n",
       "75%         0.000000      1.000000      1.000000      1.000000      1.000000   \n",
       "max        49.000000      1.000000      1.000000      1.000000      1.000000   \n",
       "\n",
       "                 aon    aug_vbc_3g    jul_vbc_3g    jun_vbc_3g    sep_vbc_3g  \n",
       "count   99999.000000  99999.000000  99999.000000  99999.000000  99999.000000  \n",
       "unique           NaN           NaN           NaN           NaN           NaN  \n",
       "top              NaN           NaN           NaN           NaN           NaN  \n",
       "freq             NaN           NaN           NaN           NaN           NaN  \n",
       "mean     1219.854749     68.170248     66.839062     60.021204      3.299373  \n",
       "std       954.733842    267.580450    271.201856    253.938223     32.408353  \n",
       "min       180.000000      0.000000      0.000000      0.000000      0.000000  \n",
       "25%       467.000000      0.000000      0.000000      0.000000      0.000000  \n",
       "50%       863.000000      0.000000      0.000000      0.000000      0.000000  \n",
       "75%      1807.500000      0.000000      0.000000      0.000000      0.000000  \n",
       "max      4337.000000  12916.220000   9165.600000  11166.210000   2618.570000  \n",
       "\n",
       "[11 rows x 226 columns]"
      ]
     },
     "execution_count": 4,
     "metadata": {},
     "output_type": "execute_result"
    }
   ],
   "source": [
    "# Data exploration\n",
    "# Statistical information of the dataset\n",
    "\n",
    "telecom.describe(include = 'all')"
   ]
  },
  {
   "cell_type": "code",
   "execution_count": 5,
   "id": "bb9c320c",
   "metadata": {},
   "outputs": [
    {
     "data": {
      "text/plain": [
       "(99999, 226)"
      ]
     },
     "execution_count": 5,
     "metadata": {},
     "output_type": "execute_result"
    }
   ],
   "source": [
    "# Shape of the dataset (number of rows and columns)\n",
    "\n",
    "telecom.shape"
   ]
  },
  {
   "cell_type": "code",
   "execution_count": 6,
   "id": "64c817a6",
   "metadata": {
    "scrolled": false
   },
   "outputs": [
    {
     "name": "stdout",
     "output_type": "stream",
     "text": [
      "<class 'pandas.core.frame.DataFrame'>\n",
      "RangeIndex: 99999 entries, 0 to 99998\n",
      "Data columns (total 226 columns):\n",
      " #    Column                    Dtype  \n",
      "---   ------                    -----  \n",
      " 0    mobile_number             int64  \n",
      " 1    circle_id                 int64  \n",
      " 2    loc_og_t2o_mou            float64\n",
      " 3    std_og_t2o_mou            float64\n",
      " 4    loc_ic_t2o_mou            float64\n",
      " 5    last_date_of_month_6      object \n",
      " 6    last_date_of_month_7      object \n",
      " 7    last_date_of_month_8      object \n",
      " 8    last_date_of_month_9      object \n",
      " 9    arpu_6                    float64\n",
      " 10   arpu_7                    float64\n",
      " 11   arpu_8                    float64\n",
      " 12   arpu_9                    float64\n",
      " 13   onnet_mou_6               float64\n",
      " 14   onnet_mou_7               float64\n",
      " 15   onnet_mou_8               float64\n",
      " 16   onnet_mou_9               float64\n",
      " 17   offnet_mou_6              float64\n",
      " 18   offnet_mou_7              float64\n",
      " 19   offnet_mou_8              float64\n",
      " 20   offnet_mou_9              float64\n",
      " 21   roam_ic_mou_6             float64\n",
      " 22   roam_ic_mou_7             float64\n",
      " 23   roam_ic_mou_8             float64\n",
      " 24   roam_ic_mou_9             float64\n",
      " 25   roam_og_mou_6             float64\n",
      " 26   roam_og_mou_7             float64\n",
      " 27   roam_og_mou_8             float64\n",
      " 28   roam_og_mou_9             float64\n",
      " 29   loc_og_t2t_mou_6          float64\n",
      " 30   loc_og_t2t_mou_7          float64\n",
      " 31   loc_og_t2t_mou_8          float64\n",
      " 32   loc_og_t2t_mou_9          float64\n",
      " 33   loc_og_t2m_mou_6          float64\n",
      " 34   loc_og_t2m_mou_7          float64\n",
      " 35   loc_og_t2m_mou_8          float64\n",
      " 36   loc_og_t2m_mou_9          float64\n",
      " 37   loc_og_t2f_mou_6          float64\n",
      " 38   loc_og_t2f_mou_7          float64\n",
      " 39   loc_og_t2f_mou_8          float64\n",
      " 40   loc_og_t2f_mou_9          float64\n",
      " 41   loc_og_t2c_mou_6          float64\n",
      " 42   loc_og_t2c_mou_7          float64\n",
      " 43   loc_og_t2c_mou_8          float64\n",
      " 44   loc_og_t2c_mou_9          float64\n",
      " 45   loc_og_mou_6              float64\n",
      " 46   loc_og_mou_7              float64\n",
      " 47   loc_og_mou_8              float64\n",
      " 48   loc_og_mou_9              float64\n",
      " 49   std_og_t2t_mou_6          float64\n",
      " 50   std_og_t2t_mou_7          float64\n",
      " 51   std_og_t2t_mou_8          float64\n",
      " 52   std_og_t2t_mou_9          float64\n",
      " 53   std_og_t2m_mou_6          float64\n",
      " 54   std_og_t2m_mou_7          float64\n",
      " 55   std_og_t2m_mou_8          float64\n",
      " 56   std_og_t2m_mou_9          float64\n",
      " 57   std_og_t2f_mou_6          float64\n",
      " 58   std_og_t2f_mou_7          float64\n",
      " 59   std_og_t2f_mou_8          float64\n",
      " 60   std_og_t2f_mou_9          float64\n",
      " 61   std_og_t2c_mou_6          float64\n",
      " 62   std_og_t2c_mou_7          float64\n",
      " 63   std_og_t2c_mou_8          float64\n",
      " 64   std_og_t2c_mou_9          float64\n",
      " 65   std_og_mou_6              float64\n",
      " 66   std_og_mou_7              float64\n",
      " 67   std_og_mou_8              float64\n",
      " 68   std_og_mou_9              float64\n",
      " 69   isd_og_mou_6              float64\n",
      " 70   isd_og_mou_7              float64\n",
      " 71   isd_og_mou_8              float64\n",
      " 72   isd_og_mou_9              float64\n",
      " 73   spl_og_mou_6              float64\n",
      " 74   spl_og_mou_7              float64\n",
      " 75   spl_og_mou_8              float64\n",
      " 76   spl_og_mou_9              float64\n",
      " 77   og_others_6               float64\n",
      " 78   og_others_7               float64\n",
      " 79   og_others_8               float64\n",
      " 80   og_others_9               float64\n",
      " 81   total_og_mou_6            float64\n",
      " 82   total_og_mou_7            float64\n",
      " 83   total_og_mou_8            float64\n",
      " 84   total_og_mou_9            float64\n",
      " 85   loc_ic_t2t_mou_6          float64\n",
      " 86   loc_ic_t2t_mou_7          float64\n",
      " 87   loc_ic_t2t_mou_8          float64\n",
      " 88   loc_ic_t2t_mou_9          float64\n",
      " 89   loc_ic_t2m_mou_6          float64\n",
      " 90   loc_ic_t2m_mou_7          float64\n",
      " 91   loc_ic_t2m_mou_8          float64\n",
      " 92   loc_ic_t2m_mou_9          float64\n",
      " 93   loc_ic_t2f_mou_6          float64\n",
      " 94   loc_ic_t2f_mou_7          float64\n",
      " 95   loc_ic_t2f_mou_8          float64\n",
      " 96   loc_ic_t2f_mou_9          float64\n",
      " 97   loc_ic_mou_6              float64\n",
      " 98   loc_ic_mou_7              float64\n",
      " 99   loc_ic_mou_8              float64\n",
      " 100  loc_ic_mou_9              float64\n",
      " 101  std_ic_t2t_mou_6          float64\n",
      " 102  std_ic_t2t_mou_7          float64\n",
      " 103  std_ic_t2t_mou_8          float64\n",
      " 104  std_ic_t2t_mou_9          float64\n",
      " 105  std_ic_t2m_mou_6          float64\n",
      " 106  std_ic_t2m_mou_7          float64\n",
      " 107  std_ic_t2m_mou_8          float64\n",
      " 108  std_ic_t2m_mou_9          float64\n",
      " 109  std_ic_t2f_mou_6          float64\n",
      " 110  std_ic_t2f_mou_7          float64\n",
      " 111  std_ic_t2f_mou_8          float64\n",
      " 112  std_ic_t2f_mou_9          float64\n",
      " 113  std_ic_t2o_mou_6          float64\n",
      " 114  std_ic_t2o_mou_7          float64\n",
      " 115  std_ic_t2o_mou_8          float64\n",
      " 116  std_ic_t2o_mou_9          float64\n",
      " 117  std_ic_mou_6              float64\n",
      " 118  std_ic_mou_7              float64\n",
      " 119  std_ic_mou_8              float64\n",
      " 120  std_ic_mou_9              float64\n",
      " 121  total_ic_mou_6            float64\n",
      " 122  total_ic_mou_7            float64\n",
      " 123  total_ic_mou_8            float64\n",
      " 124  total_ic_mou_9            float64\n",
      " 125  spl_ic_mou_6              float64\n",
      " 126  spl_ic_mou_7              float64\n",
      " 127  spl_ic_mou_8              float64\n",
      " 128  spl_ic_mou_9              float64\n",
      " 129  isd_ic_mou_6              float64\n",
      " 130  isd_ic_mou_7              float64\n",
      " 131  isd_ic_mou_8              float64\n",
      " 132  isd_ic_mou_9              float64\n",
      " 133  ic_others_6               float64\n",
      " 134  ic_others_7               float64\n",
      " 135  ic_others_8               float64\n",
      " 136  ic_others_9               float64\n",
      " 137  total_rech_num_6          int64  \n",
      " 138  total_rech_num_7          int64  \n",
      " 139  total_rech_num_8          int64  \n",
      " 140  total_rech_num_9          int64  \n",
      " 141  total_rech_amt_6          int64  \n",
      " 142  total_rech_amt_7          int64  \n",
      " 143  total_rech_amt_8          int64  \n",
      " 144  total_rech_amt_9          int64  \n",
      " 145  max_rech_amt_6            int64  \n",
      " 146  max_rech_amt_7            int64  \n",
      " 147  max_rech_amt_8            int64  \n",
      " 148  max_rech_amt_9            int64  \n",
      " 149  date_of_last_rech_6       object \n",
      " 150  date_of_last_rech_7       object \n",
      " 151  date_of_last_rech_8       object \n",
      " 152  date_of_last_rech_9       object \n",
      " 153  last_day_rch_amt_6        int64  \n",
      " 154  last_day_rch_amt_7        int64  \n",
      " 155  last_day_rch_amt_8        int64  \n",
      " 156  last_day_rch_amt_9        int64  \n",
      " 157  date_of_last_rech_data_6  object \n",
      " 158  date_of_last_rech_data_7  object \n",
      " 159  date_of_last_rech_data_8  object \n",
      " 160  date_of_last_rech_data_9  object \n",
      " 161  total_rech_data_6         float64\n",
      " 162  total_rech_data_7         float64\n",
      " 163  total_rech_data_8         float64\n",
      " 164  total_rech_data_9         float64\n",
      " 165  max_rech_data_6           float64\n",
      " 166  max_rech_data_7           float64\n",
      " 167  max_rech_data_8           float64\n",
      " 168  max_rech_data_9           float64\n",
      " 169  count_rech_2g_6           float64\n",
      " 170  count_rech_2g_7           float64\n",
      " 171  count_rech_2g_8           float64\n",
      " 172  count_rech_2g_9           float64\n",
      " 173  count_rech_3g_6           float64\n",
      " 174  count_rech_3g_7           float64\n",
      " 175  count_rech_3g_8           float64\n",
      " 176  count_rech_3g_9           float64\n",
      " 177  av_rech_amt_data_6        float64\n",
      " 178  av_rech_amt_data_7        float64\n",
      " 179  av_rech_amt_data_8        float64\n",
      " 180  av_rech_amt_data_9        float64\n",
      " 181  vol_2g_mb_6               float64\n",
      " 182  vol_2g_mb_7               float64\n",
      " 183  vol_2g_mb_8               float64\n",
      " 184  vol_2g_mb_9               float64\n",
      " 185  vol_3g_mb_6               float64\n",
      " 186  vol_3g_mb_7               float64\n",
      " 187  vol_3g_mb_8               float64\n",
      " 188  vol_3g_mb_9               float64\n",
      " 189  arpu_3g_6                 float64\n",
      " 190  arpu_3g_7                 float64\n",
      " 191  arpu_3g_8                 float64\n",
      " 192  arpu_3g_9                 float64\n",
      " 193  arpu_2g_6                 float64\n",
      " 194  arpu_2g_7                 float64\n",
      " 195  arpu_2g_8                 float64\n",
      " 196  arpu_2g_9                 float64\n",
      " 197  night_pck_user_6          float64\n",
      " 198  night_pck_user_7          float64\n",
      " 199  night_pck_user_8          float64\n",
      " 200  night_pck_user_9          float64\n",
      " 201  monthly_2g_6              int64  \n",
      " 202  monthly_2g_7              int64  \n",
      " 203  monthly_2g_8              int64  \n",
      " 204  monthly_2g_9              int64  \n",
      " 205  sachet_2g_6               int64  \n",
      " 206  sachet_2g_7               int64  \n",
      " 207  sachet_2g_8               int64  \n",
      " 208  sachet_2g_9               int64  \n",
      " 209  monthly_3g_6              int64  \n",
      " 210  monthly_3g_7              int64  \n",
      " 211  monthly_3g_8              int64  \n",
      " 212  monthly_3g_9              int64  \n",
      " 213  sachet_3g_6               int64  \n",
      " 214  sachet_3g_7               int64  \n",
      " 215  sachet_3g_8               int64  \n",
      " 216  sachet_3g_9               int64  \n",
      " 217  fb_user_6                 float64\n",
      " 218  fb_user_7                 float64\n",
      " 219  fb_user_8                 float64\n",
      " 220  fb_user_9                 float64\n",
      " 221  aon                       int64  \n",
      " 222  aug_vbc_3g                float64\n",
      " 223  jul_vbc_3g                float64\n",
      " 224  jun_vbc_3g                float64\n",
      " 225  sep_vbc_3g                float64\n",
      "dtypes: float64(179), int64(35), object(12)\n",
      "memory usage: 172.4+ MB\n"
     ]
    }
   ],
   "source": [
    "# To understand the columns in the dataset\n",
    "\n",
    "telecom.info(verbose = 1)"
   ]
  },
  {
   "cell_type": "markdown",
   "id": "95234fb1",
   "metadata": {},
   "source": [
    "Insights from the above output:  \n",
    "* Number of columns or attributes:  226  \n",
    "* Number of floating datatype variables: 179  \n",
    "* Number of integer datatype variables: 35  \n",
    "* Number of categorical datatype variables: 12"
   ]
  },
  {
   "cell_type": "code",
   "execution_count": 7,
   "id": "20833598",
   "metadata": {},
   "outputs": [],
   "source": [
    "# Stripping off the white spaces\n",
    "\n",
    "telecom = telecom.rename (columns = lambda x: x.strip(), inplace = False)"
   ]
  },
  {
   "cell_type": "code",
   "execution_count": 8,
   "id": "814330a2",
   "metadata": {},
   "outputs": [],
   "source": [
    "# Check and drop any duplicated records\n",
    "\n",
    "telecom = telecom.drop_duplicates()"
   ]
  },
  {
   "cell_type": "code",
   "execution_count": 9,
   "id": "d6439b53",
   "metadata": {},
   "outputs": [
    {
     "name": "stdout",
     "output_type": "stream",
     "text": [
      "Total number of ID columns: 2\n"
     ]
    }
   ],
   "source": [
    "# Filtering unique ID data. We have a total of 2 ID columns\n",
    "\n",
    "id_cols = [\"mobile_number\",\"circle_id\"]  \n",
    "print (f\"Total number of ID columns: {len(id_cols)}\")"
   ]
  },
  {
   "cell_type": "code",
   "execution_count": 10,
   "id": "c811825e",
   "metadata": {},
   "outputs": [
    {
     "name": "stdout",
     "output_type": "stream",
     "text": [
      "Total number of categorical columns: 12\n"
     ]
    }
   ],
   "source": [
    "# Filtering categorical variables\n",
    "\n",
    "date_cols = [col for col in telecom.columns if telecom[col].dtype ==\"object\"]    \n",
    "print (f\"Total number of categorical columns: {len(date_cols)}\")"
   ]
  },
  {
   "cell_type": "code",
   "execution_count": 11,
   "id": "d0608f12",
   "metadata": {},
   "outputs": [
    {
     "name": "stdout",
     "output_type": "stream",
     "text": [
      "Total number of numeric columns: 212\n"
     ]
    }
   ],
   "source": [
    "# Filtering numeric variables\n",
    "\n",
    "num_cols = [ col for col in telecom.columns if col not in date_cols + id_cols]    \n",
    "print(f\"Total number of numeric columns: {len(num_cols)}\")  "
   ]
  },
  {
   "cell_type": "code",
   "execution_count": 12,
   "id": "7ef229a3",
   "metadata": {},
   "outputs": [
    {
     "data": {
      "text/html": [
       "<div>\n",
       "<style scoped>\n",
       "    .dataframe tbody tr th:only-of-type {\n",
       "        vertical-align: middle;\n",
       "    }\n",
       "\n",
       "    .dataframe tbody tr th {\n",
       "        vertical-align: top;\n",
       "    }\n",
       "\n",
       "    .dataframe thead th {\n",
       "        text-align: right;\n",
       "    }\n",
       "</style>\n",
       "<table border=\"1\" class=\"dataframe\">\n",
       "  <thead>\n",
       "    <tr style=\"text-align: right;\">\n",
       "      <th></th>\n",
       "      <th>last_date_of_month_6</th>\n",
       "      <th>last_date_of_month_7</th>\n",
       "      <th>last_date_of_month_8</th>\n",
       "      <th>last_date_of_month_9</th>\n",
       "      <th>date_of_last_rech_6</th>\n",
       "      <th>date_of_last_rech_7</th>\n",
       "      <th>date_of_last_rech_8</th>\n",
       "      <th>date_of_last_rech_9</th>\n",
       "      <th>date_of_last_rech_data_6</th>\n",
       "      <th>date_of_last_rech_data_7</th>\n",
       "      <th>date_of_last_rech_data_8</th>\n",
       "      <th>date_of_last_rech_data_9</th>\n",
       "    </tr>\n",
       "  </thead>\n",
       "  <tbody>\n",
       "    <tr>\n",
       "      <th>0</th>\n",
       "      <td>6/30/2014</td>\n",
       "      <td>7/31/2014</td>\n",
       "      <td>8/31/2014</td>\n",
       "      <td>9/30/2014</td>\n",
       "      <td>6/21/2014</td>\n",
       "      <td>7/16/2014</td>\n",
       "      <td>8/8/2014</td>\n",
       "      <td>9/28/2014</td>\n",
       "      <td>6/21/2014</td>\n",
       "      <td>7/16/2014</td>\n",
       "      <td>8/8/2014</td>\n",
       "      <td>NaN</td>\n",
       "    </tr>\n",
       "    <tr>\n",
       "      <th>1</th>\n",
       "      <td>6/30/2014</td>\n",
       "      <td>7/31/2014</td>\n",
       "      <td>8/31/2014</td>\n",
       "      <td>9/30/2014</td>\n",
       "      <td>6/29/2014</td>\n",
       "      <td>7/31/2014</td>\n",
       "      <td>8/28/2014</td>\n",
       "      <td>9/30/2014</td>\n",
       "      <td>NaN</td>\n",
       "      <td>7/25/2014</td>\n",
       "      <td>8/10/2014</td>\n",
       "      <td>NaN</td>\n",
       "    </tr>\n",
       "    <tr>\n",
       "      <th>2</th>\n",
       "      <td>6/30/2014</td>\n",
       "      <td>7/31/2014</td>\n",
       "      <td>8/31/2014</td>\n",
       "      <td>9/30/2014</td>\n",
       "      <td>6/17/2014</td>\n",
       "      <td>7/24/2014</td>\n",
       "      <td>8/14/2014</td>\n",
       "      <td>9/29/2014</td>\n",
       "      <td>NaN</td>\n",
       "      <td>NaN</td>\n",
       "      <td>NaN</td>\n",
       "      <td>9/17/2014</td>\n",
       "    </tr>\n",
       "    <tr>\n",
       "      <th>3</th>\n",
       "      <td>6/30/2014</td>\n",
       "      <td>7/31/2014</td>\n",
       "      <td>8/31/2014</td>\n",
       "      <td>9/30/2014</td>\n",
       "      <td>6/28/2014</td>\n",
       "      <td>7/31/2014</td>\n",
       "      <td>8/31/2014</td>\n",
       "      <td>9/30/2014</td>\n",
       "      <td>NaN</td>\n",
       "      <td>NaN</td>\n",
       "      <td>NaN</td>\n",
       "      <td>NaN</td>\n",
       "    </tr>\n",
       "    <tr>\n",
       "      <th>4</th>\n",
       "      <td>6/30/2014</td>\n",
       "      <td>7/31/2014</td>\n",
       "      <td>8/31/2014</td>\n",
       "      <td>9/30/2014</td>\n",
       "      <td>6/26/2014</td>\n",
       "      <td>7/28/2014</td>\n",
       "      <td>8/9/2014</td>\n",
       "      <td>9/28/2014</td>\n",
       "      <td>6/4/2014</td>\n",
       "      <td>NaN</td>\n",
       "      <td>NaN</td>\n",
       "      <td>NaN</td>\n",
       "    </tr>\n",
       "  </tbody>\n",
       "</table>\n",
       "</div>"
      ],
      "text/plain": [
       "  last_date_of_month_6 last_date_of_month_7 last_date_of_month_8  \\\n",
       "0            6/30/2014            7/31/2014            8/31/2014   \n",
       "1            6/30/2014            7/31/2014            8/31/2014   \n",
       "2            6/30/2014            7/31/2014            8/31/2014   \n",
       "3            6/30/2014            7/31/2014            8/31/2014   \n",
       "4            6/30/2014            7/31/2014            8/31/2014   \n",
       "\n",
       "  last_date_of_month_9 date_of_last_rech_6 date_of_last_rech_7  \\\n",
       "0            9/30/2014           6/21/2014           7/16/2014   \n",
       "1            9/30/2014           6/29/2014           7/31/2014   \n",
       "2            9/30/2014           6/17/2014           7/24/2014   \n",
       "3            9/30/2014           6/28/2014           7/31/2014   \n",
       "4            9/30/2014           6/26/2014           7/28/2014   \n",
       "\n",
       "  date_of_last_rech_8 date_of_last_rech_9 date_of_last_rech_data_6  \\\n",
       "0            8/8/2014           9/28/2014                6/21/2014   \n",
       "1           8/28/2014           9/30/2014                      NaN   \n",
       "2           8/14/2014           9/29/2014                      NaN   \n",
       "3           8/31/2014           9/30/2014                      NaN   \n",
       "4            8/9/2014           9/28/2014                 6/4/2014   \n",
       "\n",
       "  date_of_last_rech_data_7 date_of_last_rech_data_8 date_of_last_rech_data_9  \n",
       "0                7/16/2014                 8/8/2014                      NaN  \n",
       "1                7/25/2014                8/10/2014                      NaN  \n",
       "2                      NaN                      NaN                9/17/2014  \n",
       "3                      NaN                      NaN                      NaN  \n",
       "4                      NaN                      NaN                      NaN  "
      ]
     },
     "execution_count": 12,
     "metadata": {},
     "output_type": "execute_result"
    }
   ],
   "source": [
    "# Let's check the date columns \n",
    "\n",
    "telecom[date_cols].head()"
   ]
  },
  {
   "cell_type": "markdown",
   "id": "5fdd0404",
   "metadata": {},
   "source": [
    "## Step 2: Data cleaning"
   ]
  },
  {
   "cell_type": "code",
   "execution_count": 13,
   "id": "46261048",
   "metadata": {},
   "outputs": [
    {
     "data": {
      "text/plain": [
       "mobile_number        0\n",
       "circle_id            0\n",
       "loc_og_t2o_mou    1018\n",
       "std_og_t2o_mou    1018\n",
       "loc_ic_t2o_mou    1018\n",
       "                  ... \n",
       "aon                  0\n",
       "aug_vbc_3g           0\n",
       "jul_vbc_3g           0\n",
       "jun_vbc_3g           0\n",
       "sep_vbc_3g           0\n",
       "Length: 226, dtype: int64"
      ]
     },
     "execution_count": 13,
     "metadata": {},
     "output_type": "execute_result"
    }
   ],
   "source": [
    "# Viewing the null values\n",
    "\n",
    "telecom.isnull().sum()"
   ]
  },
  {
   "cell_type": "code",
   "execution_count": 14,
   "id": "1cb284c6",
   "metadata": {},
   "outputs": [
    {
     "data": {
      "text/html": [
       "<div>\n",
       "<style scoped>\n",
       "    .dataframe tbody tr th:only-of-type {\n",
       "        vertical-align: middle;\n",
       "    }\n",
       "\n",
       "    .dataframe tbody tr th {\n",
       "        vertical-align: top;\n",
       "    }\n",
       "\n",
       "    .dataframe thead th {\n",
       "        text-align: right;\n",
       "    }\n",
       "</style>\n",
       "<table border=\"1\" class=\"dataframe\">\n",
       "  <thead>\n",
       "    <tr style=\"text-align: right;\">\n",
       "      <th></th>\n",
       "      <th>Missing</th>\n",
       "    </tr>\n",
       "  </thead>\n",
       "  <tbody>\n",
       "    <tr>\n",
       "      <th>arpu_3g_6</th>\n",
       "      <td>74.85</td>\n",
       "    </tr>\n",
       "    <tr>\n",
       "      <th>night_pck_user_6</th>\n",
       "      <td>74.85</td>\n",
       "    </tr>\n",
       "    <tr>\n",
       "      <th>total_rech_data_6</th>\n",
       "      <td>74.85</td>\n",
       "    </tr>\n",
       "    <tr>\n",
       "      <th>arpu_2g_6</th>\n",
       "      <td>74.85</td>\n",
       "    </tr>\n",
       "    <tr>\n",
       "      <th>max_rech_data_6</th>\n",
       "      <td>74.85</td>\n",
       "    </tr>\n",
       "    <tr>\n",
       "      <th>fb_user_6</th>\n",
       "      <td>74.85</td>\n",
       "    </tr>\n",
       "    <tr>\n",
       "      <th>av_rech_amt_data_6</th>\n",
       "      <td>74.85</td>\n",
       "    </tr>\n",
       "    <tr>\n",
       "      <th>date_of_last_rech_data_6</th>\n",
       "      <td>74.85</td>\n",
       "    </tr>\n",
       "    <tr>\n",
       "      <th>count_rech_2g_6</th>\n",
       "      <td>74.85</td>\n",
       "    </tr>\n",
       "    <tr>\n",
       "      <th>count_rech_3g_6</th>\n",
       "      <td>74.85</td>\n",
       "    </tr>\n",
       "    <tr>\n",
       "      <th>date_of_last_rech_data_7</th>\n",
       "      <td>74.43</td>\n",
       "    </tr>\n",
       "    <tr>\n",
       "      <th>total_rech_data_7</th>\n",
       "      <td>74.43</td>\n",
       "    </tr>\n",
       "    <tr>\n",
       "      <th>fb_user_7</th>\n",
       "      <td>74.43</td>\n",
       "    </tr>\n",
       "    <tr>\n",
       "      <th>max_rech_data_7</th>\n",
       "      <td>74.43</td>\n",
       "    </tr>\n",
       "    <tr>\n",
       "      <th>night_pck_user_7</th>\n",
       "      <td>74.43</td>\n",
       "    </tr>\n",
       "    <tr>\n",
       "      <th>count_rech_2g_7</th>\n",
       "      <td>74.43</td>\n",
       "    </tr>\n",
       "    <tr>\n",
       "      <th>av_rech_amt_data_7</th>\n",
       "      <td>74.43</td>\n",
       "    </tr>\n",
       "    <tr>\n",
       "      <th>arpu_2g_7</th>\n",
       "      <td>74.43</td>\n",
       "    </tr>\n",
       "    <tr>\n",
       "      <th>count_rech_3g_7</th>\n",
       "      <td>74.43</td>\n",
       "    </tr>\n",
       "    <tr>\n",
       "      <th>arpu_3g_7</th>\n",
       "      <td>74.43</td>\n",
       "    </tr>\n",
       "    <tr>\n",
       "      <th>total_rech_data_9</th>\n",
       "      <td>74.08</td>\n",
       "    </tr>\n",
       "    <tr>\n",
       "      <th>count_rech_3g_9</th>\n",
       "      <td>74.08</td>\n",
       "    </tr>\n",
       "    <tr>\n",
       "      <th>fb_user_9</th>\n",
       "      <td>74.08</td>\n",
       "    </tr>\n",
       "    <tr>\n",
       "      <th>max_rech_data_9</th>\n",
       "      <td>74.08</td>\n",
       "    </tr>\n",
       "    <tr>\n",
       "      <th>arpu_3g_9</th>\n",
       "      <td>74.08</td>\n",
       "    </tr>\n",
       "    <tr>\n",
       "      <th>date_of_last_rech_data_9</th>\n",
       "      <td>74.08</td>\n",
       "    </tr>\n",
       "    <tr>\n",
       "      <th>night_pck_user_9</th>\n",
       "      <td>74.08</td>\n",
       "    </tr>\n",
       "    <tr>\n",
       "      <th>arpu_2g_9</th>\n",
       "      <td>74.08</td>\n",
       "    </tr>\n",
       "    <tr>\n",
       "      <th>count_rech_2g_9</th>\n",
       "      <td>74.08</td>\n",
       "    </tr>\n",
       "    <tr>\n",
       "      <th>av_rech_amt_data_9</th>\n",
       "      <td>74.08</td>\n",
       "    </tr>\n",
       "    <tr>\n",
       "      <th>total_rech_data_8</th>\n",
       "      <td>73.66</td>\n",
       "    </tr>\n",
       "    <tr>\n",
       "      <th>arpu_3g_8</th>\n",
       "      <td>73.66</td>\n",
       "    </tr>\n",
       "    <tr>\n",
       "      <th>fb_user_8</th>\n",
       "      <td>73.66</td>\n",
       "    </tr>\n",
       "    <tr>\n",
       "      <th>night_pck_user_8</th>\n",
       "      <td>73.66</td>\n",
       "    </tr>\n",
       "    <tr>\n",
       "      <th>av_rech_amt_data_8</th>\n",
       "      <td>73.66</td>\n",
       "    </tr>\n",
       "    <tr>\n",
       "      <th>max_rech_data_8</th>\n",
       "      <td>73.66</td>\n",
       "    </tr>\n",
       "    <tr>\n",
       "      <th>count_rech_3g_8</th>\n",
       "      <td>73.66</td>\n",
       "    </tr>\n",
       "    <tr>\n",
       "      <th>arpu_2g_8</th>\n",
       "      <td>73.66</td>\n",
       "    </tr>\n",
       "    <tr>\n",
       "      <th>count_rech_2g_8</th>\n",
       "      <td>73.66</td>\n",
       "    </tr>\n",
       "    <tr>\n",
       "      <th>date_of_last_rech_data_8</th>\n",
       "      <td>73.66</td>\n",
       "    </tr>\n",
       "    <tr>\n",
       "      <th>ic_others_9</th>\n",
       "      <td>7.75</td>\n",
       "    </tr>\n",
       "    <tr>\n",
       "      <th>std_og_mou_9</th>\n",
       "      <td>7.75</td>\n",
       "    </tr>\n",
       "    <tr>\n",
       "      <th>std_og_t2c_mou_9</th>\n",
       "      <td>7.75</td>\n",
       "    </tr>\n",
       "    <tr>\n",
       "      <th>isd_ic_mou_9</th>\n",
       "      <td>7.75</td>\n",
       "    </tr>\n",
       "    <tr>\n",
       "      <th>std_ic_mou_9</th>\n",
       "      <td>7.75</td>\n",
       "    </tr>\n",
       "    <tr>\n",
       "      <th>isd_og_mou_9</th>\n",
       "      <td>7.75</td>\n",
       "    </tr>\n",
       "    <tr>\n",
       "      <th>spl_og_mou_9</th>\n",
       "      <td>7.75</td>\n",
       "    </tr>\n",
       "    <tr>\n",
       "      <th>spl_ic_mou_9</th>\n",
       "      <td>7.75</td>\n",
       "    </tr>\n",
       "    <tr>\n",
       "      <th>og_others_9</th>\n",
       "      <td>7.75</td>\n",
       "    </tr>\n",
       "    <tr>\n",
       "      <th>loc_ic_t2t_mou_9</th>\n",
       "      <td>7.75</td>\n",
       "    </tr>\n",
       "  </tbody>\n",
       "</table>\n",
       "</div>"
      ],
      "text/plain": [
       "                          Missing\n",
       "arpu_3g_6                   74.85\n",
       "night_pck_user_6            74.85\n",
       "total_rech_data_6           74.85\n",
       "arpu_2g_6                   74.85\n",
       "max_rech_data_6             74.85\n",
       "fb_user_6                   74.85\n",
       "av_rech_amt_data_6          74.85\n",
       "date_of_last_rech_data_6    74.85\n",
       "count_rech_2g_6             74.85\n",
       "count_rech_3g_6             74.85\n",
       "date_of_last_rech_data_7    74.43\n",
       "total_rech_data_7           74.43\n",
       "fb_user_7                   74.43\n",
       "max_rech_data_7             74.43\n",
       "night_pck_user_7            74.43\n",
       "count_rech_2g_7             74.43\n",
       "av_rech_amt_data_7          74.43\n",
       "arpu_2g_7                   74.43\n",
       "count_rech_3g_7             74.43\n",
       "arpu_3g_7                   74.43\n",
       "total_rech_data_9           74.08\n",
       "count_rech_3g_9             74.08\n",
       "fb_user_9                   74.08\n",
       "max_rech_data_9             74.08\n",
       "arpu_3g_9                   74.08\n",
       "date_of_last_rech_data_9    74.08\n",
       "night_pck_user_9            74.08\n",
       "arpu_2g_9                   74.08\n",
       "count_rech_2g_9             74.08\n",
       "av_rech_amt_data_9          74.08\n",
       "total_rech_data_8           73.66\n",
       "arpu_3g_8                   73.66\n",
       "fb_user_8                   73.66\n",
       "night_pck_user_8            73.66\n",
       "av_rech_amt_data_8          73.66\n",
       "max_rech_data_8             73.66\n",
       "count_rech_3g_8             73.66\n",
       "arpu_2g_8                   73.66\n",
       "count_rech_2g_8             73.66\n",
       "date_of_last_rech_data_8    73.66\n",
       "ic_others_9                  7.75\n",
       "std_og_mou_9                 7.75\n",
       "std_og_t2c_mou_9             7.75\n",
       "isd_ic_mou_9                 7.75\n",
       "std_ic_mou_9                 7.75\n",
       "isd_og_mou_9                 7.75\n",
       "spl_og_mou_9                 7.75\n",
       "spl_ic_mou_9                 7.75\n",
       "og_others_9                  7.75\n",
       "loc_ic_t2t_mou_9             7.75"
      ]
     },
     "execution_count": 14,
     "metadata": {},
     "output_type": "execute_result"
    }
   ],
   "source": [
    "# Check and drop variables with highest percentage of null values\n",
    "# Rate of proportion/percent of null values in each variable\n",
    "\n",
    "df_missing = pd.DataFrame((round (100* (telecom.isnull().sum() / len(telecom.index)), 2)), columns = ['Missing'])\n",
    "df_missing.sort_values(by = ['Missing'], ascending = False).head(50)"
   ]
  },
  {
   "cell_type": "markdown",
   "id": "d4f0a7f6",
   "metadata": {},
   "source": [
    "There are multiple columns with null values however, these columns cannot be dropped as they do have some information which cannot be removed. Hence, we will replace the 'NaN' values with a 0's (zero) for a few columns"
   ]
  },
  {
   "cell_type": "code",
   "execution_count": 15,
   "id": "c3f1b4da",
   "metadata": {},
   "outputs": [],
   "source": [
    "# Replacing 0 in place of 'NaN' for the following columns\n",
    "\n",
    "impute_zero = ['total_rech_data_6', 'total_rech_data_7', 'total_rech_data_8', 'total_rech_data_9', 'av_rech_amt_data_6', 'av_rech_amt_data_7', 'av_rech_amt_data_8', 'av_rech_amt_data_9', 'max_rech_data_6', 'max_rech_data_7', 'max_rech_data_8', 'max_rech_data_9']\n",
    "telecom[impute_zero] = telecom[impute_zero].apply(lambda x: x.fillna(0))"
   ]
  },
  {
   "cell_type": "markdown",
   "id": "63f57831",
   "metadata": {},
   "source": [
    "The columns to  which we have assigned 0's are (for the months 6, 7, 8 and 9): \n",
    "* Maximum recharge data\n",
    "* Total recharge data\n",
    "* Average recharge amount data"
   ]
  },
  {
   "cell_type": "code",
   "execution_count": 16,
   "id": "54eb506e",
   "metadata": {},
   "outputs": [],
   "source": [
    "# Dropping variables\n",
    "\n",
    "telecom.drop (columns = id_cols, inplace = True)\n",
    "telecom.drop (columns = date_cols, inplace = True)"
   ]
  },
  {
   "cell_type": "code",
   "execution_count": 17,
   "id": "89883d2c",
   "metadata": {},
   "outputs": [
    {
     "name": "stdout",
     "output_type": "stream",
     "text": [
      "51\n"
     ]
    },
    {
     "data": {
      "text/html": [
       "<div>\n",
       "<style scoped>\n",
       "    .dataframe tbody tr th:only-of-type {\n",
       "        vertical-align: middle;\n",
       "    }\n",
       "\n",
       "    .dataframe tbody tr th {\n",
       "        vertical-align: top;\n",
       "    }\n",
       "\n",
       "    .dataframe thead th {\n",
       "        text-align: right;\n",
       "    }\n",
       "</style>\n",
       "<table border=\"1\" class=\"dataframe\">\n",
       "  <thead>\n",
       "    <tr style=\"text-align: right;\">\n",
       "      <th></th>\n",
       "      <th>arpu_6</th>\n",
       "      <th>onnet_mou_6</th>\n",
       "      <th>offnet_mou_6</th>\n",
       "      <th>roam_ic_mou_6</th>\n",
       "      <th>roam_og_mou_6</th>\n",
       "      <th>loc_og_t2t_mou_6</th>\n",
       "      <th>loc_og_t2m_mou_6</th>\n",
       "      <th>loc_og_t2f_mou_6</th>\n",
       "      <th>loc_og_t2c_mou_6</th>\n",
       "      <th>loc_og_mou_6</th>\n",
       "      <th>...</th>\n",
       "      <th>vol_2g_mb_6</th>\n",
       "      <th>vol_3g_mb_6</th>\n",
       "      <th>arpu_3g_6</th>\n",
       "      <th>arpu_2g_6</th>\n",
       "      <th>night_pck_user_6</th>\n",
       "      <th>monthly_2g_6</th>\n",
       "      <th>sachet_2g_6</th>\n",
       "      <th>monthly_3g_6</th>\n",
       "      <th>sachet_3g_6</th>\n",
       "      <th>fb_user_6</th>\n",
       "    </tr>\n",
       "  </thead>\n",
       "  <tbody>\n",
       "    <tr>\n",
       "      <th>0</th>\n",
       "      <td>197.385</td>\n",
       "      <td>NaN</td>\n",
       "      <td>NaN</td>\n",
       "      <td>NaN</td>\n",
       "      <td>NaN</td>\n",
       "      <td>NaN</td>\n",
       "      <td>NaN</td>\n",
       "      <td>NaN</td>\n",
       "      <td>NaN</td>\n",
       "      <td>NaN</td>\n",
       "      <td>...</td>\n",
       "      <td>30.13</td>\n",
       "      <td>83.57</td>\n",
       "      <td>212.17</td>\n",
       "      <td>212.17</td>\n",
       "      <td>0.0</td>\n",
       "      <td>0</td>\n",
       "      <td>0</td>\n",
       "      <td>1</td>\n",
       "      <td>0</td>\n",
       "      <td>1.0</td>\n",
       "    </tr>\n",
       "    <tr>\n",
       "      <th>1</th>\n",
       "      <td>34.047</td>\n",
       "      <td>24.11</td>\n",
       "      <td>15.74</td>\n",
       "      <td>0.00</td>\n",
       "      <td>0.00</td>\n",
       "      <td>23.88</td>\n",
       "      <td>11.51</td>\n",
       "      <td>0.00</td>\n",
       "      <td>0.00</td>\n",
       "      <td>35.39</td>\n",
       "      <td>...</td>\n",
       "      <td>0.00</td>\n",
       "      <td>0.00</td>\n",
       "      <td>NaN</td>\n",
       "      <td>NaN</td>\n",
       "      <td>NaN</td>\n",
       "      <td>0</td>\n",
       "      <td>0</td>\n",
       "      <td>0</td>\n",
       "      <td>0</td>\n",
       "      <td>NaN</td>\n",
       "    </tr>\n",
       "    <tr>\n",
       "      <th>2</th>\n",
       "      <td>167.690</td>\n",
       "      <td>11.54</td>\n",
       "      <td>143.33</td>\n",
       "      <td>0.00</td>\n",
       "      <td>0.00</td>\n",
       "      <td>7.19</td>\n",
       "      <td>29.34</td>\n",
       "      <td>24.11</td>\n",
       "      <td>0.00</td>\n",
       "      <td>60.66</td>\n",
       "      <td>...</td>\n",
       "      <td>0.00</td>\n",
       "      <td>0.00</td>\n",
       "      <td>NaN</td>\n",
       "      <td>NaN</td>\n",
       "      <td>NaN</td>\n",
       "      <td>0</td>\n",
       "      <td>0</td>\n",
       "      <td>0</td>\n",
       "      <td>0</td>\n",
       "      <td>NaN</td>\n",
       "    </tr>\n",
       "    <tr>\n",
       "      <th>3</th>\n",
       "      <td>221.338</td>\n",
       "      <td>99.91</td>\n",
       "      <td>123.31</td>\n",
       "      <td>0.00</td>\n",
       "      <td>0.00</td>\n",
       "      <td>73.68</td>\n",
       "      <td>107.43</td>\n",
       "      <td>1.91</td>\n",
       "      <td>0.00</td>\n",
       "      <td>183.03</td>\n",
       "      <td>...</td>\n",
       "      <td>0.00</td>\n",
       "      <td>0.00</td>\n",
       "      <td>NaN</td>\n",
       "      <td>NaN</td>\n",
       "      <td>NaN</td>\n",
       "      <td>0</td>\n",
       "      <td>0</td>\n",
       "      <td>0</td>\n",
       "      <td>0</td>\n",
       "      <td>NaN</td>\n",
       "    </tr>\n",
       "    <tr>\n",
       "      <th>4</th>\n",
       "      <td>261.636</td>\n",
       "      <td>50.31</td>\n",
       "      <td>76.96</td>\n",
       "      <td>0.00</td>\n",
       "      <td>0.00</td>\n",
       "      <td>50.31</td>\n",
       "      <td>67.64</td>\n",
       "      <td>0.00</td>\n",
       "      <td>0.00</td>\n",
       "      <td>117.96</td>\n",
       "      <td>...</td>\n",
       "      <td>0.00</td>\n",
       "      <td>0.00</td>\n",
       "      <td>0.00</td>\n",
       "      <td>0.00</td>\n",
       "      <td>0.0</td>\n",
       "      <td>0</td>\n",
       "      <td>1</td>\n",
       "      <td>0</td>\n",
       "      <td>0</td>\n",
       "      <td>0.0</td>\n",
       "    </tr>\n",
       "    <tr>\n",
       "      <th>5</th>\n",
       "      <td>50.258</td>\n",
       "      <td>50.16</td>\n",
       "      <td>19.28</td>\n",
       "      <td>0.00</td>\n",
       "      <td>0.00</td>\n",
       "      <td>50.16</td>\n",
       "      <td>16.39</td>\n",
       "      <td>0.00</td>\n",
       "      <td>0.00</td>\n",
       "      <td>66.56</td>\n",
       "      <td>...</td>\n",
       "      <td>0.00</td>\n",
       "      <td>0.00</td>\n",
       "      <td>NaN</td>\n",
       "      <td>NaN</td>\n",
       "      <td>NaN</td>\n",
       "      <td>0</td>\n",
       "      <td>0</td>\n",
       "      <td>0</td>\n",
       "      <td>0</td>\n",
       "      <td>NaN</td>\n",
       "    </tr>\n",
       "    <tr>\n",
       "      <th>6</th>\n",
       "      <td>429.023</td>\n",
       "      <td>71.03</td>\n",
       "      <td>262.73</td>\n",
       "      <td>0.00</td>\n",
       "      <td>0.00</td>\n",
       "      <td>71.03</td>\n",
       "      <td>252.23</td>\n",
       "      <td>10.38</td>\n",
       "      <td>0.11</td>\n",
       "      <td>333.64</td>\n",
       "      <td>...</td>\n",
       "      <td>0.00</td>\n",
       "      <td>0.00</td>\n",
       "      <td>NaN</td>\n",
       "      <td>NaN</td>\n",
       "      <td>NaN</td>\n",
       "      <td>0</td>\n",
       "      <td>0</td>\n",
       "      <td>0</td>\n",
       "      <td>0</td>\n",
       "      <td>NaN</td>\n",
       "    </tr>\n",
       "    <tr>\n",
       "      <th>7</th>\n",
       "      <td>1069.180</td>\n",
       "      <td>57.84</td>\n",
       "      <td>453.43</td>\n",
       "      <td>16.23</td>\n",
       "      <td>23.74</td>\n",
       "      <td>51.39</td>\n",
       "      <td>308.63</td>\n",
       "      <td>62.13</td>\n",
       "      <td>0.00</td>\n",
       "      <td>422.16</td>\n",
       "      <td>...</td>\n",
       "      <td>0.00</td>\n",
       "      <td>0.00</td>\n",
       "      <td>NaN</td>\n",
       "      <td>NaN</td>\n",
       "      <td>NaN</td>\n",
       "      <td>0</td>\n",
       "      <td>0</td>\n",
       "      <td>0</td>\n",
       "      <td>0</td>\n",
       "      <td>NaN</td>\n",
       "    </tr>\n",
       "    <tr>\n",
       "      <th>8</th>\n",
       "      <td>378.721</td>\n",
       "      <td>413.69</td>\n",
       "      <td>94.66</td>\n",
       "      <td>0.00</td>\n",
       "      <td>0.00</td>\n",
       "      <td>297.13</td>\n",
       "      <td>80.96</td>\n",
       "      <td>0.00</td>\n",
       "      <td>0.00</td>\n",
       "      <td>378.09</td>\n",
       "      <td>...</td>\n",
       "      <td>0.00</td>\n",
       "      <td>0.00</td>\n",
       "      <td>NaN</td>\n",
       "      <td>NaN</td>\n",
       "      <td>NaN</td>\n",
       "      <td>0</td>\n",
       "      <td>0</td>\n",
       "      <td>0</td>\n",
       "      <td>0</td>\n",
       "      <td>NaN</td>\n",
       "    </tr>\n",
       "    <tr>\n",
       "      <th>9</th>\n",
       "      <td>119.518</td>\n",
       "      <td>33.89</td>\n",
       "      <td>63.48</td>\n",
       "      <td>0.00</td>\n",
       "      <td>0.00</td>\n",
       "      <td>33.89</td>\n",
       "      <td>38.03</td>\n",
       "      <td>0.00</td>\n",
       "      <td>0.00</td>\n",
       "      <td>71.93</td>\n",
       "      <td>...</td>\n",
       "      <td>0.00</td>\n",
       "      <td>0.00</td>\n",
       "      <td>NaN</td>\n",
       "      <td>NaN</td>\n",
       "      <td>NaN</td>\n",
       "      <td>0</td>\n",
       "      <td>0</td>\n",
       "      <td>0</td>\n",
       "      <td>0</td>\n",
       "      <td>NaN</td>\n",
       "    </tr>\n",
       "  </tbody>\n",
       "</table>\n",
       "<p>10 rows × 51 columns</p>\n",
       "</div>"
      ],
      "text/plain": [
       "     arpu_6  onnet_mou_6  offnet_mou_6  roam_ic_mou_6  roam_og_mou_6  \\\n",
       "0   197.385          NaN           NaN            NaN            NaN   \n",
       "1    34.047        24.11         15.74           0.00           0.00   \n",
       "2   167.690        11.54        143.33           0.00           0.00   \n",
       "3   221.338        99.91        123.31           0.00           0.00   \n",
       "4   261.636        50.31         76.96           0.00           0.00   \n",
       "5    50.258        50.16         19.28           0.00           0.00   \n",
       "6   429.023        71.03        262.73           0.00           0.00   \n",
       "7  1069.180        57.84        453.43          16.23          23.74   \n",
       "8   378.721       413.69         94.66           0.00           0.00   \n",
       "9   119.518        33.89         63.48           0.00           0.00   \n",
       "\n",
       "   loc_og_t2t_mou_6  loc_og_t2m_mou_6  loc_og_t2f_mou_6  loc_og_t2c_mou_6  \\\n",
       "0               NaN               NaN               NaN               NaN   \n",
       "1             23.88             11.51              0.00              0.00   \n",
       "2              7.19             29.34             24.11              0.00   \n",
       "3             73.68            107.43              1.91              0.00   \n",
       "4             50.31             67.64              0.00              0.00   \n",
       "5             50.16             16.39              0.00              0.00   \n",
       "6             71.03            252.23             10.38              0.11   \n",
       "7             51.39            308.63             62.13              0.00   \n",
       "8            297.13             80.96              0.00              0.00   \n",
       "9             33.89             38.03              0.00              0.00   \n",
       "\n",
       "   loc_og_mou_6  ...  vol_2g_mb_6  vol_3g_mb_6  arpu_3g_6  arpu_2g_6  \\\n",
       "0           NaN  ...        30.13        83.57     212.17     212.17   \n",
       "1         35.39  ...         0.00         0.00        NaN        NaN   \n",
       "2         60.66  ...         0.00         0.00        NaN        NaN   \n",
       "3        183.03  ...         0.00         0.00        NaN        NaN   \n",
       "4        117.96  ...         0.00         0.00       0.00       0.00   \n",
       "5         66.56  ...         0.00         0.00        NaN        NaN   \n",
       "6        333.64  ...         0.00         0.00        NaN        NaN   \n",
       "7        422.16  ...         0.00         0.00        NaN        NaN   \n",
       "8        378.09  ...         0.00         0.00        NaN        NaN   \n",
       "9         71.93  ...         0.00         0.00        NaN        NaN   \n",
       "\n",
       "   night_pck_user_6  monthly_2g_6  sachet_2g_6  monthly_3g_6  sachet_3g_6  \\\n",
       "0               0.0             0            0             1            0   \n",
       "1               NaN             0            0             0            0   \n",
       "2               NaN             0            0             0            0   \n",
       "3               NaN             0            0             0            0   \n",
       "4               0.0             0            1             0            0   \n",
       "5               NaN             0            0             0            0   \n",
       "6               NaN             0            0             0            0   \n",
       "7               NaN             0            0             0            0   \n",
       "8               NaN             0            0             0            0   \n",
       "9               NaN             0            0             0            0   \n",
       "\n",
       "   fb_user_6  \n",
       "0        1.0  \n",
       "1        NaN  \n",
       "2        NaN  \n",
       "3        NaN  \n",
       "4        0.0  \n",
       "5        NaN  \n",
       "6        NaN  \n",
       "7        NaN  \n",
       "8        NaN  \n",
       "9        NaN  \n",
       "\n",
       "[10 rows x 51 columns]"
      ]
     },
     "execution_count": 17,
     "metadata": {},
     "output_type": "execute_result"
    }
   ],
   "source": [
    "# Overview of the columns associated with the 6th month (June)\n",
    "\n",
    "col_6month = [col for col in telecom.columns if \"_6\" in col]\n",
    "print(len(col_6month))\n",
    "telecom[col_6month].head(10)"
   ]
  },
  {
   "cell_type": "markdown",
   "id": "f54234b2",
   "metadata": {},
   "source": [
    "Similarly we have the same data for the remaining 3 months - 7 (July), 8 (August) and 9 (September)"
   ]
  },
  {
   "cell_type": "code",
   "execution_count": 18,
   "id": "3fdd24ce",
   "metadata": {},
   "outputs": [
    {
     "data": {
      "text/plain": [
       "night_pck_user_6    0.748467\n",
       "night_pck_user_7    0.744287\n",
       "night_pck_user_8    0.736607\n",
       "night_pck_user_9    0.740777\n",
       "fb_user_6           0.748467\n",
       "fb_user_7           0.744287\n",
       "fb_user_8           0.736607\n",
       "fb_user_9           0.740777\n",
       "dtype: float64"
      ]
     },
     "execution_count": 18,
     "metadata": {},
     "output_type": "execute_result"
    }
   ],
   "source": [
    "# Check the null values for the following categorical variables\n",
    "\n",
    "cat_cols = [\"night_pck_user_6\",\"night_pck_user_7\",\"night_pck_user_8\",\"night_pck_user_9\",\"fb_user_6\", \"fb_user_7\", \"fb_user_8\", \"fb_user_9\"]\n",
    "telecom[cat_cols].isna().sum()/len(telecom)"
   ]
  },
  {
   "cell_type": "code",
   "execution_count": 19,
   "id": "6fe2d8fa",
   "metadata": {},
   "outputs": [
    {
     "data": {
      "text/plain": [
       "night_pck_user_6    0\n",
       "night_pck_user_7    0\n",
       "night_pck_user_8    0\n",
       "night_pck_user_9    0\n",
       "fb_user_6           0\n",
       "fb_user_7           0\n",
       "fb_user_8           0\n",
       "fb_user_9           0\n",
       "dtype: int64"
      ]
     },
     "execution_count": 19,
     "metadata": {},
     "output_type": "execute_result"
    }
   ],
   "source": [
    "# Replacing these null values 'NaN' with -1 and rechecking the same\n",
    "\n",
    "telecom[cat_cols] = telecom[cat_cols].fillna(-1)\n",
    "telecom[cat_cols].isna().sum()"
   ]
  },
  {
   "cell_type": "code",
   "execution_count": 20,
   "id": "f67f4fe3",
   "metadata": {},
   "outputs": [],
   "source": [
    "# Dropping columns which have null values more than 50%\n",
    "\n",
    "def drop_cols(cols):\n",
    "    '''cols: list of columns in dataframe\n",
    "      '''\n",
    "    for col in cols:\n",
    "        if (telecom[col].isna().sum()/len(telecom)) > .50:  \n",
    "            telecom.drop(columns = [col], inplace = True)\n",
    "            \n",
    "drop_cols(telecom.columns)"
   ]
  },
  {
   "cell_type": "code",
   "execution_count": 21,
   "id": "3ccee801",
   "metadata": {},
   "outputs": [
    {
     "name": "stdout",
     "output_type": "stream",
     "text": [
      "<class 'pandas.core.frame.DataFrame'>\n",
      "Int64Index: 99999 entries, 0 to 99998\n",
      "Columns: 196 entries, loc_og_t2o_mou to sep_vbc_3g\n",
      "dtypes: float64(163), int64(33)\n",
      "memory usage: 150.3 MB\n"
     ]
    }
   ],
   "source": [
    "# To understand the dataset\n",
    "\n",
    "telecom.info()"
   ]
  },
  {
   "cell_type": "markdown",
   "id": "a3b41bdd",
   "metadata": {},
   "source": [
    "Insights from the above output:\n",
    "\n",
    "* Number of columns or attributes: 196\n",
    "* Number of floating datatype variables: 163\n",
    "* Number of integer datatype variables: 33"
   ]
  },
  {
   "cell_type": "code",
   "execution_count": 22,
   "id": "b1becf97",
   "metadata": {},
   "outputs": [
    {
     "name": "stdout",
     "output_type": "stream",
     "text": [
      "              feature  nunique\n",
      "0      loc_og_t2o_mou        1\n",
      "1      std_og_t2o_mou        1\n",
      "2      loc_ic_t2o_mou        1\n",
      "55   std_og_t2c_mou_6        1\n",
      "56   std_og_t2c_mou_7        1\n",
      "57   std_og_t2c_mou_8        1\n",
      "58   std_og_t2c_mou_9        1\n",
      "107  std_ic_t2o_mou_6        1\n",
      "108  std_ic_t2o_mou_7        1\n",
      "109  std_ic_t2o_mou_8        1\n",
      "110  std_ic_t2o_mou_9        1\n"
     ]
    }
   ],
   "source": [
    "# Checking columns which have only 1 value \n",
    "\n",
    "col_0_variance = pd.DataFrame(telecom.nunique()).reset_index().rename(columns = {'index': 'feature', 0: 'nunique'})\n",
    "print(col_0_variance[col_0_variance['nunique'] == 1])"
   ]
  },
  {
   "cell_type": "code",
   "execution_count": 23,
   "id": "16cd4a6f",
   "metadata": {},
   "outputs": [
    {
     "data": {
      "text/plain": [
       "['loc_og_t2o_mou',\n",
       " 'std_og_t2o_mou',\n",
       " 'loc_ic_t2o_mou',\n",
       " 'std_og_t2c_mou_6',\n",
       " 'std_og_t2c_mou_7',\n",
       " 'std_og_t2c_mou_8',\n",
       " 'std_og_t2c_mou_9',\n",
       " 'std_ic_t2o_mou_6',\n",
       " 'std_ic_t2o_mou_7',\n",
       " 'std_ic_t2o_mou_8',\n",
       " 'std_ic_t2o_mou_9']"
      ]
     },
     "execution_count": 23,
     "metadata": {},
     "output_type": "execute_result"
    }
   ],
   "source": [
    "# Drop these columns as they do not contribute any variance in the dataset\n",
    "# Create a list of these columns\n",
    "\n",
    "drop_cols = list(col_0_variance[col_0_variance['nunique'] == 1][\"feature\"])\n",
    "drop_cols"
   ]
  },
  {
   "cell_type": "code",
   "execution_count": 24,
   "id": "7ed8cb7c",
   "metadata": {},
   "outputs": [],
   "source": [
    "# Dropping the above columns\n",
    "\n",
    "telecom.drop(columns = drop_cols, inplace = True)"
   ]
  },
  {
   "cell_type": "code",
   "execution_count": 25,
   "id": "fb4ad10b",
   "metadata": {},
   "outputs": [
    {
     "data": {
      "text/plain": [
       "(99999, 185)"
      ]
     },
     "execution_count": 25,
     "metadata": {},
     "output_type": "execute_result"
    }
   ],
   "source": [
    "# Let's check the shape of the dataset now\n",
    "\n",
    "telecom.shape"
   ]
  },
  {
   "cell_type": "markdown",
   "id": "67ccda1d",
   "metadata": {},
   "source": [
    "The number of columns has come down to 185 from 226"
   ]
  },
  {
   "cell_type": "code",
   "execution_count": 26,
   "id": "1c4daab8",
   "metadata": {},
   "outputs": [],
   "source": [
    "# Filling 0s on to the remaining null value columns\n",
    "\n",
    "telecom = telecom.fillna(0)"
   ]
  },
  {
   "cell_type": "code",
   "execution_count": 27,
   "id": "bb277372",
   "metadata": {},
   "outputs": [
    {
     "data": {
      "text/plain": [
       "arpu_6         0\n",
       "arpu_7         0\n",
       "arpu_8         0\n",
       "arpu_9         0\n",
       "onnet_mou_6    0\n",
       "              ..\n",
       "aon            0\n",
       "aug_vbc_3g     0\n",
       "jul_vbc_3g     0\n",
       "jun_vbc_3g     0\n",
       "sep_vbc_3g     0\n",
       "Length: 185, dtype: int64"
      ]
     },
     "execution_count": 27,
     "metadata": {},
     "output_type": "execute_result"
    }
   ],
   "source": [
    "# Final check with null values\n",
    "\n",
    "telecom.isna().sum()"
   ]
  },
  {
   "cell_type": "markdown",
   "id": "a8877122",
   "metadata": {},
   "source": [
    "### Filtering High Value Customers"
   ]
  },
  {
   "cell_type": "markdown",
   "id": "d6db6a7c",
   "metadata": {},
   "source": [
    "* Customers are high value customers if their average recharge amount for June and July is more than or equal to the 70th percentile of the average recharge amount."
   ]
  },
  {
   "cell_type": "code",
   "execution_count": 28,
   "id": "7a5e3255",
   "metadata": {},
   "outputs": [],
   "source": [
    "# Create/derive new variables to filter out high value customers\n",
    "# Deriving the total data recharge amount for June and July.\n",
    "\n",
    "telecom[\"data_recharge_amnt_6_total\"] = telecom.total_rech_data_6 * telecom.av_rech_amt_data_6\n",
    "telecom[\"data_recharge_amnt_7_total\"] = telecom.total_rech_data_7 * telecom.av_rech_amt_data_7"
   ]
  },
  {
   "cell_type": "code",
   "execution_count": 29,
   "id": "7ca975aa",
   "metadata": {},
   "outputs": [],
   "source": [
    "# Deriving the total recharge amount for June and July.\n",
    "\n",
    "telecom[\"recharge_amnt_6_total\"] = telecom.total_rech_amt_6 + telecom.data_recharge_amnt_6_total\n",
    "telecom[\"recharge_amnt_7_total\"] = telecom.total_rech_amt_7 + telecom.data_recharge_amnt_7_total"
   ]
  },
  {
   "cell_type": "code",
   "execution_count": 30,
   "id": "4285f83c",
   "metadata": {},
   "outputs": [],
   "source": [
    "# Deriving the average amount of recharge for June and July\n",
    "\n",
    "telecom['average_amnt_6and7'] = (telecom[\"recharge_amnt_6_total\"] + telecom[\"recharge_amnt_7_total\"])/2"
   ]
  },
  {
   "cell_type": "code",
   "execution_count": 31,
   "id": "135ddebc",
   "metadata": {},
   "outputs": [
    {
     "data": {
      "text/plain": [
       "478.0"
      ]
     },
     "execution_count": 31,
     "metadata": {},
     "output_type": "execute_result"
    }
   ],
   "source": [
    "# 70th percentile of \"average_amnt_6_7\"\n",
    "\n",
    "telecom['average_amnt_6and7'].quantile(.70)"
   ]
  },
  {
   "cell_type": "code",
   "execution_count": 32,
   "id": "5002d588",
   "metadata": {},
   "outputs": [],
   "source": [
    "# Filtering high value customers based on the 70th percentile\n",
    "\n",
    "telecom_highvaluecust = telecom[telecom[\"average_amnt_6and7\"]>= telecom[\"average_amnt_6and7\"].quantile(.70)]"
   ]
  },
  {
   "cell_type": "code",
   "execution_count": 33,
   "id": "138144c4",
   "metadata": {},
   "outputs": [
    {
     "data": {
      "text/plain": [
       "(30001, 190)"
      ]
     },
     "execution_count": 33,
     "metadata": {},
     "output_type": "execute_result"
    }
   ],
   "source": [
    "# Shape of the dataset now (number of rows and columns)\n",
    "\n",
    "telecom_highvaluecust.shape "
   ]
  },
  {
   "cell_type": "markdown",
   "id": "c22b8bf1",
   "metadata": {},
   "source": [
    "Removing the derived columns as we have filtered the high value customer's data"
   ]
  },
  {
   "cell_type": "code",
   "execution_count": 34,
   "id": "7151fd5d",
   "metadata": {},
   "outputs": [],
   "source": [
    "# Dropping the newly derived columns\n",
    "\n",
    "telecom_highvaluecust.drop(columns = [\"data_recharge_amnt_6_total\",\"data_recharge_amnt_7_total\",\"recharge_amnt_6_total\",\\\n",
    "                                \"recharge_amnt_7_total\",\"average_amnt_6and7\"], inplace = True)"
   ]
  },
  {
   "cell_type": "code",
   "execution_count": 35,
   "id": "f73d5b31",
   "metadata": {},
   "outputs": [
    {
     "data": {
      "text/plain": [
       "(30001, 185)"
      ]
     },
     "execution_count": 35,
     "metadata": {},
     "output_type": "execute_result"
    }
   ],
   "source": [
    "# Final shape of the dataset (number of rows and columns)\n",
    "\n",
    "telecom_highvaluecust.shape "
   ]
  },
  {
   "cell_type": "markdown",
   "id": "44abd096",
   "metadata": {},
   "source": [
    "Insights from the above output:\n",
    "* Number of rows: 30001\n",
    "* Number of columns: 185"
   ]
  },
  {
   "cell_type": "markdown",
   "id": "b3a2e9be",
   "metadata": {},
   "source": [
    "#### Implementing the target variable: churn"
   ]
  },
  {
   "cell_type": "markdown",
   "id": "e9d90c57",
   "metadata": {},
   "source": [
    "We have multiple customer behavior variables to understand if a user will churn or not. Below are the attributes which helps in understanding the churn behavior:\n",
    "* vol_2g_mb_9\n",
    "* vol_3g_mb_9\n",
    "* total_ic_mou_9\n",
    "* total_og_mou_9"
   ]
  },
  {
   "cell_type": "code",
   "execution_count": 36,
   "id": "89ffed47",
   "metadata": {},
   "outputs": [],
   "source": [
    "# Consumption of data in total (2G and 3G)\n",
    "\n",
    "telecom_highvaluecust[\"total_data_consumptions\"] = telecom_highvaluecust.vol_2g_mb_9 + telecom_highvaluecust.vol_3g_mb_9"
   ]
  },
  {
   "cell_type": "code",
   "execution_count": 37,
   "id": "178d0430",
   "metadata": {},
   "outputs": [],
   "source": [
    "# Total number of incoming and outgoing calls\n",
    "\n",
    "telecom_highvaluecust['total_calls_9'] = telecom_highvaluecust.total_ic_mou_9 + telecom_highvaluecust.total_og_mou_9"
   ]
  },
  {
   "cell_type": "code",
   "execution_count": 38,
   "id": "5fdf4378",
   "metadata": {},
   "outputs": [],
   "source": [
    "# Creating a churn variable\n",
    "\n",
    "telecom_highvaluecust[\"churn\"] = telecom_highvaluecust.apply(lambda row:1 if (row.total_calls_9 == 0 and row.total_data_consumptions == 0) else 0, axis = 1)"
   ]
  },
  {
   "cell_type": "markdown",
   "id": "d9666dc1",
   "metadata": {},
   "source": [
    "Here, we will mark each churned customer as 1 and non-churned customer as 0.  \n",
    "A churn customer is one who has not consumed any internet data or made any calls (incoming or outgoing) on the 9th month (September)"
   ]
  },
  {
   "cell_type": "code",
   "execution_count": 39,
   "id": "8bfc7226",
   "metadata": {},
   "outputs": [
    {
     "name": "stdout",
     "output_type": "stream",
     "text": [
      "0    92.0\n",
      "1     8.0\n",
      "Name: churn, dtype: float64\n"
     ]
    }
   ],
   "source": [
    "# Percentage of churned and non-churned customers\n",
    "\n",
    "print((round(100*telecom_highvaluecust[\"churn\"].value_counts(normalize=True))))"
   ]
  },
  {
   "cell_type": "markdown",
   "id": "6ae565a6",
   "metadata": {},
   "source": [
    "Since the data seems imbalanced, we can drop the derived variable"
   ]
  },
  {
   "cell_type": "code",
   "execution_count": 40,
   "id": "964cbe05",
   "metadata": {},
   "outputs": [],
   "source": [
    "# Drop the derived variable \n",
    "\n",
    "telecom_highvaluecust.drop(columns = [\"total_calls_9\",\"total_data_consumptions\"], inplace = True)"
   ]
  },
  {
   "cell_type": "code",
   "execution_count": 41,
   "id": "ff2f3a6a",
   "metadata": {},
   "outputs": [],
   "source": [
    "# Columns corresponding to the 9th month (September) can be dropped\n",
    "\n",
    "telecom_highvaluecust = telecom_highvaluecust.filter(regex = '[^9]$', axis = 1)"
   ]
  },
  {
   "cell_type": "markdown",
   "id": "1501b8ca",
   "metadata": {},
   "source": [
    "Since the ninth month (September) is the ‘churn’ phase, the users of these columns have already churned.  \n",
    "This data will not help us in churn prediction. Hence, we can eliminate the attributes which belong to this phase.  "
   ]
  },
  {
   "cell_type": "code",
   "execution_count": 42,
   "id": "2473a9c6",
   "metadata": {
    "scrolled": false
   },
   "outputs": [
    {
     "name": "stdout",
     "output_type": "stream",
     "text": [
      "<class 'pandas.core.frame.DataFrame'>\n",
      "Int64Index: 30001 entries, 0 to 99997\n",
      "Data columns (total 141 columns):\n",
      " #    Column              Dtype  \n",
      "---   ------              -----  \n",
      " 0    arpu_6              float64\n",
      " 1    arpu_7              float64\n",
      " 2    arpu_8              float64\n",
      " 3    onnet_mou_6         float64\n",
      " 4    onnet_mou_7         float64\n",
      " 5    onnet_mou_8         float64\n",
      " 6    offnet_mou_6        float64\n",
      " 7    offnet_mou_7        float64\n",
      " 8    offnet_mou_8        float64\n",
      " 9    roam_ic_mou_6       float64\n",
      " 10   roam_ic_mou_7       float64\n",
      " 11   roam_ic_mou_8       float64\n",
      " 12   roam_og_mou_6       float64\n",
      " 13   roam_og_mou_7       float64\n",
      " 14   roam_og_mou_8       float64\n",
      " 15   loc_og_t2t_mou_6    float64\n",
      " 16   loc_og_t2t_mou_7    float64\n",
      " 17   loc_og_t2t_mou_8    float64\n",
      " 18   loc_og_t2m_mou_6    float64\n",
      " 19   loc_og_t2m_mou_7    float64\n",
      " 20   loc_og_t2m_mou_8    float64\n",
      " 21   loc_og_t2f_mou_6    float64\n",
      " 22   loc_og_t2f_mou_7    float64\n",
      " 23   loc_og_t2f_mou_8    float64\n",
      " 24   loc_og_t2c_mou_6    float64\n",
      " 25   loc_og_t2c_mou_7    float64\n",
      " 26   loc_og_t2c_mou_8    float64\n",
      " 27   loc_og_mou_6        float64\n",
      " 28   loc_og_mou_7        float64\n",
      " 29   loc_og_mou_8        float64\n",
      " 30   std_og_t2t_mou_6    float64\n",
      " 31   std_og_t2t_mou_7    float64\n",
      " 32   std_og_t2t_mou_8    float64\n",
      " 33   std_og_t2m_mou_6    float64\n",
      " 34   std_og_t2m_mou_7    float64\n",
      " 35   std_og_t2m_mou_8    float64\n",
      " 36   std_og_t2f_mou_6    float64\n",
      " 37   std_og_t2f_mou_7    float64\n",
      " 38   std_og_t2f_mou_8    float64\n",
      " 39   std_og_mou_6        float64\n",
      " 40   std_og_mou_7        float64\n",
      " 41   std_og_mou_8        float64\n",
      " 42   isd_og_mou_6        float64\n",
      " 43   isd_og_mou_7        float64\n",
      " 44   isd_og_mou_8        float64\n",
      " 45   spl_og_mou_6        float64\n",
      " 46   spl_og_mou_7        float64\n",
      " 47   spl_og_mou_8        float64\n",
      " 48   og_others_6         float64\n",
      " 49   og_others_7         float64\n",
      " 50   og_others_8         float64\n",
      " 51   total_og_mou_6      float64\n",
      " 52   total_og_mou_7      float64\n",
      " 53   total_og_mou_8      float64\n",
      " 54   loc_ic_t2t_mou_6    float64\n",
      " 55   loc_ic_t2t_mou_7    float64\n",
      " 56   loc_ic_t2t_mou_8    float64\n",
      " 57   loc_ic_t2m_mou_6    float64\n",
      " 58   loc_ic_t2m_mou_7    float64\n",
      " 59   loc_ic_t2m_mou_8    float64\n",
      " 60   loc_ic_t2f_mou_6    float64\n",
      " 61   loc_ic_t2f_mou_7    float64\n",
      " 62   loc_ic_t2f_mou_8    float64\n",
      " 63   loc_ic_mou_6        float64\n",
      " 64   loc_ic_mou_7        float64\n",
      " 65   loc_ic_mou_8        float64\n",
      " 66   std_ic_t2t_mou_6    float64\n",
      " 67   std_ic_t2t_mou_7    float64\n",
      " 68   std_ic_t2t_mou_8    float64\n",
      " 69   std_ic_t2m_mou_6    float64\n",
      " 70   std_ic_t2m_mou_7    float64\n",
      " 71   std_ic_t2m_mou_8    float64\n",
      " 72   std_ic_t2f_mou_6    float64\n",
      " 73   std_ic_t2f_mou_7    float64\n",
      " 74   std_ic_t2f_mou_8    float64\n",
      " 75   std_ic_mou_6        float64\n",
      " 76   std_ic_mou_7        float64\n",
      " 77   std_ic_mou_8        float64\n",
      " 78   total_ic_mou_6      float64\n",
      " 79   total_ic_mou_7      float64\n",
      " 80   total_ic_mou_8      float64\n",
      " 81   spl_ic_mou_6        float64\n",
      " 82   spl_ic_mou_7        float64\n",
      " 83   spl_ic_mou_8        float64\n",
      " 84   isd_ic_mou_6        float64\n",
      " 85   isd_ic_mou_7        float64\n",
      " 86   isd_ic_mou_8        float64\n",
      " 87   ic_others_6         float64\n",
      " 88   ic_others_7         float64\n",
      " 89   ic_others_8         float64\n",
      " 90   total_rech_num_6    int64  \n",
      " 91   total_rech_num_7    int64  \n",
      " 92   total_rech_num_8    int64  \n",
      " 93   total_rech_amt_6    int64  \n",
      " 94   total_rech_amt_7    int64  \n",
      " 95   total_rech_amt_8    int64  \n",
      " 96   max_rech_amt_6      int64  \n",
      " 97   max_rech_amt_7      int64  \n",
      " 98   max_rech_amt_8      int64  \n",
      " 99   last_day_rch_amt_6  int64  \n",
      " 100  last_day_rch_amt_7  int64  \n",
      " 101  last_day_rch_amt_8  int64  \n",
      " 102  total_rech_data_6   float64\n",
      " 103  total_rech_data_7   float64\n",
      " 104  total_rech_data_8   float64\n",
      " 105  max_rech_data_6     float64\n",
      " 106  max_rech_data_7     float64\n",
      " 107  max_rech_data_8     float64\n",
      " 108  av_rech_amt_data_6  float64\n",
      " 109  av_rech_amt_data_7  float64\n",
      " 110  av_rech_amt_data_8  float64\n",
      " 111  vol_2g_mb_6         float64\n",
      " 112  vol_2g_mb_7         float64\n",
      " 113  vol_2g_mb_8         float64\n",
      " 114  vol_3g_mb_6         float64\n",
      " 115  vol_3g_mb_7         float64\n",
      " 116  vol_3g_mb_8         float64\n",
      " 117  night_pck_user_6    float64\n",
      " 118  night_pck_user_7    float64\n",
      " 119  night_pck_user_8    float64\n",
      " 120  monthly_2g_6        int64  \n",
      " 121  monthly_2g_7        int64  \n",
      " 122  monthly_2g_8        int64  \n",
      " 123  sachet_2g_6         int64  \n",
      " 124  sachet_2g_7         int64  \n",
      " 125  sachet_2g_8         int64  \n",
      " 126  monthly_3g_6        int64  \n",
      " 127  monthly_3g_7        int64  \n",
      " 128  monthly_3g_8        int64  \n",
      " 129  sachet_3g_6         int64  \n",
      " 130  sachet_3g_7         int64  \n",
      " 131  sachet_3g_8         int64  \n",
      " 132  fb_user_6           float64\n",
      " 133  fb_user_7           float64\n",
      " 134  fb_user_8           float64\n",
      " 135  aon                 int64  \n",
      " 136  aug_vbc_3g          float64\n",
      " 137  jul_vbc_3g          float64\n",
      " 138  jun_vbc_3g          float64\n",
      " 139  sep_vbc_3g          float64\n",
      " 140  churn               int64  \n",
      "dtypes: float64(115), int64(26)\n",
      "memory usage: 32.5 MB\n"
     ]
    }
   ],
   "source": [
    "# Final high value customer data set\n",
    "\n",
    "telecom_highvaluecust.info(verbose = 1)"
   ]
  },
  {
   "cell_type": "markdown",
   "id": "5fa3df1b",
   "metadata": {},
   "source": [
    "Insights from the above output:\n",
    "\n",
    "* Number of columns or attributes: 141 \n",
    "* Number of floating datatype variables: 115\n",
    "* Number of integer datatype variables: 26\n",
    "* Number of rows: 30001 "
   ]
  },
  {
   "cell_type": "markdown",
   "id": "1535ae9b",
   "metadata": {},
   "source": [
    "## Step 3: Performing EDA"
   ]
  },
  {
   "cell_type": "code",
   "execution_count": 43,
   "id": "fdcfbed0",
   "metadata": {},
   "outputs": [
    {
     "data": {
      "image/png": "[encoded data removed]",
      "text/plain": [
       "<Figure size 432x432 with 1 Axes>"
      ]
     },
     "metadata": {
      "needs_background": "light"
     },
     "output_type": "display_data"
    }
   ],
   "source": [
    "# Bar plot to validate churn and non-churn in percentages\n",
    "\n",
    "plt.figure(figsize = (6,6))\n",
    "telecom_highvaluecust[\"churn\"].value_counts(normalize = True).plot.bar()\n",
    "plt.tick_params(size = 5, labelsize = 10) \n",
    "plt.title(\"Churn and Non-Churn distributions in percentage\", fontsize = 10)\n",
    "plt.ylabel(\"Percentages\", fontsize = 10)\n",
    "plt.xlabel(\"0-Non-churn        1-Churn\", fontsize = 10)\n",
    "plt.show()"
   ]
  },
  {
   "cell_type": "code",
   "execution_count": 44,
   "id": "900332c8",
   "metadata": {},
   "outputs": [],
   "source": [
    "# Derive new features to be able to visualize the data. Comparing data between June & July with August \n",
    "\n",
    "# Arpu: Average Revenue Per User\n",
    "telecom_highvaluecust['arpu_diff'] = telecom_highvaluecust.arpu_8 - ((telecom_highvaluecust.arpu_6 + telecom_highvaluecust.arpu_7)/2)\n",
    "\n",
    "# Onnet: All kind of calls within the same operator network\n",
    "telecom_highvaluecust['onnet_mou_diff'] = telecom_highvaluecust.onnet_mou_8 - ((telecom_highvaluecust.onnet_mou_6 + telecom_highvaluecust.onnet_mou_7)/2)\n",
    "\n",
    "# Offnet: All kind of calls outside the operator T network\n",
    "telecom_highvaluecust['offnet_mou_diff'] = telecom_highvaluecust.offnet_mou_8 - ((telecom_highvaluecust.offnet_mou_6 + telecom_highvaluecust.offnet_mou_7)/2)\n",
    "\n",
    "# Roam-incoming: Indicates that customer is in roaming zone during the call\n",
    "telecom_highvaluecust['roam_ic_mou_diff'] = telecom_highvaluecust.roam_ic_mou_8 - ((telecom_highvaluecust.roam_ic_mou_6 + telecom_highvaluecust.roam_ic_mou_7)/2)\n",
    "\n",
    "# Roam-outgoing : Indicates that customer is in roaming zone during the call\n",
    "telecom_highvaluecust['roam_og_mou_diff'] = telecom_highvaluecust.roam_og_mou_8 - ((telecom_highvaluecust.roam_og_mou_6 + telecom_highvaluecust.roam_og_mou_7)/2)\n",
    "\n",
    "# Loc-outgoing: Local calls - within same telecom circle\n",
    "telecom_highvaluecust['loc_og_mou_diff'] = telecom_highvaluecust.loc_og_mou_8 - ((telecom_highvaluecust.loc_og_mou_6 + telecom_highvaluecust.loc_og_mou_7)/2)\n",
    "\n",
    "# Std-outgoing: STD calls - outside the calling circle\n",
    "telecom_highvaluecust['std_og_mou_diff'] = telecom_highvaluecust.std_og_mou_8 - ((telecom_highvaluecust.std_og_mou_6 + telecom_highvaluecust.std_og_mou_7)/2)\n",
    "\n",
    "# ISD-outgoing: ISD calls\n",
    "telecom_highvaluecust['isd_og_mou_diff'] = telecom_highvaluecust.isd_og_mou_8 - ((telecom_highvaluecust.isd_og_mou_6 + telecom_highvaluecust.isd_og_mou_7)/2)\n",
    "\n",
    "# SPL-outgoing: Special calls\n",
    "telecom_highvaluecust['spl_og_mou_diff'] = telecom_highvaluecust.spl_og_mou_8 - ((telecom_highvaluecust.spl_og_mou_6 + telecom_highvaluecust.spl_og_mou_7)/2)\n",
    "\n",
    "# Total-outgoing: Total outgoing number of calls\n",
    "telecom_highvaluecust['total_og_mou_diff'] = telecom_highvaluecust.total_og_mou_8 - ((telecom_highvaluecust.total_og_mou_6 + telecom_highvaluecust.total_og_mou_7)/2)\n",
    "\n",
    "# Loc-incoming: Local calls - within same telecom circle\n",
    "telecom_highvaluecust['loc_ic_mou_diff'] = telecom_highvaluecust.loc_ic_mou_8 - ((telecom_highvaluecust.loc_ic_mou_6 + telecom_highvaluecust.loc_ic_mou_7)/2)\n",
    "\n",
    "# Std-incoming: STD calls - outside the calling circle\n",
    "telecom_highvaluecust['std_ic_mou_diff'] = telecom_highvaluecust.std_ic_mou_8 - ((telecom_highvaluecust.std_ic_mou_6 + telecom_highvaluecust.std_ic_mou_7)/2)\n",
    "\n",
    "# ISD-incoming: ISD calls\n",
    "telecom_highvaluecust['isd_ic_mou_diff'] = telecom_highvaluecust.isd_ic_mou_8 - ((telecom_highvaluecust.isd_ic_mou_6 + telecom_highvaluecust.isd_ic_mou_7)/2)\n",
    "\n",
    "# SPL-incoming: Special calls\n",
    "telecom_highvaluecust['spl_ic_mou_diff'] = telecom_highvaluecust.spl_ic_mou_8 - ((telecom_highvaluecust.spl_ic_mou_6 + telecom_highvaluecust.spl_ic_mou_7)/2)\n",
    "\n",
    "# Total-incoming: Total number of calls\n",
    "telecom_highvaluecust['total_ic_mou_diff'] = telecom_highvaluecust.total_ic_mou_8 - ((telecom_highvaluecust.total_ic_mou_6 + telecom_highvaluecust.total_ic_mou_7)/2)\n",
    "\n",
    "# Total Recharge number\n",
    "telecom_highvaluecust['total_rech_num_diff'] = telecom_highvaluecust.total_rech_num_8 - ((telecom_highvaluecust.total_rech_num_6 + telecom_highvaluecust.total_rech_num_7)/2)\n",
    "\n",
    "# Total recharge amount\n",
    "telecom_highvaluecust['total_rech_amt_diff'] = telecom_highvaluecust.total_rech_amt_8 - ((telecom_highvaluecust.total_rech_amt_6 + telecom_highvaluecust.total_rech_amt_7)/2)\n",
    "\n",
    "# Maximum recharge amount\n",
    "telecom_highvaluecust['max_rech_amt_diff'] = telecom_highvaluecust.max_rech_amt_8 - ((telecom_highvaluecust.max_rech_amt_6 + telecom_highvaluecust.max_rech_amt_7)/2)\n",
    "\n",
    "# Total recharge data\n",
    "telecom_highvaluecust['total_rech_data_diff'] = telecom_highvaluecust.total_rech_data_8 - ((telecom_highvaluecust.total_rech_data_6 + telecom_highvaluecust.total_rech_data_7)/2)\n",
    "\n",
    "# Maximum recharge data\n",
    "telecom_highvaluecust['max_rech_data_diff'] = telecom_highvaluecust.max_rech_data_8 - ((telecom_highvaluecust.max_rech_data_6 + telecom_highvaluecust.max_rech_data_7)/2)\n",
    "\n",
    "# Average recharge amount in data\n",
    "telecom_highvaluecust['av_rech_amt_data_diff'] = telecom_highvaluecust.av_rech_amt_data_8 - ((telecom_highvaluecust.av_rech_amt_data_6 + telecom_highvaluecust.av_rech_amt_data_7)/2)\n",
    "\n",
    "# 2G data consumption \n",
    "telecom_highvaluecust['vol_2g_mb_diff'] = telecom_highvaluecust.vol_2g_mb_8 - ((telecom_highvaluecust.vol_2g_mb_6 + telecom_highvaluecust.vol_2g_mb_7)/2)\n",
    "\n",
    "# 3G data consumption\n",
    "telecom_highvaluecust['vol_3g_mb_diff'] = telecom_highvaluecust.vol_3g_mb_8 - ((telecom_highvaluecust.vol_3g_mb_6 + telecom_highvaluecust.vol_3g_mb_7)/2)"
   ]
  },
  {
   "cell_type": "markdown",
   "id": "1f0aa5e2",
   "metadata": {},
   "source": [
    "#### Visualize the data"
   ]
  },
  {
   "cell_type": "code",
   "execution_count": 45,
   "id": "9b6198d5",
   "metadata": {},
   "outputs": [
    {
     "data": {
      "image/png": "[encoded data removed]",
      "text/plain": [
       "<Figure size 432x432 with 1 Axes>"
      ]
     },
     "metadata": {
      "needs_background": "light"
     },
     "output_type": "display_data"
    }
   ],
   "source": [
    "# Bar chart to visualize onnet_mou: All kind of calls within the same operator network\n",
    "\n",
    "telecom_highvaluecust.groupby(\"churn\")[\"onnet_mou_6\",\"onnet_mou_7\",\"onnet_mou_8\" ].median().plot.bar(figsize = [6,6])\n",
    "plt.tick_params(size = 5, labelsize = 10) \n",
    "plt.title(\"Same network usage in minutes (6,7,8)\", fontsize = 10)\n",
    "plt.ylabel(\"Median\", fontsize = 10)\n",
    "plt.xlabel(\"0: Non-churn, 1: Churn\", fontsize = 10)\n",
    "plt.show()"
   ]
  },
  {
   "cell_type": "markdown",
   "id": "bc93022b",
   "metadata": {},
   "source": [
    "**Insight**\n",
    "* Considering the churn part of the chart, customers who spent more time in month 6 (June) tend to churn."
   ]
  },
  {
   "cell_type": "code",
   "execution_count": 46,
   "id": "c3fceb64",
   "metadata": {},
   "outputs": [
    {
     "data": {
      "image/png": "[encoded data removed]",
      "text/plain": [
       "<Figure size 432x432 with 1 Axes>"
      ]
     },
     "metadata": {
      "needs_background": "light"
     },
     "output_type": "display_data"
    }
   ],
   "source": [
    "# Bar chart to visualize offnet_mou:  All kind of calls outside the operator T network\n",
    "\n",
    "telecom_highvaluecust.groupby(\"churn\")[\"offnet_mou_6\",\"offnet_mou_7\",\"offnet_mou_8\" ].median().plot.bar(figsize = [6,6])\n",
    "plt.tick_params(size = 5, labelsize = 10) \n",
    "plt.title(\"Different network usage in minutes (6,7,8)\", fontsize = 10)\n",
    "plt.ylabel(\"Median\", fontsize = 10)\n",
    "plt.xlabel(\"0: Non-churn, 1: Churn\", fontsize = 10)\n",
    "plt.show()"
   ]
  },
  {
   "cell_type": "markdown",
   "id": "56e9b291",
   "metadata": {},
   "source": [
    "**Insight**\n",
    "* Customers who have a significant variation in call time between month 6 and month 7 are more likely to churn."
   ]
  },
  {
   "cell_type": "code",
   "execution_count": 47,
   "id": "b20077fe",
   "metadata": {},
   "outputs": [
    {
     "data": {
      "image/png": "[encoded data removed]",
      "text/plain": [
       "<Figure size 432x432 with 1 Axes>"
      ]
     },
     "metadata": {
      "needs_background": "light"
     },
     "output_type": "display_data"
    }
   ],
   "source": [
    "# Bar chart to visualize total_rech_amt: Total recharge amount\n",
    "\n",
    "telecom_highvaluecust.groupby(\"churn\")[\"total_rech_amt_6\",\"total_rech_amt_7\",\"total_rech_amt_8\" ].median().plot.bar(figsize = [6,6])\n",
    "plt.tick_params(size = 5, labelsize = 10) \n",
    "plt.title(\"Total recharge amount (6,7,8)\",fontsize = 10)\n",
    "plt.ylabel(\"Median\", fontsize = 10)\n",
    "plt.xlabel(\"0: Non-churn, 1: Churn\", fontsize = 10)\n",
    "plt.show()"
   ]
  },
  {
   "cell_type": "markdown",
   "id": "ade0d54b",
   "metadata": {},
   "source": [
    "**Insight**\n",
    "* Users are more likely to churn when the total recharge amount differs significantly."
   ]
  },
  {
   "cell_type": "code",
   "execution_count": 48,
   "id": "e17706a4",
   "metadata": {},
   "outputs": [
    {
     "data": {
      "image/png": "[encoded data removed]",
      "text/plain": [
       "<Figure size 432x432 with 1 Axes>"
      ]
     },
     "metadata": {
      "needs_background": "light"
     },
     "output_type": "display_data"
    }
   ],
   "source": [
    "# Bar chart to visualize arpu: Average Revenue Per User\n",
    "\n",
    "telecom_highvaluecust.groupby(\"churn\")[\"arpu_6\",\"arpu_7\",\"arpu_8\"].median().plot.bar(figsize = [6,6])\n",
    "plt.title(\"Average Revenue Per User (6,7,8)\", fontsize = 10)\n",
    "plt.tick_params(size = 5, labelsize = 10) \n",
    "plt.ylabel(\"Median\", fontsize = 10)\n",
    "plt.xlabel(\"0: Non-churn, 1: Churn\", fontsize = 10)\n",
    "plt.show()"
   ]
  },
  {
   "cell_type": "markdown",
   "id": "55e0589e",
   "metadata": {},
   "source": [
    "**Insight**\n",
    "* Considering the churn part of the chart, customers who spent more money in month 6 (June) with the operator tend to churn."
   ]
  },
  {
   "cell_type": "code",
   "execution_count": 49,
   "id": "2540e961",
   "metadata": {},
   "outputs": [
    {
     "data": {
      "image/png": "[encoded data removed]",
      "text/plain": [
       "<Figure size 432x288 with 1 Axes>"
      ]
     },
     "metadata": {
      "needs_background": "light"
     },
     "output_type": "display_data"
    }
   ],
   "source": [
    "# Bar chart to visualize total_rech_data: Total recharge data\n",
    "\n",
    "telecom_highvaluecust.groupby(\"churn\")[\"total_rech_data_6\",\"total_rech_data_7\",\"total_rech_data_8\" ].mean().plot.bar()\n",
    "plt.title(\"Total data recharge (6,7,8)\", fontsize = 10)\n",
    "plt.tick_params(size = 5, labelsize = 10) \n",
    "plt.ylabel(\"Median\", fontsize = 10)\n",
    "plt.xlabel(\"0: Non-churn, 1: Churn\", fontsize = 10)\n",
    "plt.show()"
   ]
  },
  {
   "cell_type": "markdown",
   "id": "1e9d9297",
   "metadata": {},
   "source": [
    "**Insight**\n",
    "* Customers that have not recharged in months 6,7 and 8 may or may not churn; we don't have sufficient data to support this."
   ]
  },
  {
   "cell_type": "code",
   "execution_count": 50,
   "id": "8bffb68f",
   "metadata": {},
   "outputs": [
    {
     "data": {
      "image/png": "[encoded data removed]",
      "text/plain": [
       "<Figure size 432x432 with 1 Axes>"
      ]
     },
     "metadata": {
      "needs_background": "light"
     },
     "output_type": "display_data"
    }
   ],
   "source": [
    "# Bar chart to visualize vol_2g_mb_6: 2G consumption\n",
    "\n",
    "telecom_highvaluecust.groupby(\"churn\")[\"vol_2g_mb_6\",\"vol_2g_mb_7\",\"vol_2g_mb_8\" ].median().plot.bar(figsize = [6,6])\n",
    "plt.title(\"2G consumption (6,7,8)\", fontsize = 10)\n",
    "plt.tick_params(size = 5, labelsize = 10) \n",
    "plt.ylabel(\"Median\", fontsize = 10)\n",
    "plt.xlabel(\"0: Non-churn, 1: Churn\", fontsize = 10)\n",
    "plt.show()"
   ]
  },
  {
   "cell_type": "markdown",
   "id": "1cca3c50",
   "metadata": {},
   "source": [
    "**Insight**\n",
    "* There is no substantial proof from statistics that those who have not consumed 2G data/internet would churn."
   ]
  },
  {
   "cell_type": "code",
   "execution_count": 51,
   "id": "f81c5566",
   "metadata": {},
   "outputs": [
    {
     "data": {
      "image/png": "[encoded data removed]",
      "text/plain": [
       "<Figure size 432x432 with 1 Axes>"
      ]
     },
     "metadata": {
      "needs_background": "light"
     },
     "output_type": "display_data"
    }
   ],
   "source": [
    "# Bar chart to visualize av_rech_amt_data: Average recharge data amount\n",
    "\n",
    "telecom_highvaluecust.groupby(\"churn\")[\"av_rech_amt_data_6\",\"av_rech_amt_data_7\",\"av_rech_amt_data_8\" ].median().plot.\\\n",
    "bar(figsize = [6,6])\n",
    "plt.title(\"Average recharge data amount (6,7,8)\", fontsize = 10)\n",
    "plt.tick_params(size = 5, labelsize = 10) \n",
    "plt.ylabel(\"Median\", fontsize = 10)\n",
    "plt.xlabel(\"0: Non-churn, 1: Churn\", fontsize = 10)\n",
    "plt.show()"
   ]
  },
  {
   "cell_type": "markdown",
   "id": "e89799f3",
   "metadata": {},
   "source": [
    "**Insight**\n",
    "* According to the dataset, the average recharge for the 6th, 7th and 8th months is zero and you are more likely to churn."
   ]
  },
  {
   "cell_type": "code",
   "execution_count": 52,
   "id": "2d8ca776",
   "metadata": {},
   "outputs": [
    {
     "data": {
      "image/png": "[encoded data removed]",
      "text/plain": [
       "<Figure size 432x432 with 1 Axes>"
      ]
     },
     "metadata": {
      "needs_background": "light"
     },
     "output_type": "display_data"
    }
   ],
   "source": [
    "# Bar chart to visualize total_ic : Total incoming calls\n",
    "\n",
    "telecom_highvaluecust.groupby(\"churn\")[\"total_ic_mou_6\",\"total_ic_mou_7\",\"total_ic_mou_8\"].median().plot.bar(figsize = [6,6])\n",
    "plt.title(\"Total incoming calls (6,7,8)\", fontsize = 10)\n",
    "plt.tick_params(size = 5, labelsize = 10) \n",
    "plt.ylabel(\"Median\", fontsize = 10)\n",
    "plt.xlabel(\"0: Non-churn, 1: Churn\", fontsize = 10)\n",
    "plt.show()"
   ]
  },
  {
   "cell_type": "markdown",
   "id": "7147751d",
   "metadata": {},
   "source": [
    "**Insight**\n",
    "* Users with a larger difference in total call minutes for the months of June, July, and August are more likely to unsubscribe"
   ]
  },
  {
   "cell_type": "code",
   "execution_count": 53,
   "id": "f1fa070f",
   "metadata": {},
   "outputs": [
    {
     "data": {
      "image/png": "[encoded data removed]",
      "text/plain": [
       "<Figure size 432x432 with 1 Axes>"
      ]
     },
     "metadata": {
      "needs_background": "light"
     },
     "output_type": "display_data"
    }
   ],
   "source": [
    "# Bar chart to visualize total_og : Total outgoing calls \n",
    "\n",
    "telecom_highvaluecust.groupby(\"churn\")[\"total_og_mou_6\",\"total_og_mou_7\",\"total_og_mou_8\"].median().plot.bar(figsize = [6,6])\n",
    "plt.title(\"Total outgoing calls (6,7,8)\", fontsize = 10)\n",
    "plt.tick_params(size = 5, labelsize = 10) \n",
    "plt.ylabel(\"Median\", fontsize = 10)\n",
    "plt.xlabel(\"0: Non-churn, 1: Churn\", fontsize = 10)\n",
    "plt.show()"
   ]
  },
  {
   "cell_type": "markdown",
   "id": "46bbbb0d",
   "metadata": {},
   "source": [
    "**Insight**\n",
    "* The overall difference in output usage is greater in the 6th and 7th months, and users are more likely to churn."
   ]
  },
  {
   "cell_type": "code",
   "execution_count": 54,
   "id": "3331f597",
   "metadata": {},
   "outputs": [
    {
     "data": {
      "image/png": "[encoded data removed]",
      "text/plain": [
       "<Figure size 432x432 with 1 Axes>"
      ]
     },
     "metadata": {
      "needs_background": "light"
     },
     "output_type": "display_data"
    }
   ],
   "source": [
    "# Bar chart to visualize local_og : Local outgoing calls \n",
    "\n",
    "telecom_highvaluecust.groupby(\"churn\")[\"loc_og_mou_6\",\"loc_og_mou_7\",\"loc_og_mou_8\"].median().plot.bar(figsize = [6,6])\n",
    "plt.title(\"Local outgoing calls (6,7,8)\", fontsize = 10)\n",
    "plt.tick_params(size = 5, labelsize = 10) \n",
    "plt.ylabel(\"Median\", fontsize = 10)\n",
    "plt.xlabel(\"0: Non-churn, 1: Churn\", fontsize = 10)\n",
    "plt.show()"
   ]
  },
  {
   "cell_type": "markdown",
   "id": "14377bc0",
   "metadata": {},
   "source": [
    "**Insight**\n",
    "* Users with less number of local calls are more likely to unsubscribe"
   ]
  },
  {
   "cell_type": "code",
   "execution_count": 55,
   "id": "4fc01c46",
   "metadata": {},
   "outputs": [
    {
     "data": {
      "image/png": "[encoded data removed]",
      "text/plain": [
       "<Figure size 432x432 with 1 Axes>"
      ]
     },
     "metadata": {
      "needs_background": "light"
     },
     "output_type": "display_data"
    }
   ],
   "source": [
    "# Bar chart to visualize loc_og_t2t : Local outgoing calls operator T to T, i.e. within same operator (mobile to mobile)\n",
    "\n",
    "telecom_highvaluecust.groupby(\"churn\")[\"loc_og_t2t_mou_6\",\"loc_og_t2t_mou_7\",\"loc_og_t2t_mou_8\"].median().plot.bar(figsize = [6,6])\n",
    "plt.title(\"Local outgoing calls operator T to T, i.e. within same operator (mobile to mobile) (6,7,8)\", fontsize = 10)\n",
    "plt.tick_params(size = 5, labelsize = 10) \n",
    "plt.ylabel(\"Median\", fontsize = 10)\n",
    "plt.xlabel(\"0: Non-churn, 1: Churn\", fontsize = 10)\n",
    "plt.show()"
   ]
  },
  {
   "cell_type": "markdown",
   "id": "5106781f",
   "metadata": {},
   "source": [
    "**Insight**\n",
    "* Outgoing local calls with the same operator in the 6th, 7th, and 8th months are low, and users are more likely to cancel/churn."
   ]
  },
  {
   "cell_type": "code",
   "execution_count": 56,
   "id": "3a699917",
   "metadata": {},
   "outputs": [
    {
     "data": {
      "image/png": "[encoded data removed]",
      "text/plain": [
       "<Figure size 432x432 with 1 Axes>"
      ]
     },
     "metadata": {
      "needs_background": "light"
     },
     "output_type": "display_data"
    }
   ],
   "source": [
    "# Bar chart to visualize loc_og_t2m : Local outgoing calls operator T to other operator mobile\n",
    "\n",
    "telecom_highvaluecust.groupby(\"churn\")[\"loc_og_t2m_mou_6\",\"loc_og_t2m_mou_7\",\"loc_og_t2m_mou_8\"].median().plot.bar(figsize = [6,6])\n",
    "plt.title(\"Local outgoing calls operator T to other operator mobile (6,7,8)\", fontsize = 10)\n",
    "plt.tick_params(size = 5, labelsize = 10) \n",
    "plt.ylabel(\"Median\", fontsize = 10)\n",
    "plt.xlabel(\"0: Non-churn, 1: Churn\", fontsize = 10)\n",
    "plt.show()"
   ]
  },
  {
   "cell_type": "markdown",
   "id": "555c0483",
   "metadata": {},
   "source": [
    "**Insight**\n",
    "* When the local outbound calls to another operator is low, users are more likely to churn."
   ]
  },
  {
   "cell_type": "code",
   "execution_count": 57,
   "id": "a952c556",
   "metadata": {},
   "outputs": [
    {
     "data": {
      "image/png": "[encoded data removed]",
      "text/plain": [
       "<Figure size 432x432 with 1 Axes>"
      ]
     },
     "metadata": {
      "needs_background": "light"
     },
     "output_type": "display_data"
    }
   ],
   "source": [
    "# Bar chart to visualize std_ic_t2t : STD incoming operator T to T calls, i.e. within same operator (mobile to mobile)\n",
    "\n",
    "telecom_highvaluecust.groupby(\"churn\")[\"std_ic_t2t_mou_6\",\"std_ic_t2t_mou_7\",\"std_ic_t2m_mou_8\"].median().plot.bar(figsize = [6,6])\n",
    "plt.title(\"STD incoming operator T to T calls (6,7,8)\", fontsize = 10)\n",
    "plt.tick_params(size = 5, labelsize = 10) \n",
    "plt.ylabel(\"Median\", fontsize = 10)\n",
    "plt.xlabel(\"0: Non-churn, 1: Churn\", fontsize = 10)\n",
    "plt.show()"
   ]
  },
  {
   "cell_type": "markdown",
   "id": "db988277",
   "metadata": {},
   "source": [
    "**Insight**\n",
    "* Customers who use more STD calls are more likely to unsubscribe."
   ]
  },
  {
   "cell_type": "code",
   "execution_count": 58,
   "id": "7905045f",
   "metadata": {},
   "outputs": [
    {
     "data": {
      "image/png": "[encoded data removed]",
      "text/plain": [
       "<Figure size 432x288 with 1 Axes>"
      ]
     },
     "metadata": {
      "needs_background": "light"
     },
     "output_type": "display_data"
    }
   ],
   "source": [
    "# Bar chart to visualize roam_ic : Incoming roaming calls\n",
    "\n",
    "telecom_highvaluecust.groupby(\"churn\")[\"roam_ic_mou_6\",\"roam_ic_mou_7\",\"roam_ic_mou_8\"].mean().plot.bar()\n",
    "plt.title(\"Incoming roaming calls (6,7,8)\", fontsize = 10)\n",
    "plt.tick_params(size = 5, labelsize = 10) \n",
    "plt.ylabel(\"Median\", fontsize = 10)\n",
    "plt.xlabel(\"0: Non-churn, 1: Churn\", fontsize = 10)\n",
    "plt.show()"
   ]
  },
  {
   "cell_type": "markdown",
   "id": "6b96a8f4",
   "metadata": {},
   "source": [
    "**Insight**\n",
    "* Customers who have received more incoming roaming calls are likely to unsubscribe."
   ]
  },
  {
   "cell_type": "code",
   "execution_count": 59,
   "id": "e0b08ffa",
   "metadata": {},
   "outputs": [
    {
     "data": {
      "image/png": "[encoded data removed]",
      "text/plain": [
       "<Figure size 432x288 with 1 Axes>"
      ]
     },
     "metadata": {
      "needs_background": "light"
     },
     "output_type": "display_data"
    }
   ],
   "source": [
    "# Bar chart to visualize roam_og : Outgoing roaming calls\n",
    "\n",
    "telecom_highvaluecust.groupby(\"churn\")[\"roam_og_mou_6\",\"roam_og_mou_7\",\"roam_og_mou_8\"].mean().plot.bar()\n",
    "plt.title(\"Outgoing roaming calls (6,7,8)\", fontsize = 10)\n",
    "plt.tick_params(size = 5, labelsize = 10) \n",
    "plt.ylabel(\"Median\", fontsize = 10)\n",
    "plt.xlabel(\"0: Non-churn, 1: Churn\", fontsize = 10)\n",
    "plt.show()"
   ]
  },
  {
   "cell_type": "markdown",
   "id": "45209572",
   "metadata": {},
   "source": [
    "**Insight**\n",
    "* Customers who have made more outgoing roaming calls are likely to churn."
   ]
  },
  {
   "cell_type": "code",
   "execution_count": 60,
   "id": "4a675116",
   "metadata": {},
   "outputs": [
    {
     "data": {
      "text/html": [
       "<div>\n",
       "<style scoped>\n",
       "    .dataframe tbody tr th:only-of-type {\n",
       "        vertical-align: middle;\n",
       "    }\n",
       "\n",
       "    .dataframe tbody tr th {\n",
       "        vertical-align: top;\n",
       "    }\n",
       "\n",
       "    .dataframe thead th {\n",
       "        text-align: right;\n",
       "    }\n",
       "</style>\n",
       "<table border=\"1\" class=\"dataframe\">\n",
       "  <thead>\n",
       "    <tr style=\"text-align: right;\">\n",
       "      <th>night_pck_user_8</th>\n",
       "      <th>-1.0</th>\n",
       "      <th>0.0</th>\n",
       "      <th>1.0</th>\n",
       "    </tr>\n",
       "    <tr>\n",
       "      <th>churn</th>\n",
       "      <th></th>\n",
       "      <th></th>\n",
       "      <th></th>\n",
       "    </tr>\n",
       "  </thead>\n",
       "  <tbody>\n",
       "    <tr>\n",
       "      <th>0</th>\n",
       "      <td>85.89123</td>\n",
       "      <td>97.117602</td>\n",
       "      <td>97.360704</td>\n",
       "    </tr>\n",
       "    <tr>\n",
       "      <th>1</th>\n",
       "      <td>14.10877</td>\n",
       "      <td>2.882398</td>\n",
       "      <td>2.639296</td>\n",
       "    </tr>\n",
       "  </tbody>\n",
       "</table>\n",
       "</div>"
      ],
      "text/plain": [
       "night_pck_user_8      -1.0        0.0        1.0\n",
       "churn                                           \n",
       "0                 85.89123  97.117602  97.360704\n",
       "1                 14.10877   2.882398   2.639296"
      ]
     },
     "execution_count": 60,
     "metadata": {},
     "output_type": "execute_result"
    }
   ],
   "source": [
    "# Check the churn rate for each category of nightpack users in the 8th month (August)\n",
    "\n",
    "pd.crosstab(telecom_highvaluecust.churn, telecom_highvaluecust.night_pck_user_8, normalize = 'columns')*100"
   ]
  },
  {
   "cell_type": "code",
   "execution_count": 61,
   "id": "986e90a4",
   "metadata": {},
   "outputs": [
    {
     "data": {
      "text/html": [
       "<div>\n",
       "<style scoped>\n",
       "    .dataframe tbody tr th:only-of-type {\n",
       "        vertical-align: middle;\n",
       "    }\n",
       "\n",
       "    .dataframe tbody tr th {\n",
       "        vertical-align: top;\n",
       "    }\n",
       "\n",
       "    .dataframe thead th {\n",
       "        text-align: right;\n",
       "    }\n",
       "</style>\n",
       "<table border=\"1\" class=\"dataframe\">\n",
       "  <thead>\n",
       "    <tr style=\"text-align: right;\">\n",
       "      <th>fb_user_8</th>\n",
       "      <th>-1.0</th>\n",
       "      <th>0.0</th>\n",
       "      <th>1.0</th>\n",
       "    </tr>\n",
       "    <tr>\n",
       "      <th>churn</th>\n",
       "      <th></th>\n",
       "      <th></th>\n",
       "      <th></th>\n",
       "    </tr>\n",
       "  </thead>\n",
       "  <tbody>\n",
       "    <tr>\n",
       "      <th>0</th>\n",
       "      <td>85.89123</td>\n",
       "      <td>93.231707</td>\n",
       "      <td>97.568644</td>\n",
       "    </tr>\n",
       "    <tr>\n",
       "      <th>1</th>\n",
       "      <td>14.10877</td>\n",
       "      <td>6.768293</td>\n",
       "      <td>2.431356</td>\n",
       "    </tr>\n",
       "  </tbody>\n",
       "</table>\n",
       "</div>"
      ],
      "text/plain": [
       "fb_user_8      -1.0        0.0        1.0\n",
       "churn                                    \n",
       "0          85.89123  93.231707  97.568644\n",
       "1          14.10877   6.768293   2.431356"
      ]
     },
     "execution_count": 61,
     "metadata": {},
     "output_type": "execute_result"
    }
   ],
   "source": [
    "# Check the churn rate for each category of facebook users in the 8th month (August)\n",
    "\n",
    "(pd.crosstab(telecom_highvaluecust.churn, telecom_highvaluecust.fb_user_8, normalize = 'columns')*100)"
   ]
  },
  {
   "cell_type": "code",
   "execution_count": 62,
   "id": "9fbed4b1",
   "metadata": {},
   "outputs": [
    {
     "data": {
      "image/png": "[encoded data removed]",
      "text/plain": [
       "<Figure size 432x432 with 1 Axes>"
      ]
     },
     "metadata": {
      "needs_background": "light"
     },
     "output_type": "display_data"
    }
   ],
   "source": [
    "# Box plot to visualize aon : Age on network - number of days the customer is using the operator T network\n",
    "\n",
    "plt.figure(figsize = [6,6])\n",
    "sns.boxplot(data = telecom_highvaluecust, x = \"churn\", y = \"aon\")\n",
    "plt.tick_params(size = 5, labelsize = 10) \n",
    "plt.title(\"Age of Network\", fontsize=10)\n",
    "plt.xlabel(\"0: Non-churn, 1: Churn\", fontsize = 10)\n",
    "plt.ylabel(\"Age of network\", fontsize = 10)\n",
    "plt.show()"
   ]
  },
  {
   "cell_type": "markdown",
   "id": "a3001863",
   "metadata": {},
   "source": [
    "**Insight**\n",
    "* The median of aon (age of network) is low, there is a high probability of cancellation/churning."
   ]
  },
  {
   "cell_type": "markdown",
   "id": "b6015cf1",
   "metadata": {},
   "source": [
    "### Splitting the data into train and test data sets"
   ]
  },
  {
   "cell_type": "code",
   "execution_count": 63,
   "id": "399a6978",
   "metadata": {},
   "outputs": [],
   "source": [
    "# Train & test split\n",
    "\n",
    "telecom_train, telecom_test = train_test_split(telecom_highvaluecust, test_size = 0.2, random_state = 48)"
   ]
  },
  {
   "cell_type": "code",
   "execution_count": 64,
   "id": "7bce7089",
   "metadata": {},
   "outputs": [
    {
     "name": "stdout",
     "output_type": "stream",
     "text": [
      "Train shape:(24000, 164)\n",
      "Test shape:(6001, 164)\n"
     ]
    }
   ],
   "source": [
    "# Shape of the test-train split\n",
    "\n",
    "print(f\"Train shape:{telecom_train.shape}\")\n",
    "print(f\"Test shape:{telecom_test.shape}\")"
   ]
  },
  {
   "cell_type": "code",
   "execution_count": 65,
   "id": "3a018909",
   "metadata": {},
   "outputs": [],
   "source": [
    "# Transform categorical variables into numeric attributes\n",
    "\n",
    "cat_cols = [\"night_pck_user_6\",\"night_pck_user_7\", \"night_pck_user_8\",\"fb_user_6\", \"fb_user_8\",\"fb_user_7\"]  "
   ]
  },
  {
   "cell_type": "code",
   "execution_count": 66,
   "id": "b663a34f",
   "metadata": {},
   "outputs": [
    {
     "data": {
      "text/html": [
       "<div>\n",
       "<style scoped>\n",
       "    .dataframe tbody tr th:only-of-type {\n",
       "        vertical-align: middle;\n",
       "    }\n",
       "\n",
       "    .dataframe tbody tr th {\n",
       "        vertical-align: top;\n",
       "    }\n",
       "\n",
       "    .dataframe thead th {\n",
       "        text-align: right;\n",
       "    }\n",
       "</style>\n",
       "<table border=\"1\" class=\"dataframe\">\n",
       "  <thead>\n",
       "    <tr style=\"text-align: right;\">\n",
       "      <th></th>\n",
       "      <th>night_pck_user_6</th>\n",
       "      <th>night_pck_user_7</th>\n",
       "      <th>night_pck_user_8</th>\n",
       "      <th>fb_user_6</th>\n",
       "      <th>fb_user_8</th>\n",
       "      <th>fb_user_7</th>\n",
       "    </tr>\n",
       "  </thead>\n",
       "  <tbody>\n",
       "    <tr>\n",
       "      <th>33114</th>\n",
       "      <td>-1.0</td>\n",
       "      <td>-1.0</td>\n",
       "      <td>-1.0</td>\n",
       "      <td>-1.0</td>\n",
       "      <td>-1.0</td>\n",
       "      <td>-1.0</td>\n",
       "    </tr>\n",
       "    <tr>\n",
       "      <th>4101</th>\n",
       "      <td>-1.0</td>\n",
       "      <td>-1.0</td>\n",
       "      <td>-1.0</td>\n",
       "      <td>-1.0</td>\n",
       "      <td>-1.0</td>\n",
       "      <td>-1.0</td>\n",
       "    </tr>\n",
       "    <tr>\n",
       "      <th>40361</th>\n",
       "      <td>0.0</td>\n",
       "      <td>0.0</td>\n",
       "      <td>0.0</td>\n",
       "      <td>1.0</td>\n",
       "      <td>1.0</td>\n",
       "      <td>1.0</td>\n",
       "    </tr>\n",
       "    <tr>\n",
       "      <th>11213</th>\n",
       "      <td>-1.0</td>\n",
       "      <td>-1.0</td>\n",
       "      <td>-1.0</td>\n",
       "      <td>-1.0</td>\n",
       "      <td>-1.0</td>\n",
       "      <td>-1.0</td>\n",
       "    </tr>\n",
       "    <tr>\n",
       "      <th>14484</th>\n",
       "      <td>-1.0</td>\n",
       "      <td>-1.0</td>\n",
       "      <td>-1.0</td>\n",
       "      <td>-1.0</td>\n",
       "      <td>-1.0</td>\n",
       "      <td>-1.0</td>\n",
       "    </tr>\n",
       "  </tbody>\n",
       "</table>\n",
       "</div>"
      ],
      "text/plain": [
       "       night_pck_user_6  night_pck_user_7  night_pck_user_8  fb_user_6  \\\n",
       "33114              -1.0              -1.0              -1.0       -1.0   \n",
       "4101               -1.0              -1.0              -1.0       -1.0   \n",
       "40361               0.0               0.0               0.0        1.0   \n",
       "11213              -1.0              -1.0              -1.0       -1.0   \n",
       "14484              -1.0              -1.0              -1.0       -1.0   \n",
       "\n",
       "       fb_user_8  fb_user_7  \n",
       "33114       -1.0       -1.0  \n",
       "4101        -1.0       -1.0  \n",
       "40361        1.0        1.0  \n",
       "11213       -1.0       -1.0  \n",
       "14484       -1.0       -1.0  "
      ]
     },
     "execution_count": 66,
     "metadata": {},
     "output_type": "execute_result"
    }
   ],
   "source": [
    "# Reviewing the train set\n",
    "\n",
    "telecom_train[cat_cols].head()"
   ]
  },
  {
   "cell_type": "code",
   "execution_count": 67,
   "id": "d4465eae",
   "metadata": {},
   "outputs": [
    {
     "name": "stdout",
     "output_type": "stream",
     "text": [
      "night_pck_user_6\n",
      "-1.0    0.099621\n",
      " 0.0    0.066717\n",
      " 1.0    0.098462\n",
      "Name: churn, dtype: float64\n",
      "night_pck_user_7\n",
      "-1.0    0.116741\n",
      " 0.0    0.054784\n",
      " 1.0    0.058020\n",
      "Name: churn, dtype: float64\n",
      "night_pck_user_8\n",
      "-1.0    0.141980\n",
      " 0.0    0.028647\n",
      " 1.0    0.019084\n",
      "Name: churn, dtype: float64\n",
      "fb_user_6\n",
      "-1.0    0.099621\n",
      " 0.0    0.083333\n",
      " 1.0    0.066233\n",
      "Name: churn, dtype: float64\n",
      "fb_user_7\n",
      "-1.0    0.116741\n",
      " 0.0    0.065279\n",
      " 1.0    0.053977\n",
      "Name: churn, dtype: float64\n",
      "fb_user_8\n",
      "-1.0    0.141980\n",
      " 0.0    0.067373\n",
      " 1.0    0.023955\n",
      "Name: churn, dtype: float64\n"
     ]
    }
   ],
   "source": [
    "# Mean of the categorical variables\n",
    "\n",
    "print(telecom_train.groupby('night_pck_user_6')[\"churn\"].mean())\n",
    "print(telecom_train.groupby('night_pck_user_7')[\"churn\"].mean())\n",
    "print(telecom_train.groupby('night_pck_user_8')[\"churn\"].mean())\n",
    "print(telecom_train.groupby('fb_user_6')[\"churn\"].mean())\n",
    "print(telecom_train.groupby('fb_user_7')[\"churn\"].mean())\n",
    "print(telecom_train.groupby('fb_user_8')[\"churn\"].mean())"
   ]
  },
  {
   "cell_type": "code",
   "execution_count": 68,
   "id": "d82ab33d",
   "metadata": {},
   "outputs": [],
   "source": [
    "# Categorical variables with the mean value mapping\n",
    "\n",
    "maps = {'night_pck_user_6' : {-1: 0.099621, 0: 0.066717, 1: 0.098462},\n",
    "           'night_pck_user_7' : {-1: 0.116741, 0: 0.054784, 1: 0.058020},\n",
    "           'night_pck_user_8' : {-1: 0.141980, 0: 0.028647, 1: 0.019084},\n",
    "           'fb_user_6'        : {-1: 0.099621, 0: 0.083333, 1: 0.066233},\n",
    "           'fb_user_7'        : {-1: 0.116741, 0: 0.065279, 1: 0.053977},\n",
    "           'fb_user_8'        : {-1: 0.141980, 0: 0.067373, 1: 0.023955}}"
   ]
  },
  {
   "cell_type": "code",
   "execution_count": 69,
   "id": "10417069",
   "metadata": {},
   "outputs": [],
   "source": [
    "# Replace the mapped values with the train data\n",
    "\n",
    "telecom_train.replace(maps, inplace = True)"
   ]
  },
  {
   "cell_type": "code",
   "execution_count": 70,
   "id": "f99146c7",
   "metadata": {},
   "outputs": [],
   "source": [
    "# Replace the mapped values with the test data\n",
    "\n",
    "telecom_test.replace(maps, inplace = True)"
   ]
  },
  {
   "cell_type": "code",
   "execution_count": 71,
   "id": "dda52973",
   "metadata": {},
   "outputs": [],
   "source": [
    "# Assigning the variables in train set\n",
    "\n",
    "y_train = telecom_train.pop(\"churn\")\n",
    "X_train = telecom_train"
   ]
  },
  {
   "cell_type": "code",
   "execution_count": 72,
   "id": "edb137f6",
   "metadata": {},
   "outputs": [],
   "source": [
    "# Assigning the variables in test set\n",
    "\n",
    "y_test = telecom_test.pop(\"churn\")\n",
    "X_test = telecom_test"
   ]
  },
  {
   "cell_type": "code",
   "execution_count": 73,
   "id": "7e8b99e7",
   "metadata": {},
   "outputs": [],
   "source": [
    "# Performing over sampling on the train dataset as it is imbalanced\n",
    "\n",
    "smt = SMOTE(random_state = 48)\n",
    "X_train_re_sample, y_train_re_sample = smt.fit_resample(X_train, y_train)"
   ]
  },
  {
   "cell_type": "code",
   "execution_count": 74,
   "id": "d0a7d92f",
   "metadata": {},
   "outputs": [
    {
     "name": "stdout",
     "output_type": "stream",
     "text": [
      "Shape of the train data: \n",
      "(44082, 163)\n",
      "Shape of the train response variable:\n",
      "1    22041\n",
      "0    22041\n",
      "Name: churn, dtype: int64\n"
     ]
    }
   ],
   "source": [
    "# Shape of the data set now\n",
    "\n",
    "print(f\"Shape of the train data: \\n{X_train_re_sample.shape}\")\n",
    "print(f\"Shape of the train response variable:\\n{y_train_re_sample.value_counts()}\")"
   ]
  },
  {
   "cell_type": "markdown",
   "id": "09644283",
   "metadata": {},
   "source": [
    "Since both the values are equal, we can say that the data is balanced."
   ]
  },
  {
   "cell_type": "code",
   "execution_count": 75,
   "id": "27acc055",
   "metadata": {},
   "outputs": [],
   "source": [
    "# Scaling the train data using MinMax scaler\n",
    "\n",
    "scaling = MinMaxScaler()\n",
    "X_train_temp = scaling.fit_transform(X_train_re_sample)"
   ]
  },
  {
   "cell_type": "code",
   "execution_count": 76,
   "id": "1627005d",
   "metadata": {},
   "outputs": [],
   "source": [
    "# Create a data frame after scaling the train data\n",
    "\n",
    "X_train_scaled = pd.DataFrame(X_train_temp, columns = X_train.columns)"
   ]
  },
  {
   "cell_type": "code",
   "execution_count": 77,
   "id": "95029476",
   "metadata": {},
   "outputs": [
    {
     "data": {
      "text/plain": [
       "(44082, 163)"
      ]
     },
     "execution_count": 77,
     "metadata": {},
     "output_type": "execute_result"
    }
   ],
   "source": [
    "# Shape of the scaled train data set\n",
    "\n",
    "X_train_scaled.shape"
   ]
  },
  {
   "cell_type": "code",
   "execution_count": 78,
   "id": "16b75c63",
   "metadata": {},
   "outputs": [
    {
     "data": {
      "text/html": [
       "<div>\n",
       "<style scoped>\n",
       "    .dataframe tbody tr th:only-of-type {\n",
       "        vertical-align: middle;\n",
       "    }\n",
       "\n",
       "    .dataframe tbody tr th {\n",
       "        vertical-align: top;\n",
       "    }\n",
       "\n",
       "    .dataframe thead th {\n",
       "        text-align: right;\n",
       "    }\n",
       "</style>\n",
       "<table border=\"1\" class=\"dataframe\">\n",
       "  <thead>\n",
       "    <tr style=\"text-align: right;\">\n",
       "      <th></th>\n",
       "      <th>arpu_6</th>\n",
       "      <th>arpu_7</th>\n",
       "      <th>arpu_8</th>\n",
       "      <th>onnet_mou_6</th>\n",
       "      <th>onnet_mou_7</th>\n",
       "      <th>onnet_mou_8</th>\n",
       "      <th>offnet_mou_6</th>\n",
       "      <th>offnet_mou_7</th>\n",
       "      <th>offnet_mou_8</th>\n",
       "      <th>roam_ic_mou_6</th>\n",
       "      <th>...</th>\n",
       "      <th>spl_ic_mou_diff</th>\n",
       "      <th>total_ic_mou_diff</th>\n",
       "      <th>total_rech_num_diff</th>\n",
       "      <th>total_rech_amt_diff</th>\n",
       "      <th>max_rech_amt_diff</th>\n",
       "      <th>total_rech_data_diff</th>\n",
       "      <th>max_rech_data_diff</th>\n",
       "      <th>av_rech_amt_data_diff</th>\n",
       "      <th>vol_2g_mb_diff</th>\n",
       "      <th>vol_3g_mb_diff</th>\n",
       "    </tr>\n",
       "  </thead>\n",
       "  <tbody>\n",
       "    <tr>\n",
       "      <th>0</th>\n",
       "      <td>0.088949</td>\n",
       "      <td>0.079537</td>\n",
       "      <td>0.035792</td>\n",
       "      <td>0.012317</td>\n",
       "      <td>0.033941</td>\n",
       "      <td>0.010586</td>\n",
       "      <td>0.113348</td>\n",
       "      <td>0.222906</td>\n",
       "      <td>0.043536</td>\n",
       "      <td>0.0</td>\n",
       "      <td>...</td>\n",
       "      <td>0.785335</td>\n",
       "      <td>0.623545</td>\n",
       "      <td>0.605428</td>\n",
       "      <td>0.297260</td>\n",
       "      <td>0.423304</td>\n",
       "      <td>0.36747</td>\n",
       "      <td>0.520098</td>\n",
       "      <td>0.658887</td>\n",
       "      <td>0.370292</td>\n",
       "      <td>0.441836</td>\n",
       "    </tr>\n",
       "    <tr>\n",
       "      <th>1</th>\n",
       "      <td>0.091309</td>\n",
       "      <td>0.072997</td>\n",
       "      <td>0.044006</td>\n",
       "      <td>0.068476</td>\n",
       "      <td>0.113913</td>\n",
       "      <td>0.105521</td>\n",
       "      <td>0.029152</td>\n",
       "      <td>0.036250</td>\n",
       "      <td>0.016693</td>\n",
       "      <td>0.0</td>\n",
       "      <td>...</td>\n",
       "      <td>0.785335</td>\n",
       "      <td>0.628061</td>\n",
       "      <td>0.578288</td>\n",
       "      <td>0.322196</td>\n",
       "      <td>0.439305</td>\n",
       "      <td>0.36747</td>\n",
       "      <td>0.520098</td>\n",
       "      <td>0.658887</td>\n",
       "      <td>0.370292</td>\n",
       "      <td>0.441836</td>\n",
       "    </tr>\n",
       "    <tr>\n",
       "      <th>2</th>\n",
       "      <td>0.078872</td>\n",
       "      <td>0.071509</td>\n",
       "      <td>0.059257</td>\n",
       "      <td>0.000655</td>\n",
       "      <td>0.005340</td>\n",
       "      <td>0.010668</td>\n",
       "      <td>0.008990</td>\n",
       "      <td>0.069703</td>\n",
       "      <td>0.051038</td>\n",
       "      <td>0.0</td>\n",
       "      <td>...</td>\n",
       "      <td>0.785335</td>\n",
       "      <td>0.638198</td>\n",
       "      <td>0.638831</td>\n",
       "      <td>0.368969</td>\n",
       "      <td>0.455306</td>\n",
       "      <td>0.39759</td>\n",
       "      <td>0.603227</td>\n",
       "      <td>0.750354</td>\n",
       "      <td>0.370801</td>\n",
       "      <td>0.509428</td>\n",
       "    </tr>\n",
       "    <tr>\n",
       "      <th>3</th>\n",
       "      <td>0.092193</td>\n",
       "      <td>0.064149</td>\n",
       "      <td>0.038217</td>\n",
       "      <td>0.001225</td>\n",
       "      <td>0.001190</td>\n",
       "      <td>0.004448</td>\n",
       "      <td>0.083064</td>\n",
       "      <td>0.034989</td>\n",
       "      <td>0.040130</td>\n",
       "      <td>0.0</td>\n",
       "      <td>...</td>\n",
       "      <td>0.785335</td>\n",
       "      <td>0.623763</td>\n",
       "      <td>0.594990</td>\n",
       "      <td>0.326563</td>\n",
       "      <td>0.442796</td>\n",
       "      <td>0.36747</td>\n",
       "      <td>0.520098</td>\n",
       "      <td>0.658887</td>\n",
       "      <td>0.370292</td>\n",
       "      <td>0.441836</td>\n",
       "    </tr>\n",
       "    <tr>\n",
       "      <th>4</th>\n",
       "      <td>0.091403</td>\n",
       "      <td>0.067002</td>\n",
       "      <td>0.036085</td>\n",
       "      <td>0.018706</td>\n",
       "      <td>0.009548</td>\n",
       "      <td>0.013353</td>\n",
       "      <td>0.046217</td>\n",
       "      <td>0.029105</td>\n",
       "      <td>0.022605</td>\n",
       "      <td>0.0</td>\n",
       "      <td>...</td>\n",
       "      <td>0.785335</td>\n",
       "      <td>0.611482</td>\n",
       "      <td>0.613779</td>\n",
       "      <td>0.325014</td>\n",
       "      <td>0.439450</td>\n",
       "      <td>0.36747</td>\n",
       "      <td>0.520098</td>\n",
       "      <td>0.658887</td>\n",
       "      <td>0.370292</td>\n",
       "      <td>0.441836</td>\n",
       "    </tr>\n",
       "  </tbody>\n",
       "</table>\n",
       "<p>5 rows × 163 columns</p>\n",
       "</div>"
      ],
      "text/plain": [
       "     arpu_6    arpu_7    arpu_8  onnet_mou_6  onnet_mou_7  onnet_mou_8  \\\n",
       "0  0.088949  0.079537  0.035792     0.012317     0.033941     0.010586   \n",
       "1  0.091309  0.072997  0.044006     0.068476     0.113913     0.105521   \n",
       "2  0.078872  0.071509  0.059257     0.000655     0.005340     0.010668   \n",
       "3  0.092193  0.064149  0.038217     0.001225     0.001190     0.004448   \n",
       "4  0.091403  0.067002  0.036085     0.018706     0.009548     0.013353   \n",
       "\n",
       "   offnet_mou_6  offnet_mou_7  offnet_mou_8  roam_ic_mou_6  ...  \\\n",
       "0      0.113348      0.222906      0.043536            0.0  ...   \n",
       "1      0.029152      0.036250      0.016693            0.0  ...   \n",
       "2      0.008990      0.069703      0.051038            0.0  ...   \n",
       "3      0.083064      0.034989      0.040130            0.0  ...   \n",
       "4      0.046217      0.029105      0.022605            0.0  ...   \n",
       "\n",
       "   spl_ic_mou_diff  total_ic_mou_diff  total_rech_num_diff  \\\n",
       "0         0.785335           0.623545             0.605428   \n",
       "1         0.785335           0.628061             0.578288   \n",
       "2         0.785335           0.638198             0.638831   \n",
       "3         0.785335           0.623763             0.594990   \n",
       "4         0.785335           0.611482             0.613779   \n",
       "\n",
       "   total_rech_amt_diff  max_rech_amt_diff  total_rech_data_diff  \\\n",
       "0             0.297260           0.423304               0.36747   \n",
       "1             0.322196           0.439305               0.36747   \n",
       "2             0.368969           0.455306               0.39759   \n",
       "3             0.326563           0.442796               0.36747   \n",
       "4             0.325014           0.439450               0.36747   \n",
       "\n",
       "   max_rech_data_diff  av_rech_amt_data_diff  vol_2g_mb_diff  vol_3g_mb_diff  \n",
       "0            0.520098               0.658887        0.370292        0.441836  \n",
       "1            0.520098               0.658887        0.370292        0.441836  \n",
       "2            0.603227               0.750354        0.370801        0.509428  \n",
       "3            0.520098               0.658887        0.370292        0.441836  \n",
       "4            0.520098               0.658887        0.370292        0.441836  \n",
       "\n",
       "[5 rows x 163 columns]"
      ]
     },
     "execution_count": 78,
     "metadata": {},
     "output_type": "execute_result"
    }
   ],
   "source": [
    "# Head of the train data set\n",
    "\n",
    "X_train_scaled.head()"
   ]
  },
  {
   "cell_type": "code",
   "execution_count": 79,
   "id": "0edff603",
   "metadata": {},
   "outputs": [],
   "source": [
    "# Scaling the test data\n",
    "\n",
    "X_test_temp = scaling.transform(X_test)"
   ]
  },
  {
   "cell_type": "code",
   "execution_count": 80,
   "id": "88a42d23",
   "metadata": {},
   "outputs": [],
   "source": [
    "# Create a data frame after scaling the test data\n",
    "\n",
    "X_test_scaled = pd.DataFrame(X_test_temp, columns = X_test.columns)"
   ]
  },
  {
   "cell_type": "code",
   "execution_count": 81,
   "id": "a664cb59",
   "metadata": {},
   "outputs": [
    {
     "data": {
      "text/plain": [
       "(6001, 163)"
      ]
     },
     "execution_count": 81,
     "metadata": {},
     "output_type": "execute_result"
    }
   ],
   "source": [
    "# Shape of the scaled test data set\n",
    "\n",
    "X_test_scaled.shape"
   ]
  },
  {
   "cell_type": "code",
   "execution_count": 82,
   "id": "efbfae54",
   "metadata": {},
   "outputs": [
    {
     "data": {
      "text/html": [
       "<div>\n",
       "<style scoped>\n",
       "    .dataframe tbody tr th:only-of-type {\n",
       "        vertical-align: middle;\n",
       "    }\n",
       "\n",
       "    .dataframe tbody tr th {\n",
       "        vertical-align: top;\n",
       "    }\n",
       "\n",
       "    .dataframe thead th {\n",
       "        text-align: right;\n",
       "    }\n",
       "</style>\n",
       "<table border=\"1\" class=\"dataframe\">\n",
       "  <thead>\n",
       "    <tr style=\"text-align: right;\">\n",
       "      <th></th>\n",
       "      <th>arpu_6</th>\n",
       "      <th>arpu_7</th>\n",
       "      <th>arpu_8</th>\n",
       "      <th>onnet_mou_6</th>\n",
       "      <th>onnet_mou_7</th>\n",
       "      <th>onnet_mou_8</th>\n",
       "      <th>offnet_mou_6</th>\n",
       "      <th>offnet_mou_7</th>\n",
       "      <th>offnet_mou_8</th>\n",
       "      <th>roam_ic_mou_6</th>\n",
       "      <th>...</th>\n",
       "      <th>spl_ic_mou_diff</th>\n",
       "      <th>total_ic_mou_diff</th>\n",
       "      <th>total_rech_num_diff</th>\n",
       "      <th>total_rech_amt_diff</th>\n",
       "      <th>max_rech_amt_diff</th>\n",
       "      <th>total_rech_data_diff</th>\n",
       "      <th>max_rech_data_diff</th>\n",
       "      <th>av_rech_amt_data_diff</th>\n",
       "      <th>vol_2g_mb_diff</th>\n",
       "      <th>vol_3g_mb_diff</th>\n",
       "    </tr>\n",
       "  </thead>\n",
       "  <tbody>\n",
       "    <tr>\n",
       "      <th>0</th>\n",
       "      <td>0.090964</td>\n",
       "      <td>0.075823</td>\n",
       "      <td>0.042129</td>\n",
       "      <td>0.008711</td>\n",
       "      <td>0.010712</td>\n",
       "      <td>0.026989</td>\n",
       "      <td>0.148318</td>\n",
       "      <td>0.286030</td>\n",
       "      <td>0.107864</td>\n",
       "      <td>0.000000</td>\n",
       "      <td>...</td>\n",
       "      <td>0.777376</td>\n",
       "      <td>0.619594</td>\n",
       "      <td>0.601253</td>\n",
       "      <td>0.315762</td>\n",
       "      <td>0.437850</td>\n",
       "      <td>0.367470</td>\n",
       "      <td>0.520098</td>\n",
       "      <td>0.658887</td>\n",
       "      <td>0.370292</td>\n",
       "      <td>0.441836</td>\n",
       "    </tr>\n",
       "    <tr>\n",
       "      <th>1</th>\n",
       "      <td>0.091021</td>\n",
       "      <td>0.069884</td>\n",
       "      <td>0.037593</td>\n",
       "      <td>0.000381</td>\n",
       "      <td>0.001873</td>\n",
       "      <td>0.001295</td>\n",
       "      <td>0.039266</td>\n",
       "      <td>0.039306</td>\n",
       "      <td>0.027770</td>\n",
       "      <td>0.027926</td>\n",
       "      <td>...</td>\n",
       "      <td>0.785335</td>\n",
       "      <td>0.630163</td>\n",
       "      <td>0.601253</td>\n",
       "      <td>0.319096</td>\n",
       "      <td>0.439305</td>\n",
       "      <td>0.367470</td>\n",
       "      <td>0.520098</td>\n",
       "      <td>0.658887</td>\n",
       "      <td>0.370292</td>\n",
       "      <td>0.441836</td>\n",
       "    </tr>\n",
       "    <tr>\n",
       "      <th>2</th>\n",
       "      <td>0.092684</td>\n",
       "      <td>0.072383</td>\n",
       "      <td>0.052856</td>\n",
       "      <td>0.021061</td>\n",
       "      <td>0.011957</td>\n",
       "      <td>0.025669</td>\n",
       "      <td>0.041658</td>\n",
       "      <td>0.054902</td>\n",
       "      <td>0.035280</td>\n",
       "      <td>0.000000</td>\n",
       "      <td>...</td>\n",
       "      <td>0.785335</td>\n",
       "      <td>0.633947</td>\n",
       "      <td>0.617954</td>\n",
       "      <td>0.343892</td>\n",
       "      <td>0.457051</td>\n",
       "      <td>0.379518</td>\n",
       "      <td>0.657916</td>\n",
       "      <td>0.706510</td>\n",
       "      <td>0.372878</td>\n",
       "      <td>0.465072</td>\n",
       "    </tr>\n",
       "    <tr>\n",
       "      <th>3</th>\n",
       "      <td>0.088568</td>\n",
       "      <td>0.066635</td>\n",
       "      <td>0.040310</td>\n",
       "      <td>0.068338</td>\n",
       "      <td>0.055077</td>\n",
       "      <td>0.016024</td>\n",
       "      <td>0.016731</td>\n",
       "      <td>0.031553</td>\n",
       "      <td>0.036182</td>\n",
       "      <td>0.000000</td>\n",
       "      <td>...</td>\n",
       "      <td>0.785335</td>\n",
       "      <td>0.622551</td>\n",
       "      <td>0.624217</td>\n",
       "      <td>0.329780</td>\n",
       "      <td>0.440032</td>\n",
       "      <td>0.367470</td>\n",
       "      <td>0.520098</td>\n",
       "      <td>0.658887</td>\n",
       "      <td>0.370292</td>\n",
       "      <td>0.441836</td>\n",
       "    </tr>\n",
       "    <tr>\n",
       "      <th>4</th>\n",
       "      <td>0.084756</td>\n",
       "      <td>0.055982</td>\n",
       "      <td>0.027394</td>\n",
       "      <td>0.000000</td>\n",
       "      <td>0.000000</td>\n",
       "      <td>0.000000</td>\n",
       "      <td>0.009412</td>\n",
       "      <td>0.002223</td>\n",
       "      <td>0.000000</td>\n",
       "      <td>0.000000</td>\n",
       "      <td>...</td>\n",
       "      <td>0.785335</td>\n",
       "      <td>0.587134</td>\n",
       "      <td>0.590814</td>\n",
       "      <td>0.316866</td>\n",
       "      <td>0.417703</td>\n",
       "      <td>0.289157</td>\n",
       "      <td>0.444353</td>\n",
       "      <td>0.608807</td>\n",
       "      <td>0.305042</td>\n",
       "      <td>0.441836</td>\n",
       "    </tr>\n",
       "  </tbody>\n",
       "</table>\n",
       "<p>5 rows × 163 columns</p>\n",
       "</div>"
      ],
      "text/plain": [
       "     arpu_6    arpu_7    arpu_8  onnet_mou_6  onnet_mou_7  onnet_mou_8  \\\n",
       "0  0.090964  0.075823  0.042129     0.008711     0.010712     0.026989   \n",
       "1  0.091021  0.069884  0.037593     0.000381     0.001873     0.001295   \n",
       "2  0.092684  0.072383  0.052856     0.021061     0.011957     0.025669   \n",
       "3  0.088568  0.066635  0.040310     0.068338     0.055077     0.016024   \n",
       "4  0.084756  0.055982  0.027394     0.000000     0.000000     0.000000   \n",
       "\n",
       "   offnet_mou_6  offnet_mou_7  offnet_mou_8  roam_ic_mou_6  ...  \\\n",
       "0      0.148318      0.286030      0.107864       0.000000  ...   \n",
       "1      0.039266      0.039306      0.027770       0.027926  ...   \n",
       "2      0.041658      0.054902      0.035280       0.000000  ...   \n",
       "3      0.016731      0.031553      0.036182       0.000000  ...   \n",
       "4      0.009412      0.002223      0.000000       0.000000  ...   \n",
       "\n",
       "   spl_ic_mou_diff  total_ic_mou_diff  total_rech_num_diff  \\\n",
       "0         0.777376           0.619594             0.601253   \n",
       "1         0.785335           0.630163             0.601253   \n",
       "2         0.785335           0.633947             0.617954   \n",
       "3         0.785335           0.622551             0.624217   \n",
       "4         0.785335           0.587134             0.590814   \n",
       "\n",
       "   total_rech_amt_diff  max_rech_amt_diff  total_rech_data_diff  \\\n",
       "0             0.315762           0.437850              0.367470   \n",
       "1             0.319096           0.439305              0.367470   \n",
       "2             0.343892           0.457051              0.379518   \n",
       "3             0.329780           0.440032              0.367470   \n",
       "4             0.316866           0.417703              0.289157   \n",
       "\n",
       "   max_rech_data_diff  av_rech_amt_data_diff  vol_2g_mb_diff  vol_3g_mb_diff  \n",
       "0            0.520098               0.658887        0.370292        0.441836  \n",
       "1            0.520098               0.658887        0.370292        0.441836  \n",
       "2            0.657916               0.706510        0.372878        0.465072  \n",
       "3            0.520098               0.658887        0.370292        0.441836  \n",
       "4            0.444353               0.608807        0.305042        0.441836  \n",
       "\n",
       "[5 rows x 163 columns]"
      ]
     },
     "execution_count": 82,
     "metadata": {},
     "output_type": "execute_result"
    }
   ],
   "source": [
    "# Head of the test data set\n",
    "\n",
    "X_test_scaled.head()"
   ]
  },
  {
   "cell_type": "markdown",
   "id": "c240efba",
   "metadata": {},
   "source": [
    "## Step 4:  Modelling : PCA"
   ]
  },
  {
   "cell_type": "markdown",
   "id": "79ab4289",
   "metadata": {},
   "source": [
    "**Definition**  \n",
    "Principal Component Analysis is an unsupervised learning algorithm that is used for the dimensionality reduction in machine learning. It is a statistical process that converts the observations of correlated features into a set of linearly uncorrelated features with the help of orthogonal transformation."
   ]
  },
  {
   "cell_type": "code",
   "execution_count": 83,
   "id": "98a4693c",
   "metadata": {},
   "outputs": [],
   "source": [
    "# Instantiate an object of the PCA class\n",
    "\n",
    "pca = PCA(random_state = 60)\n",
    "pca_X_train = pca.fit(X_train_scaled)"
   ]
  },
  {
   "cell_type": "code",
   "execution_count": 84,
   "id": "5d533766",
   "metadata": {},
   "outputs": [
    {
     "data": {
      "text/plain": [
       "array([6.03828617e-01, 1.40973413e-01, 9.91155206e-02, 3.07631658e-02,\n",
       "       1.86234669e-02, 1.18416165e-02, 9.48517523e-03, 8.28397598e-03,\n",
       "       6.72748174e-03, 6.66714826e-03, 6.48765005e-03, 4.03245946e-03,\n",
       "       3.54239498e-03, 3.02625956e-03, 2.62601134e-03, 2.36736548e-03,\n",
       "       2.22188138e-03, 2.11335787e-03, 2.04027551e-03, 1.85954948e-03,\n",
       "       1.80479200e-03, 1.69169327e-03, 1.44245222e-03, 1.39627736e-03,\n",
       "       1.38652402e-03, 1.32326350e-03, 1.20520271e-03, 1.16539268e-03,\n",
       "       1.09180753e-03, 9.87446077e-04, 9.32626988e-04, 8.50296303e-04,\n",
       "       8.22568575e-04, 8.09298469e-04, 7.93824971e-04, 7.32863836e-04,\n",
       "       7.15982444e-04, 6.64938130e-04, 6.26470521e-04, 6.16430322e-04,\n",
       "       5.83678714e-04, 5.55821255e-04, 5.11635457e-04, 4.75816882e-04,\n",
       "       4.69430576e-04, 4.39348363e-04, 4.29142579e-04, 4.02705885e-04,\n",
       "       3.62016817e-04, 3.53569223e-04, 3.44779423e-04, 3.28864327e-04,\n",
       "       3.16730775e-04, 3.00533635e-04, 2.84082281e-04, 2.80172818e-04,\n",
       "       2.67941661e-04, 2.49376878e-04, 2.45090226e-04, 2.39718600e-04,\n",
       "       2.36020524e-04, 2.23137116e-04, 2.13475123e-04, 2.06288140e-04,\n",
       "       2.04234389e-04, 1.86475052e-04, 1.85448944e-04, 1.83841747e-04,\n",
       "       1.78237485e-04, 1.73120864e-04, 1.66886531e-04, 1.56023037e-04,\n",
       "       1.47194714e-04, 1.36069987e-04, 1.29581166e-04, 1.27037603e-04,\n",
       "       1.24456177e-04, 1.16628357e-04, 1.08673978e-04, 1.07240266e-04,\n",
       "       9.29987514e-05, 9.10470624e-05, 8.78679297e-05, 8.51975928e-05,\n",
       "       8.34410713e-05, 8.18590604e-05, 7.90754286e-05, 7.83113520e-05,\n",
       "       7.42033077e-05, 7.26272764e-05, 6.61710852e-05, 6.28257541e-05,\n",
       "       5.57391381e-05, 5.26393136e-05, 4.65259006e-05, 4.29468127e-05,\n",
       "       4.19308301e-05, 3.50162659e-05, 3.21562865e-05, 3.14906387e-05,\n",
       "       2.68407413e-05, 2.63149202e-05, 2.58889358e-05, 2.52070867e-05,\n",
       "       2.11631837e-05, 2.04077442e-05, 1.88961189e-05, 1.62875797e-05,\n",
       "       1.60788263e-05, 1.54661107e-05, 1.38307963e-05, 1.11231003e-05,\n",
       "       6.42800252e-06, 5.64039104e-06, 5.48031307e-06, 3.45802509e-06,\n",
       "       3.25406489e-06, 2.69060807e-06, 2.55494293e-06, 6.75562441e-07,\n",
       "       3.96168311e-07, 2.63648152e-07, 1.16641112e-07, 5.81244119e-10,\n",
       "       1.07269167e-11, 8.63968223e-13, 4.16026605e-13, 3.34367701e-13,\n",
       "       2.68365974e-13, 2.36409214e-13, 2.07744509e-13, 1.97390141e-13,\n",
       "       1.83146481e-13, 1.70096986e-13, 1.39491133e-13, 1.31906181e-13,\n",
       "       1.25002555e-13, 1.12894502e-13, 6.81036656e-14, 6.47805070e-14,\n",
       "       5.07939199e-14, 3.26151205e-14, 1.89692338e-14, 1.55319964e-32,\n",
       "       4.62998599e-33, 4.62998599e-33, 4.62998599e-33, 4.62998599e-33,\n",
       "       4.62998599e-33, 4.62998599e-33, 4.62998599e-33, 4.62998599e-33,\n",
       "       4.62998599e-33, 4.62998599e-33, 4.62998599e-33, 4.62998599e-33,\n",
       "       4.62998599e-33, 4.62998599e-33, 4.62998599e-33, 4.62998599e-33,\n",
       "       4.62998599e-33, 4.62998599e-33, 2.02869985e-34])"
      ]
     },
     "execution_count": 84,
     "metadata": {},
     "output_type": "execute_result"
    }
   ],
   "source": [
    "# Checking the variance ratio: explained_variance_ratio_ (this parameter returns a vector of the variance explained by each dimension)\n",
    "\n",
    "pca_X_train.explained_variance_ratio_"
   ]
  },
  {
   "cell_type": "code",
   "execution_count": 85,
   "id": "8bb6484c",
   "metadata": {},
   "outputs": [],
   "source": [
    "# Calculate the sum (cumulative) of the variance\n",
    "\n",
    "cumulative  = np.cumsum(pca_X_train.explained_variance_ratio_)"
   ]
  },
  {
   "cell_type": "code",
   "execution_count": 86,
   "id": "a2367c1c",
   "metadata": {},
   "outputs": [],
   "source": [
    "# Creating a dataframe using the explained variance values\n",
    "\n",
    "cumulative_df = pd.DataFrame({\"Explained variance\": cumulative}) "
   ]
  },
  {
   "cell_type": "code",
   "execution_count": 87,
   "id": "24981a4e",
   "metadata": {},
   "outputs": [
    {
     "data": {
      "text/html": [
       "<div>\n",
       "<style scoped>\n",
       "    .dataframe tbody tr th:only-of-type {\n",
       "        vertical-align: middle;\n",
       "    }\n",
       "\n",
       "    .dataframe tbody tr th {\n",
       "        vertical-align: top;\n",
       "    }\n",
       "\n",
       "    .dataframe thead th {\n",
       "        text-align: right;\n",
       "    }\n",
       "</style>\n",
       "<table border=\"1\" class=\"dataframe\">\n",
       "  <thead>\n",
       "    <tr style=\"text-align: right;\">\n",
       "      <th></th>\n",
       "      <th>Explained variance</th>\n",
       "    </tr>\n",
       "  </thead>\n",
       "  <tbody>\n",
       "    <tr>\n",
       "      <th>0</th>\n",
       "      <td>60.0</td>\n",
       "    </tr>\n",
       "    <tr>\n",
       "      <th>1</th>\n",
       "      <td>74.0</td>\n",
       "    </tr>\n",
       "    <tr>\n",
       "      <th>2</th>\n",
       "      <td>84.0</td>\n",
       "    </tr>\n",
       "    <tr>\n",
       "      <th>3</th>\n",
       "      <td>87.0</td>\n",
       "    </tr>\n",
       "    <tr>\n",
       "      <th>4</th>\n",
       "      <td>89.0</td>\n",
       "    </tr>\n",
       "    <tr>\n",
       "      <th>5</th>\n",
       "      <td>91.0</td>\n",
       "    </tr>\n",
       "    <tr>\n",
       "      <th>6</th>\n",
       "      <td>91.0</td>\n",
       "    </tr>\n",
       "    <tr>\n",
       "      <th>7</th>\n",
       "      <td>92.0</td>\n",
       "    </tr>\n",
       "    <tr>\n",
       "      <th>8</th>\n",
       "      <td>93.0</td>\n",
       "    </tr>\n",
       "    <tr>\n",
       "      <th>9</th>\n",
       "      <td>94.0</td>\n",
       "    </tr>\n",
       "    <tr>\n",
       "      <th>10</th>\n",
       "      <td>94.0</td>\n",
       "    </tr>\n",
       "    <tr>\n",
       "      <th>11</th>\n",
       "      <td>95.0</td>\n",
       "    </tr>\n",
       "    <tr>\n",
       "      <th>12</th>\n",
       "      <td>95.0</td>\n",
       "    </tr>\n",
       "    <tr>\n",
       "      <th>13</th>\n",
       "      <td>95.0</td>\n",
       "    </tr>\n",
       "    <tr>\n",
       "      <th>14</th>\n",
       "      <td>96.0</td>\n",
       "    </tr>\n",
       "    <tr>\n",
       "      <th>15</th>\n",
       "      <td>96.0</td>\n",
       "    </tr>\n",
       "    <tr>\n",
       "      <th>16</th>\n",
       "      <td>96.0</td>\n",
       "    </tr>\n",
       "    <tr>\n",
       "      <th>17</th>\n",
       "      <td>96.0</td>\n",
       "    </tr>\n",
       "    <tr>\n",
       "      <th>18</th>\n",
       "      <td>96.0</td>\n",
       "    </tr>\n",
       "    <tr>\n",
       "      <th>19</th>\n",
       "      <td>97.0</td>\n",
       "    </tr>\n",
       "    <tr>\n",
       "      <th>20</th>\n",
       "      <td>97.0</td>\n",
       "    </tr>\n",
       "    <tr>\n",
       "      <th>21</th>\n",
       "      <td>97.0</td>\n",
       "    </tr>\n",
       "    <tr>\n",
       "      <th>22</th>\n",
       "      <td>97.0</td>\n",
       "    </tr>\n",
       "    <tr>\n",
       "      <th>23</th>\n",
       "      <td>97.0</td>\n",
       "    </tr>\n",
       "    <tr>\n",
       "      <th>24</th>\n",
       "      <td>97.0</td>\n",
       "    </tr>\n",
       "  </tbody>\n",
       "</table>\n",
       "</div>"
      ],
      "text/plain": [
       "    Explained variance\n",
       "0                 60.0\n",
       "1                 74.0\n",
       "2                 84.0\n",
       "3                 87.0\n",
       "4                 89.0\n",
       "5                 91.0\n",
       "6                 91.0\n",
       "7                 92.0\n",
       "8                 93.0\n",
       "9                 94.0\n",
       "10                94.0\n",
       "11                95.0\n",
       "12                95.0\n",
       "13                95.0\n",
       "14                96.0\n",
       "15                96.0\n",
       "16                96.0\n",
       "17                96.0\n",
       "18                96.0\n",
       "19                97.0\n",
       "20                97.0\n",
       "21                97.0\n",
       "22                97.0\n",
       "23                97.0\n",
       "24                97.0"
      ]
     },
     "execution_count": 87,
     "metadata": {},
     "output_type": "execute_result"
    }
   ],
   "source": [
    "(round(100*cumulative_df.head(25)))"
   ]
  },
  {
   "cell_type": "code",
   "execution_count": 88,
   "id": "5939dc6c",
   "metadata": {},
   "outputs": [
    {
     "data": {
      "image/png": "[encoded data removed]",
      "text/plain": [
       "<Figure size 432x432 with 1 Axes>"
      ]
     },
     "metadata": {
      "needs_background": "light"
     },
     "output_type": "display_data"
    }
   ],
   "source": [
    "# Scree plot to analyze the explained variance\n",
    "\n",
    "plt.figure(figsize = [6,6])\n",
    "plt.plot(range(1, len(cumulative)+1), cumulative)\n",
    "plt.tick_params(size = 5, labelsize = 10)\n",
    "plt.title(\"Cumulative variance of the PCs\", size = 10)\n",
    "plt.ylabel(\"Explained variance\", size = 10)\n",
    "plt.xlabel(\"Number of features\", size = 10)\n",
    "plt.show()"
   ]
  },
  {
   "cell_type": "markdown",
   "id": "36f3b6ff",
   "metadata": {},
   "source": [
    "From the above plot, we see that the curve is seen between the 95th and 100th region. To be precise, we can consider it to be the 96th mark."
   ]
  },
  {
   "cell_type": "code",
   "execution_count": 89,
   "id": "9656badf",
   "metadata": {},
   "outputs": [
    {
     "name": "stdout",
     "output_type": "stream",
     "text": [
      "Number of principal components for variance = 96% is :\t17\n"
     ]
    }
   ],
   "source": [
    "# Understanding the exact number of principal components to consider\n",
    "\n",
    "pca_check = PCA(0.96, random_state = 40)\n",
    "pca1_X_train = pca_check.fit_transform (X_train_scaled)\n",
    "print(f\"Number of principal components for variance = 96% is :\\t{pca1_X_train.shape[1]}\")"
   ]
  },
  {
   "cell_type": "code",
   "execution_count": 90,
   "id": "35467540",
   "metadata": {},
   "outputs": [],
   "source": [
    "# Performing PCA with 17 principal components\n",
    "# PCA object initiation with 17 components\n",
    "\n",
    "pca_new = PCA (n_components = 17, random_state = 48)"
   ]
  },
  {
   "cell_type": "code",
   "execution_count": 91,
   "id": "386349af",
   "metadata": {},
   "outputs": [],
   "source": [
    "# PCA on train data\n",
    "\n",
    "X_train_final = pca_new.fit_transform(X_train_scaled)"
   ]
  },
  {
   "cell_type": "code",
   "execution_count": 92,
   "id": "f1296db3",
   "metadata": {},
   "outputs": [],
   "source": [
    "# PCA on test data\n",
    "\n",
    "X_test_final = pca_new.fit_transform(X_test_scaled)"
   ]
  },
  {
   "cell_type": "code",
   "execution_count": 93,
   "id": "87f51763",
   "metadata": {},
   "outputs": [
    {
     "name": "stdout",
     "output_type": "stream",
     "text": [
      "(44082, 17)\n",
      "(6001, 17)\n"
     ]
    }
   ],
   "source": [
    "# X_train_final and X_test final shape\n",
    "\n",
    "print(X_train_final.shape)\n",
    "print(X_test_final.shape)"
   ]
  },
  {
   "cell_type": "code",
   "execution_count": 94,
   "id": "2dc8ba2c",
   "metadata": {},
   "outputs": [
    {
     "data": {
      "text/plain": [
       "array([[ 1.00000000e+00, -2.83549482e-17, -2.02898054e-17,\n",
       "         1.82097174e-17,  1.41398634e-17,  4.40255188e-17,\n",
       "         2.18627497e-17, -6.14097535e-17,  9.08592762e-17,\n",
       "        -3.91154813e-17, -4.29573159e-17, -1.46698023e-17,\n",
       "        -8.94379816e-18, -2.93324803e-17, -7.79108033e-18,\n",
       "         2.73596910e-18, -2.26189190e-17],\n",
       "       [-2.83549482e-17,  1.00000000e+00, -7.17362608e-17,\n",
       "        -5.49601928e-18, -4.84369394e-17, -5.06197756e-18,\n",
       "        -1.83817305e-17, -1.89128213e-17, -8.39478337e-18,\n",
       "         1.68653625e-17,  4.44524171e-17, -1.95176251e-17,\n",
       "         8.09819604e-18, -1.31426998e-17,  4.03112189e-18,\n",
       "         1.98183490e-17, -4.31550994e-17],\n",
       "       [-2.02898054e-17, -7.17362608e-17,  1.00000000e+00,\n",
       "        -4.63503673e-17, -5.71645565e-18, -4.52771678e-18,\n",
       "         2.52948481e-18, -2.70667019e-18, -5.50642789e-18,\n",
       "        -7.79408541e-18,  3.56827121e-18,  0.00000000e+00,\n",
       "         5.00145114e-18,  1.79132467e-17,  1.60251627e-18,\n",
       "        -8.44125877e-18,  1.06859705e-17],\n",
       "       [ 1.82097174e-17, -5.49601928e-18, -4.63503673e-17,\n",
       "         1.00000000e+00, -1.72813846e-17, -1.03281651e-17,\n",
       "        -2.42150920e-17,  4.29156089e-17, -5.39118012e-18,\n",
       "         1.44413823e-17,  6.86240584e-18, -2.81442259e-17,\n",
       "         6.19132138e-19,  2.94741349e-17,  3.16410184e-17,\n",
       "        -3.78793521e-18, -3.75789330e-17],\n",
       "       [ 1.41398634e-17, -4.84369394e-17, -5.71645565e-18,\n",
       "        -1.72813846e-17,  1.00000000e+00, -1.21861525e-16,\n",
       "        -1.63391957e-16,  8.32558279e-17, -8.31477183e-17,\n",
       "         7.42427422e-17,  3.23394833e-17, -7.45817926e-17,\n",
       "         1.27317640e-17,  3.78814256e-17,  7.16283138e-18,\n",
       "         3.11578702e-17, -2.01241919e-17],\n",
       "       [ 4.40255188e-17, -5.06197756e-18, -4.52771678e-18,\n",
       "        -1.03281651e-17, -1.21861525e-16,  1.00000000e+00,\n",
       "        -2.52473911e-16, -1.56614032e-16,  1.25454388e-16,\n",
       "         1.36749785e-16,  9.00533210e-17, -7.66957747e-17,\n",
       "        -1.99582915e-17, -8.63750665e-18,  7.53392254e-17,\n",
       "         4.09060328e-17,  3.53322468e-17],\n",
       "       [ 2.18627497e-17, -1.83817305e-17,  2.52948481e-18,\n",
       "        -2.42150920e-17, -1.63391957e-16, -2.52473911e-16,\n",
       "         1.00000000e+00, -5.45932669e-16, -1.13272234e-17,\n",
       "         1.95057594e-16,  1.51598812e-16, -9.87579833e-17,\n",
       "        -3.20563471e-17, -1.10986218e-16, -1.74833391e-17,\n",
       "        -2.86513221e-17,  7.89558056e-17],\n",
       "       [-6.14097535e-17, -1.89128213e-17, -2.70667019e-18,\n",
       "         4.29156089e-17,  8.32558279e-17, -1.56614032e-16,\n",
       "        -5.45932669e-16,  1.00000000e+00, -7.44555620e-17,\n",
       "        -3.53086343e-16,  1.92193074e-16, -2.02405469e-16,\n",
       "        -9.84313396e-18, -1.47159852e-16, -2.21724589e-17,\n",
       "        -8.02955222e-17,  2.12347773e-16],\n",
       "       [ 9.08592762e-17, -8.39478337e-18, -5.50642789e-18,\n",
       "        -5.39118012e-18, -8.31477183e-17,  1.25454388e-16,\n",
       "        -1.13272234e-17, -7.44555620e-17,  1.00000000e+00,\n",
       "        -9.11003536e-16, -2.03487509e-16, -3.04951222e-16,\n",
       "         2.70086450e-16, -1.46109295e-16, -1.38397922e-17,\n",
       "         9.07214215e-17,  3.18087124e-17],\n",
       "       [-3.91154813e-17,  1.68653625e-17, -7.79408541e-18,\n",
       "         1.44413823e-17,  7.42427422e-17,  1.36749785e-16,\n",
       "         1.95057594e-16, -3.53086343e-16, -9.11003536e-16,\n",
       "         1.00000000e+00,  6.36803758e-16,  1.36180363e-16,\n",
       "        -2.99234276e-16,  1.22307415e-16,  4.63409043e-17,\n",
       "        -2.53864871e-16,  1.53034755e-16],\n",
       "       [-4.29573159e-17,  4.44524171e-17,  3.56827121e-18,\n",
       "         6.86240584e-18,  3.23394833e-17,  9.00533210e-17,\n",
       "         1.51598812e-16,  1.92193074e-16, -2.03487509e-16,\n",
       "         6.36803758e-16,  1.00000000e+00,  1.68062584e-16,\n",
       "        -5.12317004e-17, -1.16694450e-17,  5.16753638e-17,\n",
       "        -1.81466745e-16,  9.03547321e-17],\n",
       "       [-1.46698023e-17, -1.95176251e-17,  0.00000000e+00,\n",
       "        -2.81442259e-17, -7.45817926e-17, -7.66957747e-17,\n",
       "        -9.87579833e-17, -2.02405469e-16, -3.04951222e-16,\n",
       "         1.36180363e-16,  1.68062584e-16,  1.00000000e+00,\n",
       "         4.08710226e-16,  3.88545551e-17,  0.00000000e+00,\n",
       "        -9.20702813e-17, -1.33528640e-16],\n",
       "       [-8.94379816e-18,  8.09819604e-18,  5.00145114e-18,\n",
       "         6.19132138e-19,  1.27317640e-17, -1.99582915e-17,\n",
       "        -3.20563471e-17, -9.84313396e-18,  2.70086450e-16,\n",
       "        -2.99234276e-16, -5.12317004e-17,  4.08710226e-16,\n",
       "         1.00000000e+00, -3.15848201e-17, -4.23835966e-17,\n",
       "         2.04837112e-16,  4.03748842e-17],\n",
       "       [-2.93324803e-17, -1.31426998e-17,  1.79132467e-17,\n",
       "         2.94741349e-17,  3.78814256e-17, -8.63750665e-18,\n",
       "        -1.10986218e-16, -1.47159852e-16, -1.46109295e-16,\n",
       "         1.22307415e-16, -1.16694450e-17,  3.88545551e-17,\n",
       "        -3.15848201e-17,  1.00000000e+00, -1.65084139e-16,\n",
       "        -7.72961019e-17,  6.49010363e-17],\n",
       "       [-7.79108033e-18,  4.03112189e-18,  1.60251627e-18,\n",
       "         3.16410184e-17,  7.16283138e-18,  7.53392254e-17,\n",
       "        -1.74833391e-17, -2.21724589e-17, -1.38397922e-17,\n",
       "         4.63409043e-17,  5.16753638e-17,  0.00000000e+00,\n",
       "        -4.23835966e-17, -1.65084139e-16,  1.00000000e+00,\n",
       "         2.02260746e-16, -2.06337610e-16],\n",
       "       [ 2.73596910e-18,  1.98183490e-17, -8.44125877e-18,\n",
       "        -3.78793521e-18,  3.11578702e-17,  4.09060328e-17,\n",
       "        -2.86513221e-17, -8.02955222e-17,  9.07214215e-17,\n",
       "        -2.53864871e-16, -1.81466745e-16, -9.20702813e-17,\n",
       "         2.04837112e-16, -7.72961019e-17,  2.02260746e-16,\n",
       "         1.00000000e+00,  6.35191897e-16],\n",
       "       [-2.26189190e-17, -4.31550994e-17,  1.06859705e-17,\n",
       "        -3.75789330e-17, -2.01241919e-17,  3.53322468e-17,\n",
       "         7.89558056e-17,  2.12347773e-16,  3.18087124e-17,\n",
       "         1.53034755e-16,  9.03547321e-17, -1.33528640e-16,\n",
       "         4.03748842e-17,  6.49010363e-17, -2.06337610e-16,\n",
       "         6.35191897e-16,  1.00000000e+00]])"
      ]
     },
     "execution_count": 94,
     "metadata": {},
     "output_type": "execute_result"
    }
   ],
   "source": [
    "# Correlations\n",
    "\n",
    "np.corrcoef(X_train_final.transpose())"
   ]
  },
  {
   "cell_type": "markdown",
   "id": "9ca8cf5c",
   "metadata": {},
   "source": [
    "When we notice the diagonal, we see 1.0000s along the line and the remaining values are almost close to zero."
   ]
  },
  {
   "cell_type": "markdown",
   "id": "beb84755",
   "metadata": {},
   "source": [
    "Let's build different models to analyze the results\n",
    "* Logistic regression\n",
    "* Decision tree\n",
    "* Random forest\n",
    "* Gradient boosting\n",
    "* XGboost"
   ]
  },
  {
   "cell_type": "code",
   "execution_count": 95,
   "id": "5f4da14d",
   "metadata": {},
   "outputs": [],
   "source": [
    "# Performance analysis on test data\n",
    "\n",
    "def performance(model_name, y_test,y_pred, pred_prob):\n",
    "        \n",
    "    '''y_test:Test Labels,\n",
    "       y_pred: Prediction Labels ,\n",
    "       pred_prob:Predicted Probability  '''\n",
    "    \n",
    "    print(f\"{model_name}:\")\n",
    "    precision = metrics.precision_score(y_test, y_pred)\n",
    "    print(f\"Precision: {precision}\")\n",
    "    recall = metrics.recall_score(y_test, y_pred)\n",
    "    print(f\"Recall: {recall}\")\n",
    "    f1_score = metrics.f1_score(y_test, y_pred)\n",
    "    print(f\"F1_score: {f1_score}\")\n",
    "    roc_auc = metrics.roc_auc_score(y_test, pred_prob)\n",
    "    print(f\"ROC_AUC: {roc_auc}\")\n",
    "    \n",
    "#  To return a data frame with the above performance metrics\n",
    "    return pd.DataFrame({\"Model\":[model_name], \"Precision\":[precision], \"Recall\":[recall], \"F1_score\":[f1_score], \"ROC_AUC\":[roc_auc]})   "
   ]
  },
  {
   "cell_type": "code",
   "execution_count": 96,
   "id": "fd0efe5f",
   "metadata": {},
   "outputs": [],
   "source": [
    "# Deriving a new variable to store the performance values\n",
    "\n",
    "perf_df = pd.DataFrame({\"Model\":[None], \"Precision\":[None], \"Recall\":[None], \"F1_score\":[None], \"ROC_AUC\":[None]})"
   ]
  },
  {
   "cell_type": "markdown",
   "id": "c8819246",
   "metadata": {},
   "source": [
    "### Model 1: Logistic Regression"
   ]
  },
  {
   "cell_type": "code",
   "execution_count": 97,
   "id": "de301b98",
   "metadata": {},
   "outputs": [],
   "source": [
    "# Instantiate a Logistic Regression object\n",
    "\n",
    "logistic_obj = LogisticRegression(random_state = 40)"
   ]
  },
  {
   "cell_type": "code",
   "execution_count": 98,
   "id": "4aec0243",
   "metadata": {},
   "outputs": [
    {
     "name": "stdout",
     "output_type": "stream",
     "text": [
      "Cross validation score: [0.82862652 0.84450493 0.84029038 0.83824864 0.83938294]\n"
     ]
    }
   ],
   "source": [
    "# Input the PCA data and fit the model\n",
    "\n",
    "logistic_obj.fit(X_train_final, y_train_re_sample)\n",
    "cv = cross_val_score(logistic_obj, X_train_final, y_train_re_sample, cv = 5, scoring = 'f1_micro')\n",
    "print(f\"Cross validation score: {cv}\")"
   ]
  },
  {
   "cell_type": "code",
   "execution_count": 99,
   "id": "9c4766de",
   "metadata": {},
   "outputs": [],
   "source": [
    "# Test data prediction\n",
    "\n",
    "y_pred_logistic = logistic_obj.predict(X_test_final)"
   ]
  },
  {
   "cell_type": "code",
   "execution_count": 100,
   "id": "10881733",
   "metadata": {},
   "outputs": [],
   "source": [
    "# Probability check on test data\n",
    "\n",
    "pred_prob = logistic_obj.predict_proba(X_test_final)"
   ]
  },
  {
   "cell_type": "code",
   "execution_count": 101,
   "id": "06e846eb",
   "metadata": {},
   "outputs": [
    {
     "name": "stdout",
     "output_type": "stream",
     "text": [
      "Logistic Regression:\n",
      "Precision: 0.09193054136874361\n",
      "Recall: 0.5601659751037344\n",
      "F1_score: 0.15794091839719218\n",
      "ROC_AUC: 0.575711292336771\n"
     ]
    }
   ],
   "source": [
    "# Call the performance function to obtain the results\n",
    "\n",
    "table1 = performance(\"Logistic Regression\", y_test, y_pred_logistic ,pred_prob[:,1])"
   ]
  },
  {
   "cell_type": "code",
   "execution_count": 102,
   "id": "cdbc7d19",
   "metadata": {},
   "outputs": [
    {
     "data": {
      "text/html": [
       "<div>\n",
       "<style scoped>\n",
       "    .dataframe tbody tr th:only-of-type {\n",
       "        vertical-align: middle;\n",
       "    }\n",
       "\n",
       "    .dataframe tbody tr th {\n",
       "        vertical-align: top;\n",
       "    }\n",
       "\n",
       "    .dataframe thead th {\n",
       "        text-align: right;\n",
       "    }\n",
       "</style>\n",
       "<table border=\"1\" class=\"dataframe\">\n",
       "  <thead>\n",
       "    <tr style=\"text-align: right;\">\n",
       "      <th></th>\n",
       "      <th>Model</th>\n",
       "      <th>Precision</th>\n",
       "      <th>Recall</th>\n",
       "      <th>F1_score</th>\n",
       "      <th>ROC_AUC</th>\n",
       "    </tr>\n",
       "  </thead>\n",
       "  <tbody>\n",
       "    <tr>\n",
       "      <th>0</th>\n",
       "      <td>Logistic Regression</td>\n",
       "      <td>0.091931</td>\n",
       "      <td>0.560166</td>\n",
       "      <td>0.157941</td>\n",
       "      <td>0.575711</td>\n",
       "    </tr>\n",
       "  </tbody>\n",
       "</table>\n",
       "</div>"
      ],
      "text/plain": [
       "                 Model  Precision    Recall  F1_score   ROC_AUC\n",
       "0  Logistic Regression   0.091931  0.560166  0.157941  0.575711"
      ]
     },
     "execution_count": 102,
     "metadata": {},
     "output_type": "execute_result"
    }
   ],
   "source": [
    "# Adding the scores to the table for comparison with other ML models\n",
    "\n",
    "perf_df = perf_df.dropna()\n",
    "perf_df = perf_df.append(table1)\n",
    "perf_df"
   ]
  },
  {
   "cell_type": "code",
   "execution_count": 103,
   "id": "59670fb0",
   "metadata": {},
   "outputs": [
    {
     "data": {
      "image/png": "[encoded data removed]",
      "text/plain": [
       "<Figure size 432x288 with 2 Axes>"
      ]
     },
     "metadata": {
      "needs_background": "light"
     },
     "output_type": "display_data"
    }
   ],
   "source": [
    "# Logistic regression - confusion matrix\n",
    "\n",
    "metrics.plot_confusion_matrix(logistic_obj,  X_test_final, y_test)\n",
    "plt.show()"
   ]
  },
  {
   "cell_type": "code",
   "execution_count": 104,
   "id": "f352e856",
   "metadata": {},
   "outputs": [
    {
     "data": {
      "image/png": "[encoded data removed]",
      "text/plain": [
       "<Figure size 432x288 with 1 Axes>"
      ]
     },
     "metadata": {
      "needs_background": "light"
     },
     "output_type": "display_data"
    }
   ],
   "source": [
    "# Logistic regression : ROC_AUC \n",
    "\n",
    "metrics.plot_roc_curve(logistic_obj, X_test_final, y_test)\n",
    "plt.show()"
   ]
  },
  {
   "cell_type": "markdown",
   "id": "7f7f7ea5",
   "metadata": {},
   "source": [
    "### Model 2: Decision tree"
   ]
  },
  {
   "cell_type": "code",
   "execution_count": 105,
   "id": "711483ee",
   "metadata": {},
   "outputs": [],
   "source": [
    "# Instantiate a Decision Tree object\n",
    "\n",
    "decision_obj = DecisionTreeClassifier(random_state = 40)"
   ]
  },
  {
   "cell_type": "code",
   "execution_count": 106,
   "id": "409b4bd5",
   "metadata": {},
   "outputs": [
    {
     "name": "stdout",
     "output_type": "stream",
     "text": [
      "[0.88125213 0.92491777 0.92343466 0.93160163 0.93216878]\n"
     ]
    }
   ],
   "source": [
    "# Input the PCA data and fit the model\n",
    "\n",
    "decision_obj.fit(X_train_scaled, y_train_re_sample)\n",
    "cv = cross_val_score(decision_obj, X_train_scaled, y_train_re_sample, cv = 5, scoring = 'f1_micro')\n",
    "print(cv)"
   ]
  },
  {
   "cell_type": "code",
   "execution_count": 107,
   "id": "5d47b7c2",
   "metadata": {},
   "outputs": [
    {
     "data": {
      "text/plain": [
       "{'ccp_alpha': 0.0,\n",
       " 'class_weight': None,\n",
       " 'criterion': 'gini',\n",
       " 'max_depth': None,\n",
       " 'max_features': None,\n",
       " 'max_leaf_nodes': None,\n",
       " 'min_impurity_decrease': 0.0,\n",
       " 'min_samples_leaf': 1,\n",
       " 'min_samples_split': 2,\n",
       " 'min_weight_fraction_leaf': 0.0,\n",
       " 'random_state': 40,\n",
       " 'splitter': 'best'}"
      ]
     },
     "execution_count": 107,
     "metadata": {},
     "output_type": "execute_result"
    }
   ],
   "source": [
    "# Decision tree default parameters\n",
    "\n",
    "decision_obj.get_params()"
   ]
  },
  {
   "cell_type": "code",
   "execution_count": 108,
   "id": "ad99801b",
   "metadata": {},
   "outputs": [
    {
     "data": {
      "text/plain": [
       "RandomizedSearchCV(cv=5, estimator=DecisionTreeClassifier(random_state=40),\n",
       "                   param_distributions={'max_leaf_nodes': [4, 5, 6],\n",
       "                                        'min_samples_leaf': [3, 4, 5],\n",
       "                                        'min_samples_split': [3, 4, 5]},\n",
       "                   scoring='f1_micro')"
      ]
     },
     "execution_count": 108,
     "metadata": {},
     "output_type": "execute_result"
    }
   ],
   "source": [
    "# Hyperparameter tuning\n",
    "\n",
    "param = dict({\"max_leaf_nodes\":[4,5,6], \"min_samples_leaf\":[3,4,5], \"min_samples_split\":[3,4,5]})\n",
    "dt_classifier = DecisionTreeClassifier(random_state = 40)\n",
    "dt_classifier_random = RandomizedSearchCV(dt_classifier, param, cv = 5, scoring = \"f1_micro\")\n",
    "dt_classifier_random.fit(X_train_scaled, y_train_re_sample)"
   ]
  },
  {
   "cell_type": "code",
   "execution_count": 109,
   "id": "5c2d3b26",
   "metadata": {},
   "outputs": [
    {
     "name": "stdout",
     "output_type": "stream",
     "text": [
      "0.8546802785906701\n",
      "DecisionTreeClassifier(max_leaf_nodes=6, min_samples_leaf=3,\n",
      "                       min_samples_split=4, random_state=40)\n"
     ]
    }
   ],
   "source": [
    "# Check the score and estimator parameters\n",
    "\n",
    "print(dt_classifier_random.best_score_)\n",
    "print(dt_classifier_random.best_estimator_)"
   ]
  },
  {
   "cell_type": "code",
   "execution_count": 110,
   "id": "f653b732",
   "metadata": {},
   "outputs": [
    {
     "data": {
      "text/plain": [
       "{'mean_fit_time': array([0.91694169, 1.10745859, 0.98459353, 1.09589987, 0.94300542,\n",
       "        1.12429357, 1.38623819, 1.1009798 , 0.95998902, 1.06077075]),\n",
       " 'std_fit_time': array([0.02272132, 0.00782061, 0.01547788, 0.01032943, 0.01427173,\n",
       "        0.04625211, 0.20699793, 0.03367698, 0.08165824, 0.10957739]),\n",
       " 'mean_score_time': array([0.00945482, 0.00850449, 0.00892735, 0.00853486, 0.00981979,\n",
       "        0.00842104, 0.01164107, 0.00856142, 0.00879269, 0.00835133]),\n",
       " 'std_score_time': array([0.00142477, 0.0004132 , 0.00163929, 0.00063385, 0.00185559,\n",
       "        0.0007769 , 0.00130362, 0.00107678, 0.00041521, 0.001422  ]),\n",
       " 'param_min_samples_split': masked_array(data=[4, 4, 3, 3, 5, 5, 3, 4, 4, 4],\n",
       "              mask=[False, False, False, False, False, False, False, False,\n",
       "                    False, False],\n",
       "        fill_value='?',\n",
       "             dtype=object),\n",
       " 'param_min_samples_leaf': masked_array(data=[4, 3, 3, 3, 5, 5, 5, 5, 3, 3],\n",
       "              mask=[False, False, False, False, False, False, False, False,\n",
       "                    False, False],\n",
       "        fill_value='?',\n",
       "             dtype=object),\n",
       " 'param_max_leaf_nodes': masked_array(data=[4, 6, 5, 6, 4, 6, 6, 6, 4, 5],\n",
       "              mask=[False, False, False, False, False, False, False, False,\n",
       "                    False, False],\n",
       "        fill_value='?',\n",
       "             dtype=object),\n",
       " 'params': [{'min_samples_split': 4,\n",
       "   'min_samples_leaf': 4,\n",
       "   'max_leaf_nodes': 4},\n",
       "  {'min_samples_split': 4, 'min_samples_leaf': 3, 'max_leaf_nodes': 6},\n",
       "  {'min_samples_split': 3, 'min_samples_leaf': 3, 'max_leaf_nodes': 5},\n",
       "  {'min_samples_split': 3, 'min_samples_leaf': 3, 'max_leaf_nodes': 6},\n",
       "  {'min_samples_split': 5, 'min_samples_leaf': 5, 'max_leaf_nodes': 4},\n",
       "  {'min_samples_split': 5, 'min_samples_leaf': 5, 'max_leaf_nodes': 6},\n",
       "  {'min_samples_split': 3, 'min_samples_leaf': 5, 'max_leaf_nodes': 6},\n",
       "  {'min_samples_split': 4, 'min_samples_leaf': 5, 'max_leaf_nodes': 6},\n",
       "  {'min_samples_split': 4, 'min_samples_leaf': 3, 'max_leaf_nodes': 4},\n",
       "  {'min_samples_split': 4, 'min_samples_leaf': 3, 'max_leaf_nodes': 5}],\n",
       " 'split0_test_score': array([0.81728479, 0.83339004, 0.83339004, 0.83339004, 0.81728479,\n",
       "        0.83339004, 0.83339004, 0.83339004, 0.81728479, 0.83339004]),\n",
       " 'split1_test_score': array([0.83350346, 0.85992968, 0.85992968, 0.85992968, 0.83350346,\n",
       "        0.85992968, 0.85992968, 0.85992968, 0.83350346, 0.85992968]),\n",
       " 'split2_test_score': array([0.84289927, 0.86161525, 0.86161525, 0.86161525, 0.84289927,\n",
       "        0.86161525, 0.86161525, 0.86161525, 0.84289927, 0.86161525]),\n",
       " 'split3_test_score': array([0.83427858, 0.85764519, 0.85764519, 0.85764519, 0.83427858,\n",
       "        0.85764519, 0.85764519, 0.85764519, 0.83427858, 0.85764519]),\n",
       " 'split4_test_score': array([0.8362069 , 0.86082123, 0.86082123, 0.86082123, 0.8362069 ,\n",
       "        0.86082123, 0.86082123, 0.86082123, 0.8362069 , 0.86082123]),\n",
       " 'mean_test_score': array([0.8328346 , 0.85468028, 0.85468028, 0.85468028, 0.8328346 ,\n",
       "        0.85468028, 0.85468028, 0.85468028, 0.8328346 , 0.85468028]),\n",
       " 'std_test_score': array([0.00844984, 0.01072778, 0.01072778, 0.01072778, 0.00844984,\n",
       "        0.01072778, 0.01072778, 0.01072778, 0.00844984, 0.01072778]),\n",
       " 'rank_test_score': array([8, 1, 1, 1, 8, 1, 1, 1, 8, 1])}"
      ]
     },
     "execution_count": 110,
     "metadata": {},
     "output_type": "execute_result"
    }
   ],
   "source": [
    "# Checking the results\n",
    "\n",
    "dt_classifier_random.cv_results_"
   ]
  },
  {
   "cell_type": "code",
   "execution_count": 111,
   "id": "6bcf3026",
   "metadata": {},
   "outputs": [
    {
     "data": {
      "text/plain": [
       "DecisionTreeClassifier(max_leaf_nodes=5, min_samples_leaf=3,\n",
       "                       min_samples_split=5, random_state=40)"
      ]
     },
     "execution_count": 111,
     "metadata": {},
     "output_type": "execute_result"
    }
   ],
   "source": [
    "# Using the best parameters, train the decision tree. Fit the model\n",
    "\n",
    "dt_classifier = DecisionTreeClassifier(max_leaf_nodes = 5, min_samples_leaf = 3, min_samples_split = 5, random_state = 40)\n",
    "dt_classifier.fit(X_train_scaled, y_train_re_sample)"
   ]
  },
  {
   "cell_type": "code",
   "execution_count": 112,
   "id": "74e0339e",
   "metadata": {},
   "outputs": [],
   "source": [
    "# Prediction\n",
    "\n",
    "y_pred_dt = dt_classifier.predict(X_test_scaled)"
   ]
  },
  {
   "cell_type": "code",
   "execution_count": 113,
   "id": "84138f81",
   "metadata": {},
   "outputs": [],
   "source": [
    "# Prediction probability \n",
    "\n",
    "pred_prob = dt_classifier.predict_proba(X_test_scaled)"
   ]
  },
  {
   "cell_type": "code",
   "execution_count": 114,
   "id": "fc65a3a9",
   "metadata": {},
   "outputs": [
    {
     "name": "stdout",
     "output_type": "stream",
     "text": [
      "Decision Tree:\n",
      "Precision: 0.33690360272638753\n",
      "Recall: 0.7178423236514523\n",
      "F1_score: 0.45858184227965537\n",
      "ROC_AUC: 0.8418368382629904\n"
     ]
    }
   ],
   "source": [
    "# Validate the scores\n",
    "\n",
    "table2 = performance(\"Decision Tree\", y_test, y_pred_dt, pred_prob[:,1])"
   ]
  },
  {
   "cell_type": "code",
   "execution_count": 115,
   "id": "8054a530",
   "metadata": {},
   "outputs": [
    {
     "data": {
      "text/html": [
       "<div>\n",
       "<style scoped>\n",
       "    .dataframe tbody tr th:only-of-type {\n",
       "        vertical-align: middle;\n",
       "    }\n",
       "\n",
       "    .dataframe tbody tr th {\n",
       "        vertical-align: top;\n",
       "    }\n",
       "\n",
       "    .dataframe thead th {\n",
       "        text-align: right;\n",
       "    }\n",
       "</style>\n",
       "<table border=\"1\" class=\"dataframe\">\n",
       "  <thead>\n",
       "    <tr style=\"text-align: right;\">\n",
       "      <th></th>\n",
       "      <th>Model</th>\n",
       "      <th>Precision</th>\n",
       "      <th>Recall</th>\n",
       "      <th>F1_score</th>\n",
       "      <th>ROC_AUC</th>\n",
       "    </tr>\n",
       "  </thead>\n",
       "  <tbody>\n",
       "    <tr>\n",
       "      <th>0</th>\n",
       "      <td>Logistic Regression</td>\n",
       "      <td>0.091931</td>\n",
       "      <td>0.560166</td>\n",
       "      <td>0.157941</td>\n",
       "      <td>0.575711</td>\n",
       "    </tr>\n",
       "    <tr>\n",
       "      <th>0</th>\n",
       "      <td>Decision Tree</td>\n",
       "      <td>0.336904</td>\n",
       "      <td>0.717842</td>\n",
       "      <td>0.458582</td>\n",
       "      <td>0.841837</td>\n",
       "    </tr>\n",
       "  </tbody>\n",
       "</table>\n",
       "</div>"
      ],
      "text/plain": [
       "                 Model  Precision    Recall  F1_score   ROC_AUC\n",
       "0  Logistic Regression   0.091931  0.560166  0.157941  0.575711\n",
       "0        Decision Tree   0.336904  0.717842  0.458582  0.841837"
      ]
     },
     "execution_count": 115,
     "metadata": {},
     "output_type": "execute_result"
    }
   ],
   "source": [
    "# Append the values to the original table for comparison \n",
    "\n",
    "perf_df = perf_df.append(table2)\n",
    "perf_df.dropna(inplace = True)\n",
    "perf_df.drop_duplicates(inplace = True)\n",
    "perf_df"
   ]
  },
  {
   "cell_type": "code",
   "execution_count": 116,
   "id": "4c31cbe2",
   "metadata": {},
   "outputs": [
    {
     "data": {
      "image/png": "[encoded data removed]",
      "text/plain": [
       "<Figure size 432x288 with 2 Axes>"
      ]
     },
     "metadata": {
      "needs_background": "light"
     },
     "output_type": "display_data"
    }
   ],
   "source": [
    "# Decision tree : confusion matrix\n",
    "\n",
    "metrics.plot_confusion_matrix(dt_classifier, X_test_scaled, y_test)\n",
    "plt.show()"
   ]
  },
  {
   "cell_type": "code",
   "execution_count": 117,
   "id": "0eb194c4",
   "metadata": {},
   "outputs": [
    {
     "data": {
      "image/png": "[encoded data removed]",
      "text/plain": [
       "<Figure size 432x288 with 1 Axes>"
      ]
     },
     "metadata": {
      "needs_background": "light"
     },
     "output_type": "display_data"
    }
   ],
   "source": [
    "# Decision tree : ROC_AUC\n",
    "\n",
    "metrics.plot_roc_curve(dt_classifier, X_test_scaled, y_test)\n",
    "plt.show()"
   ]
  },
  {
   "cell_type": "markdown",
   "id": "ae8a498d",
   "metadata": {},
   "source": [
    "### Model 3 : Random forest"
   ]
  },
  {
   "cell_type": "code",
   "execution_count": 118,
   "id": "667c6b6a",
   "metadata": {},
   "outputs": [],
   "source": [
    "# Instantiate a Random Forest object\n",
    "\n",
    "rf_obj = RandomForestClassifier(n_jobs = -1) "
   ]
  },
  {
   "cell_type": "code",
   "execution_count": 119,
   "id": "bcf11b82",
   "metadata": {},
   "outputs": [
    {
     "data": {
      "text/plain": [
       "RandomForestClassifier(n_jobs=-1)"
      ]
     },
     "execution_count": 119,
     "metadata": {},
     "output_type": "execute_result"
    }
   ],
   "source": [
    "# Fit the model\n",
    "\n",
    "rf_obj.fit(X_train_scaled, y_train_re_sample)"
   ]
  },
  {
   "cell_type": "code",
   "execution_count": 120,
   "id": "67afc5f1",
   "metadata": {},
   "outputs": [],
   "source": [
    "# Predict the model\n",
    "\n",
    "y_pred_rf = rf_obj.predict(X_test_scaled)\n",
    "pred_prob = rf_obj.predict_proba(X_test_scaled)"
   ]
  },
  {
   "cell_type": "code",
   "execution_count": 121,
   "id": "468139fa",
   "metadata": {},
   "outputs": [
    {
     "data": {
      "text/plain": [
       "{'bootstrap': True,\n",
       " 'ccp_alpha': 0.0,\n",
       " 'class_weight': None,\n",
       " 'criterion': 'gini',\n",
       " 'max_depth': None,\n",
       " 'max_features': 'auto',\n",
       " 'max_leaf_nodes': None,\n",
       " 'max_samples': None,\n",
       " 'min_impurity_decrease': 0.0,\n",
       " 'min_samples_leaf': 1,\n",
       " 'min_samples_split': 2,\n",
       " 'min_weight_fraction_leaf': 0.0,\n",
       " 'n_estimators': 100,\n",
       " 'n_jobs': -1,\n",
       " 'oob_score': False,\n",
       " 'random_state': None,\n",
       " 'verbose': 0,\n",
       " 'warm_start': False}"
      ]
     },
     "execution_count": 121,
     "metadata": {},
     "output_type": "execute_result"
    }
   ],
   "source": [
    "# Check random forest parameters\n",
    "\n",
    "rf_obj.get_params()"
   ]
  },
  {
   "cell_type": "code",
   "execution_count": 122,
   "id": "3464ffd3",
   "metadata": {},
   "outputs": [
    {
     "data": {
      "text/plain": [
       "RandomForestClassifier(n_jobs=-1, random_state=40)"
      ]
     },
     "execution_count": 122,
     "metadata": {},
     "output_type": "execute_result"
    }
   ],
   "source": [
    "# Hyperparamater tuning\n",
    "\n",
    "param = dict({\"n_estimators\":[90,110], \"min_samples_split\":[2,3], \"min_samples_leaf\":[2,3]})\n",
    "rf_obj = RandomForestClassifier(random_state = 40, n_jobs = -1)\n",
    "rf_classifier_random = RandomizedSearchCV(rf_obj, param, cv = 5, scoring = \"f1_micro\")\n",
    "rf_obj.fit(X_train_scaled,y_train_re_sample)"
   ]
  },
  {
   "cell_type": "code",
   "execution_count": 123,
   "id": "a922a6d3",
   "metadata": {},
   "outputs": [
    {
     "data": {
      "text/plain": [
       "RandomForestClassifier(min_samples_leaf=3, n_estimators=120, n_jobs=-1,\n",
       "                       random_state=40)"
      ]
     },
     "execution_count": 123,
     "metadata": {},
     "output_type": "execute_result"
    }
   ],
   "source": [
    "# Fit the model\n",
    "\n",
    "rf_obj = RandomForestClassifier(min_samples_leaf = 3, n_estimators = 120, n_jobs = -1, random_state = 40)\n",
    "rf_obj.fit(X_train_scaled, y_train_re_sample)"
   ]
  },
  {
   "cell_type": "code",
   "execution_count": 124,
   "id": "39eab6ec",
   "metadata": {},
   "outputs": [],
   "source": [
    "# Prediction\n",
    "\n",
    "y_pred_rf = rf_obj.predict(X_test_scaled)"
   ]
  },
  {
   "cell_type": "code",
   "execution_count": 125,
   "id": "d08fae9b",
   "metadata": {},
   "outputs": [],
   "source": [
    "# Prediction probability \n",
    "\n",
    "pred_prob = rf_obj.predict_proba(X_test_scaled)"
   ]
  },
  {
   "cell_type": "code",
   "execution_count": 126,
   "id": "6892a0b8",
   "metadata": {},
   "outputs": [
    {
     "name": "stdout",
     "output_type": "stream",
     "text": [
      "Random Forest:\n",
      "Precision: 0.5862708719851577\n",
      "Recall: 0.6556016597510373\n",
      "F1_score: 0.6190009794319296\n",
      "ROC_AUC: 0.9244024227132372\n"
     ]
    }
   ],
   "source": [
    "# Validate the scores\n",
    "\n",
    "table3 = performance(\"Random Forest\", y_test, y_pred_rf, pred_prob[:,1])"
   ]
  },
  {
   "cell_type": "code",
   "execution_count": 127,
   "id": "5b637c14",
   "metadata": {},
   "outputs": [
    {
     "data": {
      "text/html": [
       "<div>\n",
       "<style scoped>\n",
       "    .dataframe tbody tr th:only-of-type {\n",
       "        vertical-align: middle;\n",
       "    }\n",
       "\n",
       "    .dataframe tbody tr th {\n",
       "        vertical-align: top;\n",
       "    }\n",
       "\n",
       "    .dataframe thead th {\n",
       "        text-align: right;\n",
       "    }\n",
       "</style>\n",
       "<table border=\"1\" class=\"dataframe\">\n",
       "  <thead>\n",
       "    <tr style=\"text-align: right;\">\n",
       "      <th></th>\n",
       "      <th>Model</th>\n",
       "      <th>Precision</th>\n",
       "      <th>Recall</th>\n",
       "      <th>F1_score</th>\n",
       "      <th>ROC_AUC</th>\n",
       "    </tr>\n",
       "  </thead>\n",
       "  <tbody>\n",
       "    <tr>\n",
       "      <th>0</th>\n",
       "      <td>Logistic Regression</td>\n",
       "      <td>0.091931</td>\n",
       "      <td>0.560166</td>\n",
       "      <td>0.157941</td>\n",
       "      <td>0.575711</td>\n",
       "    </tr>\n",
       "    <tr>\n",
       "      <th>0</th>\n",
       "      <td>Decision Tree</td>\n",
       "      <td>0.336904</td>\n",
       "      <td>0.717842</td>\n",
       "      <td>0.458582</td>\n",
       "      <td>0.841837</td>\n",
       "    </tr>\n",
       "    <tr>\n",
       "      <th>0</th>\n",
       "      <td>Random Forest</td>\n",
       "      <td>0.586271</td>\n",
       "      <td>0.655602</td>\n",
       "      <td>0.619001</td>\n",
       "      <td>0.924402</td>\n",
       "    </tr>\n",
       "  </tbody>\n",
       "</table>\n",
       "</div>"
      ],
      "text/plain": [
       "                 Model  Precision    Recall  F1_score   ROC_AUC\n",
       "0  Logistic Regression   0.091931  0.560166  0.157941  0.575711\n",
       "0        Decision Tree   0.336904  0.717842  0.458582  0.841837\n",
       "0        Random Forest   0.586271  0.655602  0.619001  0.924402"
      ]
     },
     "execution_count": 127,
     "metadata": {},
     "output_type": "execute_result"
    }
   ],
   "source": [
    "# Append the values to the original table for comparison \n",
    "\n",
    "perf_df = perf_df.append(table3)\n",
    "perf_df"
   ]
  },
  {
   "cell_type": "code",
   "execution_count": 128,
   "id": "137892ab",
   "metadata": {},
   "outputs": [
    {
     "data": {
      "image/png": "[encoded data removed]",
      "text/plain": [
       "<Figure size 432x288 with 2 Axes>"
      ]
     },
     "metadata": {
      "needs_background": "light"
     },
     "output_type": "display_data"
    }
   ],
   "source": [
    "# Random forest : confusion matrix\n",
    "\n",
    "metrics.plot_confusion_matrix(rf_obj, X_test_scaled, y_test)\n",
    "plt.show()"
   ]
  },
  {
   "cell_type": "code",
   "execution_count": 129,
   "id": "5530bde9",
   "metadata": {},
   "outputs": [
    {
     "data": {
      "image/png": "[encoded data removed]",
      "text/plain": [
       "<Figure size 432x288 with 1 Axes>"
      ]
     },
     "metadata": {
      "needs_background": "light"
     },
     "output_type": "display_data"
    }
   ],
   "source": [
    "# Random forest : ROC_AUC\n",
    "\n",
    "metrics.plot_roc_curve(rf_obj, X_test_scaled, y_test)\n",
    "plt.show()"
   ]
  },
  {
   "cell_type": "markdown",
   "id": "b43db621",
   "metadata": {},
   "source": [
    "### Model 4: Gradient boosting"
   ]
  },
  {
   "cell_type": "code",
   "execution_count": 130,
   "id": "f2e88ca1",
   "metadata": {},
   "outputs": [],
   "source": [
    "# Instantiate gradient boost object\n",
    "\n",
    "gb_obj = GradientBoostingClassifier(random_state = 42, min_samples_leaf = 4, min_samples_split = 5)"
   ]
  },
  {
   "cell_type": "code",
   "execution_count": 131,
   "id": "527ba039",
   "metadata": {},
   "outputs": [
    {
     "data": {
      "text/plain": [
       "GradientBoostingClassifier(min_samples_leaf=4, min_samples_split=5,\n",
       "                           random_state=42)"
      ]
     },
     "execution_count": 131,
     "metadata": {},
     "output_type": "execute_result"
    }
   ],
   "source": [
    "# Fit the model\n",
    "\n",
    "gb_obj.fit(X_train_scaled, y_train_re_sample)"
   ]
  },
  {
   "cell_type": "code",
   "execution_count": 132,
   "id": "5b5a171d",
   "metadata": {},
   "outputs": [],
   "source": [
    "# Prediction \n",
    "\n",
    "y_pred_gb = gb_obj.predict(X_test_scaled)"
   ]
  },
  {
   "cell_type": "code",
   "execution_count": 133,
   "id": "8e665879",
   "metadata": {},
   "outputs": [],
   "source": [
    "# Prediction probability \n",
    "\n",
    "pred_prob = gb_obj.predict_proba(X_test_scaled)"
   ]
  },
  {
   "cell_type": "code",
   "execution_count": 134,
   "id": "80380e7e",
   "metadata": {},
   "outputs": [
    {
     "data": {
      "text/plain": [
       "{'ccp_alpha': 0.0,\n",
       " 'criterion': 'friedman_mse',\n",
       " 'init': None,\n",
       " 'learning_rate': 0.1,\n",
       " 'loss': 'deviance',\n",
       " 'max_depth': 3,\n",
       " 'max_features': None,\n",
       " 'max_leaf_nodes': None,\n",
       " 'min_impurity_decrease': 0.0,\n",
       " 'min_samples_leaf': 4,\n",
       " 'min_samples_split': 5,\n",
       " 'min_weight_fraction_leaf': 0.0,\n",
       " 'n_estimators': 100,\n",
       " 'n_iter_no_change': None,\n",
       " 'random_state': 42,\n",
       " 'subsample': 1.0,\n",
       " 'tol': 0.0001,\n",
       " 'validation_fraction': 0.1,\n",
       " 'verbose': 0,\n",
       " 'warm_start': False}"
      ]
     },
     "execution_count": 134,
     "metadata": {},
     "output_type": "execute_result"
    }
   ],
   "source": [
    "# Gradient boosting default parameters\n",
    "\n",
    "gb_obj.get_params()"
   ]
  },
  {
   "cell_type": "code",
   "execution_count": 135,
   "id": "ab027650",
   "metadata": {},
   "outputs": [],
   "source": [
    "# Hyperparamater tuning\n",
    "\n",
    "param = dict({\"n_estimators\":[90,110], \"min_samples_split\":[2,4], \"min_samples_leaf\":[2,3], \"learning_rate\":[.2,.3]})\n",
    "gb_obj_classifier = GradientBoostingClassifier(random_state = 40)\n",
    "gb_obj_random = RandomizedSearchCV(gb_obj_classifier, param, cv = 5, scoring = \"f1_micro\")"
   ]
  },
  {
   "cell_type": "code",
   "execution_count": 136,
   "id": "8eb8c98c",
   "metadata": {},
   "outputs": [],
   "source": [
    "# Commenting the below code to cut the code execution time"
   ]
  },
  {
   "cell_type": "code",
   "execution_count": 137,
   "id": "ef4785a9",
   "metadata": {},
   "outputs": [],
   "source": [
    "# Fit the model\n",
    "\n",
    "# gb_obj_random.fit(X_train_scaled, y_train_re_sample)"
   ]
  },
  {
   "cell_type": "code",
   "execution_count": 138,
   "id": "aaf59364",
   "metadata": {},
   "outputs": [],
   "source": [
    "# Check the score and estimator parameters\n",
    "\n",
    "# print(gb_obj_random.best_score_)\n",
    "# print(gb_obj_random.best_estimator_)"
   ]
  },
  {
   "cell_type": "code",
   "execution_count": 139,
   "id": "3da5aba3",
   "metadata": {},
   "outputs": [
    {
     "name": "stdout",
     "output_type": "stream",
     "text": [
      "Gradient Boosting:\n",
      "Precision: 0.48326055312954874\n",
      "Recall: 0.6887966804979253\n",
      "F1_score: 0.5680068434559453\n",
      "ROC_AUC: 0.9197948016621568\n"
     ]
    }
   ],
   "source": [
    "# Validate the scores\n",
    "\n",
    "table4 = performance(\"Gradient Boosting\", y_test, y_pred_gb, pred_prob[:,1])"
   ]
  },
  {
   "cell_type": "code",
   "execution_count": 140,
   "id": "893d8ed2",
   "metadata": {},
   "outputs": [
    {
     "data": {
      "text/html": [
       "<div>\n",
       "<style scoped>\n",
       "    .dataframe tbody tr th:only-of-type {\n",
       "        vertical-align: middle;\n",
       "    }\n",
       "\n",
       "    .dataframe tbody tr th {\n",
       "        vertical-align: top;\n",
       "    }\n",
       "\n",
       "    .dataframe thead th {\n",
       "        text-align: right;\n",
       "    }\n",
       "</style>\n",
       "<table border=\"1\" class=\"dataframe\">\n",
       "  <thead>\n",
       "    <tr style=\"text-align: right;\">\n",
       "      <th></th>\n",
       "      <th>Model</th>\n",
       "      <th>Precision</th>\n",
       "      <th>Recall</th>\n",
       "      <th>F1_score</th>\n",
       "      <th>ROC_AUC</th>\n",
       "    </tr>\n",
       "  </thead>\n",
       "  <tbody>\n",
       "    <tr>\n",
       "      <th>0</th>\n",
       "      <td>Logistic Regression</td>\n",
       "      <td>0.091931</td>\n",
       "      <td>0.560166</td>\n",
       "      <td>0.157941</td>\n",
       "      <td>0.575711</td>\n",
       "    </tr>\n",
       "    <tr>\n",
       "      <th>0</th>\n",
       "      <td>Decision Tree</td>\n",
       "      <td>0.336904</td>\n",
       "      <td>0.717842</td>\n",
       "      <td>0.458582</td>\n",
       "      <td>0.841837</td>\n",
       "    </tr>\n",
       "    <tr>\n",
       "      <th>0</th>\n",
       "      <td>Random Forest</td>\n",
       "      <td>0.586271</td>\n",
       "      <td>0.655602</td>\n",
       "      <td>0.619001</td>\n",
       "      <td>0.924402</td>\n",
       "    </tr>\n",
       "    <tr>\n",
       "      <th>0</th>\n",
       "      <td>Gradient Boosting</td>\n",
       "      <td>0.483261</td>\n",
       "      <td>0.688797</td>\n",
       "      <td>0.568007</td>\n",
       "      <td>0.919795</td>\n",
       "    </tr>\n",
       "  </tbody>\n",
       "</table>\n",
       "</div>"
      ],
      "text/plain": [
       "                 Model  Precision    Recall  F1_score   ROC_AUC\n",
       "0  Logistic Regression   0.091931  0.560166  0.157941  0.575711\n",
       "0        Decision Tree   0.336904  0.717842  0.458582  0.841837\n",
       "0        Random Forest   0.586271  0.655602  0.619001  0.924402\n",
       "0    Gradient Boosting   0.483261  0.688797  0.568007  0.919795"
      ]
     },
     "execution_count": 140,
     "metadata": {},
     "output_type": "execute_result"
    }
   ],
   "source": [
    "# Append the values to the original table for comparison \n",
    "\n",
    "perf_df = perf_df.append(table4)\n",
    "perf_df"
   ]
  },
  {
   "cell_type": "code",
   "execution_count": 141,
   "id": "6171f775",
   "metadata": {},
   "outputs": [
    {
     "data": {
      "image/png": "[encoded data removed]",
      "text/plain": [
       "<Figure size 432x288 with 2 Axes>"
      ]
     },
     "metadata": {
      "needs_background": "light"
     },
     "output_type": "display_data"
    }
   ],
   "source": [
    "# Gradient boosting : confusion matrix\n",
    "\n",
    "metrics.plot_confusion_matrix(gb_obj, X_test, y_test)\n",
    "plt.show()"
   ]
  },
  {
   "cell_type": "code",
   "execution_count": 142,
   "id": "7cfe1b84",
   "metadata": {},
   "outputs": [
    {
     "data": {
      "image/png": "[encoded data removed]",
      "text/plain": [
       "<Figure size 432x288 with 1 Axes>"
      ]
     },
     "metadata": {
      "needs_background": "light"
     },
     "output_type": "display_data"
    }
   ],
   "source": [
    "# Gradient boosting : ROC_AUC\n",
    "\n",
    "metrics.plot_roc_curve(gb_obj, X_test_scaled, y_test)\n",
    "plt.show()"
   ]
  },
  {
   "cell_type": "markdown",
   "id": "04837fab",
   "metadata": {},
   "source": [
    "### Model 5 : XGBoost"
   ]
  },
  {
   "cell_type": "code",
   "execution_count": 143,
   "id": "b5f82828",
   "metadata": {},
   "outputs": [],
   "source": [
    "# Instantiate XGBoost object\n",
    "\n",
    "xgb_obj = xgb.XGBClassifier(max_depth = 10)"
   ]
  },
  {
   "cell_type": "code",
   "execution_count": 144,
   "id": "bb34dc05",
   "metadata": {},
   "outputs": [
    {
     "data": {
      "text/plain": [
       "XGBClassifier(base_score=0.5, booster='gbtree', callbacks=None,\n",
       "              colsample_bylevel=1, colsample_bynode=1, colsample_bytree=1,\n",
       "              early_stopping_rounds=None, enable_categorical=False,\n",
       "              eval_metric=None, gamma=0, gpu_id=-1, grow_policy='depthwise',\n",
       "              importance_type=None, interaction_constraints='',\n",
       "              learning_rate=0.300000012, max_bin=256, max_cat_to_onehot=4,\n",
       "              max_delta_step=0, max_depth=10, max_leaves=0, min_child_weight=1,\n",
       "              missing=nan, monotone_constraints='()', n_estimators=100,\n",
       "              n_jobs=0, num_parallel_tree=1, predictor='auto', random_state=0,\n",
       "              reg_alpha=0, reg_lambda=1, ...)"
      ]
     },
     "execution_count": 144,
     "metadata": {},
     "output_type": "execute_result"
    }
   ],
   "source": [
    "# Fit the model\n",
    "\n",
    "xgb_obj.fit(X_train_scaled, y_train_re_sample)"
   ]
  },
  {
   "cell_type": "code",
   "execution_count": 145,
   "id": "cea4a913",
   "metadata": {},
   "outputs": [],
   "source": [
    "# Prediction\n",
    "\n",
    "y_pred_xgb = xgb_obj.predict(X_test_scaled)"
   ]
  },
  {
   "cell_type": "code",
   "execution_count": 146,
   "id": "8d1e9ecd",
   "metadata": {},
   "outputs": [],
   "source": [
    "# Prediction probability \n",
    "\n",
    "pred_prob = xgb_obj.predict_proba(X_test_scaled)"
   ]
  },
  {
   "cell_type": "code",
   "execution_count": 147,
   "id": "2ec91a10",
   "metadata": {},
   "outputs": [
    {
     "data": {
      "text/plain": [
       "{'objective': 'binary:logistic',\n",
       " 'use_label_encoder': False,\n",
       " 'base_score': 0.5,\n",
       " 'booster': 'gbtree',\n",
       " 'callbacks': None,\n",
       " 'colsample_bylevel': 1,\n",
       " 'colsample_bynode': 1,\n",
       " 'colsample_bytree': 1,\n",
       " 'early_stopping_rounds': None,\n",
       " 'enable_categorical': False,\n",
       " 'eval_metric': None,\n",
       " 'gamma': 0,\n",
       " 'gpu_id': -1,\n",
       " 'grow_policy': 'depthwise',\n",
       " 'importance_type': None,\n",
       " 'interaction_constraints': '',\n",
       " 'learning_rate': 0.300000012,\n",
       " 'max_bin': 256,\n",
       " 'max_cat_to_onehot': 4,\n",
       " 'max_delta_step': 0,\n",
       " 'max_depth': 10,\n",
       " 'max_leaves': 0,\n",
       " 'min_child_weight': 1,\n",
       " 'missing': nan,\n",
       " 'monotone_constraints': '()',\n",
       " 'n_estimators': 100,\n",
       " 'n_jobs': 0,\n",
       " 'num_parallel_tree': 1,\n",
       " 'predictor': 'auto',\n",
       " 'random_state': 0,\n",
       " 'reg_alpha': 0,\n",
       " 'reg_lambda': 1,\n",
       " 'sampling_method': 'uniform',\n",
       " 'scale_pos_weight': 1,\n",
       " 'subsample': 1,\n",
       " 'tree_method': 'exact',\n",
       " 'validate_parameters': 1,\n",
       " 'verbosity': None}"
      ]
     },
     "execution_count": 147,
     "metadata": {},
     "output_type": "execute_result"
    }
   ],
   "source": [
    "# XGBoost default parameters\n",
    "\n",
    "xgb_obj.get_params()"
   ]
  },
  {
   "cell_type": "code",
   "execution_count": 148,
   "id": "1061b46a",
   "metadata": {},
   "outputs": [],
   "source": [
    "# Hyperparamater tuning\n",
    "\n",
    "param = dict({\"n_estimators\":[90,110], \"subsample\":[0,1], \"max_depth\": [5,7,10], \"learning_rate\":[.2,.4]})\n",
    "xgb_obj_classifier = GradientBoostingClassifier(random_state = 40)\n",
    "xgb_obj_random = RandomizedSearchCV(xgb_obj_classifier, param, cv = 5, scoring = \"f1_micro\")"
   ]
  },
  {
   "cell_type": "code",
   "execution_count": 149,
   "id": "20a1f200",
   "metadata": {},
   "outputs": [],
   "source": [
    "# Commenting the below code to cut the code execution time"
   ]
  },
  {
   "cell_type": "code",
   "execution_count": 150,
   "id": "1c9b9aba",
   "metadata": {},
   "outputs": [],
   "source": [
    "# Fit the model\n",
    "\n",
    "# xgb_obj_random.fit(X_train_scaled, y_train_re_sample)"
   ]
  },
  {
   "cell_type": "code",
   "execution_count": 151,
   "id": "1bc4c6f9",
   "metadata": {},
   "outputs": [],
   "source": [
    "# Check the score and estimator parameters\n",
    "\n",
    "# print(xgb_clf_rcv.best_score_)\n",
    "# print(xgb_clf_rcv.best_estimator_)"
   ]
  },
  {
   "cell_type": "code",
   "execution_count": 152,
   "id": "c93b5d21",
   "metadata": {},
   "outputs": [
    {
     "name": "stdout",
     "output_type": "stream",
     "text": [
      "XGBoost:\n",
      "Precision: 0.655011655011655\n",
      "Recall: 0.58298755186722\n",
      "F1_score: 0.6169045005488474\n",
      "ROC_AUC: 0.9301635466765507\n"
     ]
    }
   ],
   "source": [
    "# Validate the scores\n",
    "\n",
    "table5 = performance(\"XGBoost\", y_test, y_pred_xgb, pred_prob[:,1])"
   ]
  },
  {
   "cell_type": "code",
   "execution_count": 153,
   "id": "5730f06c",
   "metadata": {},
   "outputs": [
    {
     "data": {
      "text/html": [
       "<div>\n",
       "<style scoped>\n",
       "    .dataframe tbody tr th:only-of-type {\n",
       "        vertical-align: middle;\n",
       "    }\n",
       "\n",
       "    .dataframe tbody tr th {\n",
       "        vertical-align: top;\n",
       "    }\n",
       "\n",
       "    .dataframe thead th {\n",
       "        text-align: right;\n",
       "    }\n",
       "</style>\n",
       "<table border=\"1\" class=\"dataframe\">\n",
       "  <thead>\n",
       "    <tr style=\"text-align: right;\">\n",
       "      <th></th>\n",
       "      <th>Model</th>\n",
       "      <th>Precision</th>\n",
       "      <th>Recall</th>\n",
       "      <th>F1_score</th>\n",
       "      <th>ROC_AUC</th>\n",
       "    </tr>\n",
       "  </thead>\n",
       "  <tbody>\n",
       "    <tr>\n",
       "      <th>0</th>\n",
       "      <td>Logistic Regression</td>\n",
       "      <td>0.091931</td>\n",
       "      <td>0.560166</td>\n",
       "      <td>0.157941</td>\n",
       "      <td>0.575711</td>\n",
       "    </tr>\n",
       "    <tr>\n",
       "      <th>0</th>\n",
       "      <td>Decision Tree</td>\n",
       "      <td>0.336904</td>\n",
       "      <td>0.717842</td>\n",
       "      <td>0.458582</td>\n",
       "      <td>0.841837</td>\n",
       "    </tr>\n",
       "    <tr>\n",
       "      <th>0</th>\n",
       "      <td>Random Forest</td>\n",
       "      <td>0.586271</td>\n",
       "      <td>0.655602</td>\n",
       "      <td>0.619001</td>\n",
       "      <td>0.924402</td>\n",
       "    </tr>\n",
       "    <tr>\n",
       "      <th>0</th>\n",
       "      <td>Gradient Boosting</td>\n",
       "      <td>0.483261</td>\n",
       "      <td>0.688797</td>\n",
       "      <td>0.568007</td>\n",
       "      <td>0.919795</td>\n",
       "    </tr>\n",
       "    <tr>\n",
       "      <th>0</th>\n",
       "      <td>XGBoost</td>\n",
       "      <td>0.655012</td>\n",
       "      <td>0.582988</td>\n",
       "      <td>0.616905</td>\n",
       "      <td>0.930164</td>\n",
       "    </tr>\n",
       "  </tbody>\n",
       "</table>\n",
       "</div>"
      ],
      "text/plain": [
       "                 Model  Precision    Recall  F1_score   ROC_AUC\n",
       "0  Logistic Regression   0.091931  0.560166  0.157941  0.575711\n",
       "0        Decision Tree   0.336904  0.717842  0.458582  0.841837\n",
       "0        Random Forest   0.586271  0.655602  0.619001  0.924402\n",
       "0    Gradient Boosting   0.483261  0.688797  0.568007  0.919795\n",
       "0              XGBoost   0.655012  0.582988  0.616905  0.930164"
      ]
     },
     "execution_count": 153,
     "metadata": {},
     "output_type": "execute_result"
    }
   ],
   "source": [
    "# Append the values to the original table for comparison \n",
    "\n",
    "perf_df = perf_df.append(table5)\n",
    "perf_df.drop_duplicates()"
   ]
  },
  {
   "cell_type": "code",
   "execution_count": 154,
   "id": "e578fb99",
   "metadata": {},
   "outputs": [
    {
     "data": {
      "image/png": "[encoded data removed]",
      "text/plain": [
       "<Figure size 432x288 with 2 Axes>"
      ]
     },
     "metadata": {
      "needs_background": "light"
     },
     "output_type": "display_data"
    }
   ],
   "source": [
    "# XGBoost : confusion matrix\n",
    "\n",
    "metrics.plot_confusion_matrix(xgb_obj, X_test_scaled, y_test)\n",
    "plt.show()"
   ]
  },
  {
   "cell_type": "code",
   "execution_count": 155,
   "id": "8b1e6052",
   "metadata": {},
   "outputs": [
    {
     "data": {
      "image/png": "[encoded data removed]",
      "text/plain": [
       "<Figure size 432x288 with 1 Axes>"
      ]
     },
     "metadata": {
      "needs_background": "light"
     },
     "output_type": "display_data"
    }
   ],
   "source": [
    "# XGBoost : ROC_AUC\n",
    "\n",
    "metrics.plot_roc_curve(xgb_obj, X_test_scaled, y_test)\n",
    "plt.show()"
   ]
  },
  {
   "cell_type": "code",
   "execution_count": 156,
   "id": "330a6e58",
   "metadata": {},
   "outputs": [
    {
     "data": {
      "text/html": [
       "<div>\n",
       "<style scoped>\n",
       "    .dataframe tbody tr th:only-of-type {\n",
       "        vertical-align: middle;\n",
       "    }\n",
       "\n",
       "    .dataframe tbody tr th {\n",
       "        vertical-align: top;\n",
       "    }\n",
       "\n",
       "    .dataframe thead th {\n",
       "        text-align: right;\n",
       "    }\n",
       "</style>\n",
       "<table border=\"1\" class=\"dataframe\">\n",
       "  <thead>\n",
       "    <tr style=\"text-align: right;\">\n",
       "      <th></th>\n",
       "      <th>Model</th>\n",
       "      <th>Precision</th>\n",
       "      <th>Recall</th>\n",
       "      <th>F1_score</th>\n",
       "      <th>ROC_AUC</th>\n",
       "    </tr>\n",
       "  </thead>\n",
       "  <tbody>\n",
       "    <tr>\n",
       "      <th>0</th>\n",
       "      <td>Logistic Regression</td>\n",
       "      <td>0.091931</td>\n",
       "      <td>0.560166</td>\n",
       "      <td>0.157941</td>\n",
       "      <td>0.575711</td>\n",
       "    </tr>\n",
       "    <tr>\n",
       "      <th>0</th>\n",
       "      <td>Decision Tree</td>\n",
       "      <td>0.336904</td>\n",
       "      <td>0.717842</td>\n",
       "      <td>0.458582</td>\n",
       "      <td>0.841837</td>\n",
       "    </tr>\n",
       "    <tr>\n",
       "      <th>0</th>\n",
       "      <td>Random Forest</td>\n",
       "      <td>0.586271</td>\n",
       "      <td>0.655602</td>\n",
       "      <td>0.619001</td>\n",
       "      <td>0.924402</td>\n",
       "    </tr>\n",
       "    <tr>\n",
       "      <th>0</th>\n",
       "      <td>Gradient Boosting</td>\n",
       "      <td>0.483261</td>\n",
       "      <td>0.688797</td>\n",
       "      <td>0.568007</td>\n",
       "      <td>0.919795</td>\n",
       "    </tr>\n",
       "    <tr>\n",
       "      <th>0</th>\n",
       "      <td>XGBoost</td>\n",
       "      <td>0.655012</td>\n",
       "      <td>0.582988</td>\n",
       "      <td>0.616905</td>\n",
       "      <td>0.930164</td>\n",
       "    </tr>\n",
       "  </tbody>\n",
       "</table>\n",
       "</div>"
      ],
      "text/plain": [
       "                 Model  Precision    Recall  F1_score   ROC_AUC\n",
       "0  Logistic Regression   0.091931  0.560166  0.157941  0.575711\n",
       "0        Decision Tree   0.336904  0.717842  0.458582  0.841837\n",
       "0        Random Forest   0.586271  0.655602  0.619001  0.924402\n",
       "0    Gradient Boosting   0.483261  0.688797  0.568007  0.919795\n",
       "0              XGBoost   0.655012  0.582988  0.616905  0.930164"
      ]
     },
     "execution_count": 156,
     "metadata": {},
     "output_type": "execute_result"
    }
   ],
   "source": [
    "# View the final table contents\n",
    "\n",
    "perf_df"
   ]
  },
  {
   "cell_type": "markdown",
   "id": "6450a62c",
   "metadata": {},
   "source": [
    "According to the above table, XGBoost gives us good/positive results."
   ]
  },
  {
   "cell_type": "markdown",
   "id": "63f8b285",
   "metadata": {},
   "source": [
    "## Step 5:  Feature importance"
   ]
  },
  {
   "cell_type": "code",
   "execution_count": 157,
   "id": "08112ca7",
   "metadata": {},
   "outputs": [],
   "source": [
    "# XGBoost\n",
    "\n",
    "xgb_new = xgb.XGBClassifier(random_state = 40)"
   ]
  },
  {
   "cell_type": "code",
   "execution_count": 158,
   "id": "e2b06cda",
   "metadata": {},
   "outputs": [
    {
     "data": {
      "text/plain": [
       "XGBClassifier(base_score=0.5, booster='gbtree', callbacks=None,\n",
       "              colsample_bylevel=1, colsample_bynode=1, colsample_bytree=1,\n",
       "              early_stopping_rounds=None, enable_categorical=False,\n",
       "              eval_metric=None, gamma=0, gpu_id=-1, grow_policy='depthwise',\n",
       "              importance_type=None, interaction_constraints='',\n",
       "              learning_rate=0.300000012, max_bin=256, max_cat_to_onehot=4,\n",
       "              max_delta_step=0, max_depth=6, max_leaves=0, min_child_weight=1,\n",
       "              missing=nan, monotone_constraints='()', n_estimators=100,\n",
       "              n_jobs=0, num_parallel_tree=1, predictor='auto', random_state=40,\n",
       "              reg_alpha=0, reg_lambda=1, ...)"
      ]
     },
     "execution_count": 158,
     "metadata": {},
     "output_type": "execute_result"
    }
   ],
   "source": [
    "# Fit the model\n",
    "\n",
    "xgb_new.fit(X_train_re_sample, y_train_re_sample)"
   ]
  },
  {
   "cell_type": "code",
   "execution_count": 159,
   "id": "9389dc8e",
   "metadata": {},
   "outputs": [],
   "source": [
    "# Prediction\n",
    "\n",
    "y_pred = xgb_new.predict(X_test)"
   ]
  },
  {
   "cell_type": "code",
   "execution_count": 160,
   "id": "cc6d9c7f",
   "metadata": {},
   "outputs": [
    {
     "name": "stdout",
     "output_type": "stream",
     "text": [
      "XGBoost:\n",
      "Precision: 0.6516587677725119\n",
      "Recall: 0.5705394190871369\n",
      "F1_score: 0.6084070796460176\n",
      "ROC_AUC: 0.9301635466765507\n"
     ]
    },
    {
     "data": {
      "text/html": [
       "<div>\n",
       "<style scoped>\n",
       "    .dataframe tbody tr th:only-of-type {\n",
       "        vertical-align: middle;\n",
       "    }\n",
       "\n",
       "    .dataframe tbody tr th {\n",
       "        vertical-align: top;\n",
       "    }\n",
       "\n",
       "    .dataframe thead th {\n",
       "        text-align: right;\n",
       "    }\n",
       "</style>\n",
       "<table border=\"1\" class=\"dataframe\">\n",
       "  <thead>\n",
       "    <tr style=\"text-align: right;\">\n",
       "      <th></th>\n",
       "      <th>Model</th>\n",
       "      <th>Precision</th>\n",
       "      <th>Recall</th>\n",
       "      <th>F1_score</th>\n",
       "      <th>ROC_AUC</th>\n",
       "    </tr>\n",
       "  </thead>\n",
       "  <tbody>\n",
       "    <tr>\n",
       "      <th>0</th>\n",
       "      <td>XGBoost</td>\n",
       "      <td>0.651659</td>\n",
       "      <td>0.570539</td>\n",
       "      <td>0.608407</td>\n",
       "      <td>0.930164</td>\n",
       "    </tr>\n",
       "  </tbody>\n",
       "</table>\n",
       "</div>"
      ],
      "text/plain": [
       "     Model  Precision    Recall  F1_score   ROC_AUC\n",
       "0  XGBoost   0.651659  0.570539  0.608407  0.930164"
      ]
     },
     "execution_count": 160,
     "metadata": {},
     "output_type": "execute_result"
    }
   ],
   "source": [
    "# Validate the scores\n",
    "\n",
    "performance(\"XGBoost\", y_test, y_pred, pred_prob[:,1])"
   ]
  },
  {
   "cell_type": "code",
   "execution_count": 161,
   "id": "7e7cbad6",
   "metadata": {},
   "outputs": [
    {
     "data": {
      "image/png": "[encoded data removed]",
      "text/plain": [
       "<Figure size 432x288 with 2 Axes>"
      ]
     },
     "metadata": {
      "needs_background": "light"
     },
     "output_type": "display_data"
    }
   ],
   "source": [
    "# XGBoost : confusion matrix\n",
    "\n",
    "metrics.plot_confusion_matrix(xgb_new, X_test, y_test)\n",
    "plt.show()"
   ]
  },
  {
   "cell_type": "code",
   "execution_count": 162,
   "id": "16facd9e",
   "metadata": {},
   "outputs": [
    {
     "data": {
      "image/png": "[encoded data removed]",
      "text/plain": [
       "<Figure size 432x288 with 1 Axes>"
      ]
     },
     "metadata": {
      "needs_background": "light"
     },
     "output_type": "display_data"
    }
   ],
   "source": [
    "# XGBoost : ROC_AUC\n",
    "\n",
    "metrics.plot_roc_curve(xgb_new, X_test, y_test) \n",
    "plt.show()"
   ]
  },
  {
   "cell_type": "code",
   "execution_count": 163,
   "id": "d9101434",
   "metadata": {},
   "outputs": [
    {
     "name": "stdout",
     "output_type": "stream",
     "text": [
      "              precision    recall  f1-score   support\n",
      "\n",
      "           0       0.96      0.97      0.97      5519\n",
      "           1       0.65      0.57      0.61       482\n",
      "\n",
      "    accuracy                           0.94      6001\n",
      "   macro avg       0.81      0.77      0.79      6001\n",
      "weighted avg       0.94      0.94      0.94      6001\n",
      "\n"
     ]
    }
   ],
   "source": [
    "# Classification report\n",
    "\n",
    "print(metrics.classification_report(y_test, y_pred))"
   ]
  },
  {
   "cell_type": "code",
   "execution_count": 164,
   "id": "9f2476d3",
   "metadata": {},
   "outputs": [],
   "source": [
    "# Data frame to depict feature importance\n",
    "\n",
    "feature_importance = pd.DataFrame({\"Columns\":X_train.columns,\"Feature importance\":xgb_new.feature_importances_})"
   ]
  },
  {
   "cell_type": "code",
   "execution_count": 165,
   "id": "6ad4ddde",
   "metadata": {},
   "outputs": [
    {
     "data": {
      "text/html": [
       "<div>\n",
       "<style scoped>\n",
       "    .dataframe tbody tr th:only-of-type {\n",
       "        vertical-align: middle;\n",
       "    }\n",
       "\n",
       "    .dataframe tbody tr th {\n",
       "        vertical-align: top;\n",
       "    }\n",
       "\n",
       "    .dataframe thead th {\n",
       "        text-align: right;\n",
       "    }\n",
       "</style>\n",
       "<table border=\"1\" class=\"dataframe\">\n",
       "  <thead>\n",
       "    <tr style=\"text-align: right;\">\n",
       "      <th></th>\n",
       "      <th>Columns</th>\n",
       "      <th>Feature importance</th>\n",
       "    </tr>\n",
       "  </thead>\n",
       "  <tbody>\n",
       "    <tr>\n",
       "      <th>65</th>\n",
       "      <td>loc_ic_mou_8</td>\n",
       "      <td>0.229710</td>\n",
       "    </tr>\n",
       "    <tr>\n",
       "      <th>134</th>\n",
       "      <td>fb_user_8</td>\n",
       "      <td>0.199777</td>\n",
       "    </tr>\n",
       "    <tr>\n",
       "      <th>14</th>\n",
       "      <td>roam_og_mou_8</td>\n",
       "      <td>0.053592</td>\n",
       "    </tr>\n",
       "    <tr>\n",
       "      <th>119</th>\n",
       "      <td>night_pck_user_8</td>\n",
       "      <td>0.048822</td>\n",
       "    </tr>\n",
       "    <tr>\n",
       "      <th>80</th>\n",
       "      <td>total_ic_mou_8</td>\n",
       "      <td>0.047569</td>\n",
       "    </tr>\n",
       "    <tr>\n",
       "      <th>104</th>\n",
       "      <td>total_rech_data_8</td>\n",
       "      <td>0.018651</td>\n",
       "    </tr>\n",
       "    <tr>\n",
       "      <th>117</th>\n",
       "      <td>night_pck_user_6</td>\n",
       "      <td>0.018212</td>\n",
       "    </tr>\n",
       "    <tr>\n",
       "      <th>132</th>\n",
       "      <td>fb_user_6</td>\n",
       "      <td>0.014097</td>\n",
       "    </tr>\n",
       "    <tr>\n",
       "      <th>95</th>\n",
       "      <td>total_rech_amt_8</td>\n",
       "      <td>0.011499</td>\n",
       "    </tr>\n",
       "    <tr>\n",
       "      <th>120</th>\n",
       "      <td>monthly_2g_6</td>\n",
       "      <td>0.010862</td>\n",
       "    </tr>\n",
       "    <tr>\n",
       "      <th>53</th>\n",
       "      <td>total_og_mou_8</td>\n",
       "      <td>0.010036</td>\n",
       "    </tr>\n",
       "    <tr>\n",
       "      <th>101</th>\n",
       "      <td>last_day_rch_amt_8</td>\n",
       "      <td>0.009389</td>\n",
       "    </tr>\n",
       "    <tr>\n",
       "      <th>153</th>\n",
       "      <td>spl_ic_mou_diff</td>\n",
       "      <td>0.009316</td>\n",
       "    </tr>\n",
       "    <tr>\n",
       "      <th>11</th>\n",
       "      <td>roam_ic_mou_8</td>\n",
       "      <td>0.009002</td>\n",
       "    </tr>\n",
       "    <tr>\n",
       "      <th>121</th>\n",
       "      <td>monthly_2g_7</td>\n",
       "      <td>0.008289</td>\n",
       "    </tr>\n",
       "    <tr>\n",
       "      <th>139</th>\n",
       "      <td>sep_vbc_3g</td>\n",
       "      <td>0.007181</td>\n",
       "    </tr>\n",
       "    <tr>\n",
       "      <th>46</th>\n",
       "      <td>spl_og_mou_7</td>\n",
       "      <td>0.006863</td>\n",
       "    </tr>\n",
       "    <tr>\n",
       "      <th>154</th>\n",
       "      <td>total_ic_mou_diff</td>\n",
       "      <td>0.006539</td>\n",
       "    </tr>\n",
       "    <tr>\n",
       "      <th>118</th>\n",
       "      <td>night_pck_user_7</td>\n",
       "      <td>0.005867</td>\n",
       "    </tr>\n",
       "    <tr>\n",
       "      <th>125</th>\n",
       "      <td>sachet_2g_8</td>\n",
       "      <td>0.005845</td>\n",
       "    </tr>\n",
       "    <tr>\n",
       "      <th>83</th>\n",
       "      <td>spl_ic_mou_8</td>\n",
       "      <td>0.005806</td>\n",
       "    </tr>\n",
       "    <tr>\n",
       "      <th>158</th>\n",
       "      <td>total_rech_data_diff</td>\n",
       "      <td>0.005800</td>\n",
       "    </tr>\n",
       "    <tr>\n",
       "      <th>99</th>\n",
       "      <td>last_day_rch_amt_6</td>\n",
       "      <td>0.005514</td>\n",
       "    </tr>\n",
       "    <tr>\n",
       "      <th>133</th>\n",
       "      <td>fb_user_7</td>\n",
       "      <td>0.005434</td>\n",
       "    </tr>\n",
       "    <tr>\n",
       "      <th>155</th>\n",
       "      <td>total_rech_num_diff</td>\n",
       "      <td>0.005279</td>\n",
       "    </tr>\n",
       "    <tr>\n",
       "      <th>103</th>\n",
       "      <td>total_rech_data_7</td>\n",
       "      <td>0.005275</td>\n",
       "    </tr>\n",
       "    <tr>\n",
       "      <th>43</th>\n",
       "      <td>isd_og_mou_7</td>\n",
       "      <td>0.005134</td>\n",
       "    </tr>\n",
       "    <tr>\n",
       "      <th>102</th>\n",
       "      <td>total_rech_data_6</td>\n",
       "      <td>0.004759</td>\n",
       "    </tr>\n",
       "    <tr>\n",
       "      <th>97</th>\n",
       "      <td>max_rech_amt_7</td>\n",
       "      <td>0.004721</td>\n",
       "    </tr>\n",
       "    <tr>\n",
       "      <th>159</th>\n",
       "      <td>max_rech_data_diff</td>\n",
       "      <td>0.004478</td>\n",
       "    </tr>\n",
       "  </tbody>\n",
       "</table>\n",
       "</div>"
      ],
      "text/plain": [
       "                  Columns  Feature importance\n",
       "65           loc_ic_mou_8            0.229710\n",
       "134             fb_user_8            0.199777\n",
       "14          roam_og_mou_8            0.053592\n",
       "119      night_pck_user_8            0.048822\n",
       "80         total_ic_mou_8            0.047569\n",
       "104     total_rech_data_8            0.018651\n",
       "117      night_pck_user_6            0.018212\n",
       "132             fb_user_6            0.014097\n",
       "95       total_rech_amt_8            0.011499\n",
       "120          monthly_2g_6            0.010862\n",
       "53         total_og_mou_8            0.010036\n",
       "101    last_day_rch_amt_8            0.009389\n",
       "153       spl_ic_mou_diff            0.009316\n",
       "11          roam_ic_mou_8            0.009002\n",
       "121          monthly_2g_7            0.008289\n",
       "139            sep_vbc_3g            0.007181\n",
       "46           spl_og_mou_7            0.006863\n",
       "154     total_ic_mou_diff            0.006539\n",
       "118      night_pck_user_7            0.005867\n",
       "125           sachet_2g_8            0.005845\n",
       "83           spl_ic_mou_8            0.005806\n",
       "158  total_rech_data_diff            0.005800\n",
       "99     last_day_rch_amt_6            0.005514\n",
       "133             fb_user_7            0.005434\n",
       "155   total_rech_num_diff            0.005279\n",
       "103     total_rech_data_7            0.005275\n",
       "43           isd_og_mou_7            0.005134\n",
       "102     total_rech_data_6            0.004759\n",
       "97         max_rech_amt_7            0.004721\n",
       "159    max_rech_data_diff            0.004478"
      ]
     },
     "execution_count": 165,
     "metadata": {},
     "output_type": "execute_result"
    }
   ],
   "source": [
    "# Top 30 important features\n",
    "\n",
    "final = feature_importance.sort_values(by = \"Feature importance\", ascending = False).head(30)\n",
    "final"
   ]
  },
  {
   "cell_type": "code",
   "execution_count": 166,
   "id": "60676e19",
   "metadata": {},
   "outputs": [
    {
     "data": {
      "image/png": "[encoded data removed]",
      "text/plain": [
       "<Figure size 1080x1080 with 1 Axes>"
      ]
     },
     "metadata": {
      "needs_background": "light"
     },
     "output_type": "display_data"
    }
   ],
   "source": [
    "# Bar plot to visualize the important features\n",
    "\n",
    "plt.figure(figsize = [15,15])\n",
    "sns.barplot(x = \"Columns\", y = \"Feature importance\", data = final)\n",
    "plt.title(\"Top 30 important features\", size = 10)\n",
    "plt.xticks(rotation = \"vertical\")\n",
    "plt.ylabel(\"Coefficient magnitude\", size = 10)\n",
    "plt.xlabel(\"Attributes\", size = 10)\n",
    "plt.tick_params(size = 5, labelsize = 15) \n",
    "plt.show()"
   ]
  },
  {
   "cell_type": "markdown",
   "id": "89c63815",
   "metadata": {},
   "source": [
    "## Conclusion"
   ]
  },
  {
   "cell_type": "markdown",
   "id": "ef70d8ef",
   "metadata": {},
   "source": [
    "* If the average revenue per user is higher, and users who are unhappy with the network are more likely to leave/churn.\n",
    "* The number of minutes spent on local calls has an effect on churn.\n",
    "* Churn is also influenced by a large variance in recharge quantity between the 6th (June) and 7th (July) month.\n",
    "* Users who make more roaming calls in both incoming and outgoing calls are more likely to unsubscribe. The company can concentrate on them too."
   ]
  },
  {
   "cell_type": "markdown",
   "id": "1f3f0a23",
   "metadata": {},
   "source": [
    "**Recommendations**\n",
    "\n",
    "1. Considering the roam_og_mou_8 variable, customers who have increased their roaming outbound minutes of use are more likely to churn.\n",
    "2. The network operator(s) must look at their roaming pricing and service quality further.\n",
    "3. It's possible that their roaming rates are less competitive than their competitors.\n",
    "4. Increase the service for all facebook, night pack, roaming users in order to save them from churning\n",
    "5. The company should concentrate on STD and ISD prices. Provide them with STD and ISD bundles packs.\n",
    "7. It is hoped that the telecom company would collect consumer question & complaints data and tailor their services to their demands.\n",
    "8. Provide additional internet services on average recharge packs.\n",
    "9. Customers with increased value-based costs in the action phase are also more likely to churn than other customers. As a result, these clients could be a potential target for an offer.\n",
    "10. For the month of August, customers with declining STD incoming minutes of usage for operators T to fixed lines of T are more likely to unsubscribe.\n",
    "11. In the action phase, target clients who have used less minutes of incoming local and outbound ISD calls (mostly in the month of August).\n",
    "12. Customers with lower outgoing and incoming charges in July and August should be targeted.\n",
    "13. In August, customers with declining incoming minutes of usage for operators T to fixed lines of T are more likely to churn. Focus is needed here."
   ]
  }
 ],
 "metadata": {
  "kernelspec": {
   "display_name": "Python 3 (ipykernel)",
   "language": "python",
   "name": "python3"
  },
  "language_info": {
   "codemirror_mode": {
    "name": "ipython",
    "version": 3
   },
   "file_extension": ".py",
   "mimetype": "text/x-python",
   "name": "python",
   "nbconvert_exporter": "python",
   "pygments_lexer": "ipython3",
   "version": "3.9.7"
  }
 },
 "nbformat": 4,
 "nbformat_minor": 5
}
